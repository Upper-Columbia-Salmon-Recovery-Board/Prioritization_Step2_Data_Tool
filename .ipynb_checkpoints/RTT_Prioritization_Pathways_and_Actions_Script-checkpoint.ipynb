{
 "cells": [
  {
   "cell_type": "markdown",
   "metadata": {},
   "source": [
    "# Script to generate Priority Actions Based on Habitat Quality and Limiting Factor Analysis from Step 2 of RTT Prioritization Process\n",
    "## Author: Ryan Niemeyer, Upper Columbia Salmon Recovery Board\n",
    "### For more information, see https://www.ucsrb.org/prioritization/"
   ]
  },
  {
   "cell_type": "code",
   "execution_count": 2,
   "metadata": {},
   "outputs": [
    {
     "data": {
      "text/html": [
       "<img src=\"https://storage.googleapis.com/ff-storage-p01/festivals/logos/000/051/750/large/logo.jpg?1575572027\" width=\"200\" height=\"200\"/>"
      ],
      "text/plain": [
       "<IPython.core.display.Image object>"
      ]
     },
     "execution_count": 2,
     "metadata": {},
     "output_type": "execute_result"
    }
   ],
   "source": [
    "from IPython.display import Image\n",
    "from IPython.core.display import HTML \n",
    "Image(url= \"https://storage.googleapis.com/ff-storage-p01/festivals/logos/000/051/750/large/logo.jpg?1575572027\", width=200, height=200)"
   ]
  },
  {
   "cell_type": "markdown",
   "metadata": {},
   "source": [
    "## ------------------------------------ Upload Python Libraries -----------------------------------"
   ]
  },
  {
   "cell_type": "code",
   "execution_count": 1,
   "metadata": {},
   "outputs": [],
   "source": [
    "import pandas as pd\n",
    "import numpy as np\n",
    "from matplotlib import pyplot as plt\n",
    "#import geopandas as gpd\n",
    "pd.options.display.max_colwidth = 150 # make it so print statements can be longer\n",
    "pd.options.display.max_columns = None\n",
    "pd.options.display.max_rows = 200\n",
    "# CHEAT SHEET for pd and np commands: https://www.dataquest.io/blog/pandas-cheat-sheet/#:~:text=%20Pandas%20Cheat%20Sheet%20%E2%80%94%20Python%20for%20Data,CSV%2C%20.xlsx%2C%20SQL%2C%20or%20JSON.%20%20More%20\n",
    "# to print entire data frame: pd.set_option('display.max_rows', None)"
   ]
  },
  {
   "cell_type": "markdown",
   "metadata": {},
   "source": [
    "## =======================================================================\n",
    "#              ------------------ Steps in the Code ------------------ \n",
    "## =======================================================================\n",
    "## Code Step 1: Output Directories (need to enter directory/folder)\n",
    "## Code Step 2: Criteria for prioritizatoin output\n",
    "## Code Step 3: Output file locations (from output directory)\n",
    "## Code Step 4: Identify names of tables and columns in data\n",
    "## Code Step 5: Read in data from GitHub\n",
    "## Code Step 6: Habitat Quality Pathway Script\n",
    "## Code Step 7: Limiting Factor Pathway Script\n",
    "## Code Step 8: Priority Actions from Habitat Quality and Limiting Factor Pathways\n",
    "### &nbsp;&nbsp;&nbsp;&nbsp;&nbsp;&nbsp; Code Step 8A: Generate Crosswalk between Habitat Attributes in Habitat Quality Analysis and in Action Category Tables\n",
    "### &nbsp;&nbsp;&nbsp;&nbsp;&nbsp;&nbsp;Code Step 8B: RTT Priority Actions: Generate and Output Action Categories for each Reaches Based on their Habitat Scores"
   ]
  },
  {
   "cell_type": "code",
   "execution_count": null,
   "metadata": {},
   "outputs": [],
   "source": []
  },
  {
   "cell_type": "markdown",
   "metadata": {},
   "source": [
    "## =======================================================================\n",
    "# _ \n",
    "#              ------------------ Code Step 1: Output Directory ------------------ \n",
    "# _\n",
    "## ======================================================================="
   ]
  },
  {
   "cell_type": "code",
   "execution_count": 106,
   "metadata": {},
   "outputs": [],
   "source": [
    "# ----------------- Enter your output file directory here -----------\n",
    "output_location = 'Y:/Example_Directory/Sub_folder_directory/'\n",
    "\n",
    "# --------- just for me -----------\n",
    "output_location = 'Y:/UCRTT/Prioritization/Step 2/Habitat Evaluation/Step2_Prioritization_Python_Output/'\n"
   ]
  },
  {
   "cell_type": "markdown",
   "metadata": {},
   "source": [
    "## =======================================================================\n",
    "# _ \n",
    "#              ------------------ Code Step 2: Criteria for Prioritization Output ------------------ \n",
    "# _\n",
    "## =======================================================================\n",
    "### !!!!! DOUBLE CHECK these are the criteria you want !!!!!!!!!!!!!!"
   ]
  },
  {
   "cell_type": "code",
   "execution_count": null,
   "metadata": {},
   "outputs": [],
   "source": []
  },
  {
   "cell_type": "markdown",
   "metadata": {},
   "source": [
    "## ----------------------------------------------------------------------------------------------------------------------------\n",
    "#             Criteria: Habitat Quality Pathway\n",
    "## ----------------------------------------------------------------------------------------------------------------------------"
   ]
  },
  {
   "cell_type": "code",
   "execution_count": 3,
   "metadata": {},
   "outputs": [],
   "source": [
    "# -------- Assessment Unit (AU) (HUC12) Tier rank (data in habitat_attribute_scores) ----------------\n",
    "AU_Rank = [1]                        # potential: 1, 2, or 3; 1 is high priority, 3 is low priority\n",
    "# --------------- Reach Confinment (data in confinement_scores) --------------------------------\n",
    "Reach_Confinement = [5]              # potential: 1, 3, 5; 1 is higher % confined, 5 is higher % unconfined, based on USGS Valley Confinment Algorithm\n",
    "# --------------- Sum Life Stage (sum of all the life stages present in reach) ---------------------\n",
    "Sum_Life_Stage = [4, 5, 6, 7]   # potential: 1,2,3,4,5,6,7\n",
    "# ----------------- Habitat Quality Score (data in habitat_attribute_scores) -----------------\n",
    "Habitat_Quality_score = [5]      # potential: 1,2,3,4,5; based on \"goldilocks method\" where 5 is highest proirity, 1 is lowest\n",
    "# --------------------- Habitat Attribute Scores-- \"DRAFT Habitat Attribute...\" data (data in Cumul_Habitat_Attribute_Score)\n",
    "# Oct 2020: did [1] (Unacceptable only)   OR [1, 3] (Unaceptable and At Risk)\n",
    "Individual_Habitat_Attribute_Score = [1, 3]   # possible scores - [1,3,5] 1 - unacceptable, 5 - adequate\n"
   ]
  },
  {
   "cell_type": "markdown",
   "metadata": {},
   "source": [
    "## ----------------------------------------------------------------------------------------------------------------------------\n",
    "#             Criteria: Limiting Factor Pathway\n",
    "## ----------------------------------------------------------------------------------------------------------------------------"
   ]
  },
  {
   "cell_type": "code",
   "execution_count": 4,
   "metadata": {},
   "outputs": [],
   "source": [
    "# -------------------------------------------------------------------------------------------------------------\n",
    "#        Variables that are for ANY life stage\n",
    "# -------------------------------------------------------------------------------------------------------------\n",
    "\n",
    "# -------- Assessment Unit (AU) (HUC12) Tier rank (data in habitat_attribute_scores) ----------------\n",
    "AU_Rank = [1]                        #potential: 1,2,3; 1 is high priority, 5 is low priority\n",
    "\n",
    "# --------------------- Habitat Attribute Scores-- \"DRAFT Habitat Attribute...\" data (data in Cumul_Habitat_Attribute_Score)\n",
    "Cumul_Habitat_Attribute_Score = [1]   # potential score: [1, 3, 5]; 1 is unacceptable, 5 is adequate \n",
    "\n",
    "# -------------------------------------------------------------------------------------------------------------\n",
    "#        Variables for SPECIFIC life stages\n",
    "# -------------------------------------------------------------------------------------------------------------\n",
    "\n",
    "# -------------------- Life Stage Priority (LSP) rank is \"High Priority\" (data in AU_Life_Stage_Priorities)  -------------------\n",
    "Life_Stage_Priority = [\"High Priority\"] # potential: [\"Life Stage Not Supported\", \"Low Priority\", \"Medium Priority\", \"High Priority\"] \n",
    "\n",
    "# -------------------- Life Stage is Present is 1 (data in reach_life_stages)  -------------------\n",
    "Reach_Life_Stage_Presence = [1]  # potential: 0 or 1 (1 is present, 0 is not present) \n"
   ]
  },
  {
   "cell_type": "code",
   "execution_count": null,
   "metadata": {},
   "outputs": [],
   "source": [
    "\n"
   ]
  },
  {
   "cell_type": "markdown",
   "metadata": {},
   "source": [
    "## ----------------------------------------------------------------------------------------------------------------------------\n",
    "#             Criteria: RTT Priority Actions\n",
    "## ----------------------------------------------------------------------------------------------------------------------------"
   ]
  },
  {
   "cell_type": "markdown",
   "metadata": {},
   "source": [
    "### ------------------------- Habitat Quality Pathway Criteria ---------------------"
   ]
  },
  {
   "cell_type": "code",
   "execution_count": 5,
   "metadata": {},
   "outputs": [],
   "source": [
    "# ----------------------------- Habitat Quality Criteria ---------------------------\n",
    "# ---------- put the minimum allowable score -----------\n",
    "# cut off value for actions to include for individual habitat attributes in Habitat Quality analysis\n",
    "habitat_quality_priority_score = 5  #HQ script will pull HQ_score for habitat attributes with this OR higher HQ_score values\n",
    "\n",
    "indiv_habitat_attribute_score = 1 # for pulling actions JUST from \n",
    "# note - this is redundant with the habitat_quality_priority_score:    limiting_factor_priority_score = 1"
   ]
  },
  {
   "cell_type": "markdown",
   "metadata": {},
   "source": [
    "### ------------------------- Limiting Factor Pathway Criteria ---------------------"
   ]
  },
  {
   "cell_type": "code",
   "execution_count": 6,
   "metadata": {},
   "outputs": [],
   "source": [
    "# --------------- Reach Confinment (data in confinement_scores) --------------------------------\n",
    "# 1, 3, 5, where 1 is higher % confined, 5 is higher % unconfined, based on USGS Valley Confinment Algorithm\n",
    "# Habitat Quality analysis filters out based on confinement during intitial filters\n",
    "\n",
    "Reach_Confinement_Limiting_Factors = {                  \n",
    "    'Floodplain Reconnection': ['5'] }"
   ]
  },
  {
   "cell_type": "code",
   "execution_count": null,
   "metadata": {},
   "outputs": [],
   "source": []
  },
  {
   "cell_type": "markdown",
   "metadata": {},
   "source": [
    "## =======================================================================\n",
    "# _ \n",
    "#              ------------------ Code Step 3: Output Files ------------------ \n",
    "# _\n",
    "## =======================================================================\n",
    "### Note: these files will all be output to the \"output_location\" directory"
   ]
  },
  {
   "cell_type": "code",
   "execution_count": null,
   "metadata": {},
   "outputs": [],
   "source": []
  },
  {
   "cell_type": "markdown",
   "metadata": {},
   "source": [
    "## ----------------------------------------------------------------------------------------------------------------------------\n",
    "#             Output: Habitat Quality Pathway\n",
    "## ----------------------------------------------------------------------------------------------------------------------------"
   ]
  },
  {
   "cell_type": "code",
   "execution_count": 7,
   "metadata": {},
   "outputs": [
    {
     "name": "stdout",
     "output_type": "stream",
     "text": [
      "output for Spring Chinook habitat quality table: \n",
      "Y:/UCRTT/Prioritization/Step 2/Habitat Evaluation/Step2_Prioritization_Python_Output/Habitat_Quality_Output_Spring_Chinook.xlsx\n",
      "   \n",
      "output for Steelhead habitat quality table: \n",
      "Y:/UCRTT/Prioritization/Step 2/Habitat Evaluation/Step2_Prioritization_Python_Output/Habitat_Quality_Output_Steelhead.xlsx\n"
     ]
    }
   ],
   "source": [
    "output_name_Spring_Chinook = 'Habitat_Quality_Output_Spring_Chinook.xlsx'\n",
    "output_name_Steelhead = 'Habitat_Quality_Output_Steelhead.xlsx'\n",
    "output_location_Spring_Chinook =  output_location + output_name_Spring_Chinook\n",
    "output_location_Steelhead =  output_location + output_name_Steelhead\n",
    "print('output for Spring Chinook habitat quality table: ')\n",
    "print(output_location_Spring_Chinook)\n",
    "print(\"   \")\n",
    "print('output for Steelhead habitat quality table: ' )\n",
    "print(output_location_Steelhead)"
   ]
  },
  {
   "cell_type": "code",
   "execution_count": null,
   "metadata": {},
   "outputs": [],
   "source": []
  },
  {
   "cell_type": "markdown",
   "metadata": {},
   "source": [
    "## ----------------------------------------------------------------------------------------------------------------------------\n",
    "#             Output: Limiting Factors Pathway\n",
    "## ----------------------------------------------------------------------------------------------------------------------------"
   ]
  },
  {
   "cell_type": "code",
   "execution_count": 9,
   "metadata": {},
   "outputs": [
    {
     "name": "stdout",
     "output_type": "stream",
     "text": [
      "output directory: \n",
      "['Y:/UCRTT/Prioritization/Step 2/Habitat Evaluation/Step2_Prioritization_Python_Output/Limiting_Factor_Output,Steelhead,Adult_Migration.xlsx', 'Y:/UCRTT/Prioritization/Step 2/Habitat Evaluation/Step2_Prioritization_Python_Output/Limiting_Factor_Output,Steelhead,Holding_and_Maturation.xlsx', 'Y:/UCRTT/Prioritization/Step 2/Habitat Evaluation/Step2_Prioritization_Python_Output/Limiting_Factor_Output,Steelhead,Spawning.xlsx', 'Y:/UCRTT/Prioritization/Step 2/Habitat Evaluation/Step2_Prioritization_Python_Output/Limiting_Factor_Output,Steelhead,Fry.xlsx', 'Y:/UCRTT/Prioritization/Step 2/Habitat Evaluation/Step2_Prioritization_Python_Output/Limiting_Factor_Output,Steelhead,Summer_Rearing.xlsx', 'Y:/UCRTT/Prioritization/Step 2/Habitat Evaluation/Step2_Prioritization_Python_Output/Limiting_Factor_Output,Steelhead,Winter_Rearing.xlsx', 'Y:/UCRTT/Prioritization/Step 2/Habitat Evaluation/Step2_Prioritization_Python_Output/Limiting_Factor_Output,Steelhead,Smolt.xlsx']\n"
     ]
    }
   ],
   "source": [
    "# ---------- output directory ------------------------------\n",
    "\n",
    "# -------------------- List the life stages --------------\n",
    "life_stages_all = {                   'life_stages': ['Adult Migration','Holding and Maturation','Spawning','Fry','Summer Rearing',\n",
    "                   'Winter Rearing','Smolt']\n",
    "} \n",
    "# create data frame \n",
    "life_stages_all = pd.DataFrame(life_stages_all, columns = ['life_stages']) \n",
    "\n",
    "\n",
    "# ------------------------ Spring Chinook output paths ---------------\n",
    "species_x = \"Spring_Chinook\"\n",
    "Output_Spring_Chinook_list = []\n",
    "for i in range(life_stages_all.shape[0]):\n",
    "    \n",
    "    # ------- generate life stage name for file name -----\n",
    "    life_stage_output_string = str(life_stages_all.loc[i][0]).replace(\" \", \"_\")\n",
    "    # --------- generate path for life stage output ----------\n",
    "    pathx = output_location + \"Limiting_Factor_Output,\" + species_x + \",\"  + life_stage_output_string + \".xlsx\"\n",
    "    # for all reaches pathx = output_location + \"Limiting_Factor_Output,\" + species_x + \",ALL_REACHES,\"  + life_stage_output_string + \".xlsx\"\n",
    "    # -------- append directory path to list ------\n",
    "    Output_Spring_Chinook_list.append(pathx)\n",
    "    \n",
    "\n",
    "# ------------------------ Steelhead output paths ---------------\n",
    "species_x = \"Steelhead\"\n",
    "Output_Steelhead_list = []\n",
    "for i in range(life_stages_all.shape[0]):\n",
    "    \n",
    "    # ------- generate life stage name for file name -----\n",
    "    life_stage_output_string = str(life_stages_all.loc[i][0]).replace(\" \", \"_\")\n",
    "    # --------- generate path for life stage output ----------\n",
    "    pathx = output_location + \"Limiting_Factor_Output,\" + species_x + \",\"  + life_stage_output_string + \".xlsx\"\n",
    "    # for all reachespathx = output_location + \"Limiting_Factor_Output,\" + species_x + \",ALL_REACHES,\"  + life_stage_output_string + \".xlsx\"\n",
    "    # -------- append directory path to list ------\n",
    "    Output_Steelhead_list.append(pathx)\n",
    "    \n",
    "    \n",
    "\n",
    "print('output directory: ' )\n",
    "print(Output_Steelhead_list)\n",
    "\n",
    "# ------------------------ Output the combined limting factor (for each species) ----------\n",
    "output_location_master_spring_chinook = output_location + 'Limiting_Factor,Spring_Chinook,all_Life_Stages,ALL_SCORES.xlsx'\n",
    "output_location_master_steelhead = output_location + 'Limiting_Factor,Steelhead,all_Life_Stages,ALL_SCORES.xlsx'\n",
    "\n",
    "# ---------------------------- Output Life Stage Habitat Quality Assessment for both species -------------\n",
    "output_location_life_stage_assessment_spring_chinook = output_location + 'Life_Stage_Habitat_Quality_Assessment_Spring_Chinook.xlsx'\n",
    "output_location_life_stage_assessment_steelhead = output_location + 'Life_Stage_Habitat_Quality_Assessment_Steelhead.xlsx'\n"
   ]
  },
  {
   "cell_type": "code",
   "execution_count": null,
   "metadata": {},
   "outputs": [],
   "source": []
  },
  {
   "cell_type": "markdown",
   "metadata": {},
   "source": [
    "## ----------------------------------------------------------------------------------------------------------------------------\n",
    "#             Output: RTT Priority Actions\n",
    "## ----------------------------------------------------------------------------------------------------------------------------"
   ]
  },
  {
   "cell_type": "code",
   "execution_count": 10,
   "metadata": {},
   "outputs": [
    {
     "name": "stdout",
     "output_type": "stream",
     "text": [
      "output for Habitat Attributes and Actions List: \n",
      "Y:/UCRTT/Prioritization/Step 2/Habitat Evaluation/Step2_Prioritization_Python_Output/Crosswalk_Habitat_Attributes_and_Actions.xlsx\n",
      "    \n"
     ]
    }
   ],
   "source": [
    "# ------------------------ Output for Crosswalk between Habitat Attributes and Action Categories and Type\n",
    "output_Crosswalk_Habitat_Attributes_and_Actions = 'Crosswalk_Habitat_Attributes_and_Actions.xlsx'\n",
    "# ONLY for if someone else is using the original    output_Crosswalk_Habitat_Attributes_and_Actions   = 'Crosswalk_Habitat_Attributes_and_Actions_8Sept2020_Copy_for_Python_if_Original_being_used.xlsx'\n",
    "output_location = 'Y:/UCRTT/Prioritization/Step 2/Habitat Evaluation/Step2_Prioritization_Python_Output/'\n",
    "output_Crosswalk_Habitat_Attributes_and_Actions =  output_location + output_Crosswalk_Habitat_Attributes_and_Actions\n",
    "print('output for Habitat Attributes and Actions List: ' )\n",
    "print(output_Crosswalk_Habitat_Attributes_and_Actions)\n",
    "print(\"    \")\n",
    "\n",
    "# ---------- Habitat Quality- Reach Assessment Projects Only -----------\n",
    "output_name_Spring_Chinook_Habitat_Quality = 'Prioritized_Project_List_Habitat_Quality_Output_Spring_Chinook_Sept23.xlsx'\n",
    "output_name_Steelhead_Habitat_Quality  = 'Prioritized_Project_List_Habitat_Quality_Output_Steelhead_Sept23.xlsx'\n",
    "output_location_Spring_Chinook_Habitat_Quality_Projects_only =  output_location + output_name_Spring_Chinook_Habitat_Quality\n",
    "output_location_Steelhead_Habitat_Quality_Projects_only =  output_location + output_name_Steelhead_Habitat_Quality\n",
    "\n",
    "# ---------- Habitat Quality- Action Categories/Types for all impaired reaches, and Projects when present -----------\n",
    "output_name_Spring_Chinook_Habitat_Quality_Actions = 'Impaired_Habitat_Reaches_Actions_List_Habitat_Quality_Output_Spring_Chinook_Sept23.xlsx'\n",
    "output_name_Steelhead_Habitat_Quality_Actions  = 'Impaired_Habitat_Reaches_Actions_Habitat_Quality_Output_Steelhead_Sept23.xlsx'\n",
    "output_location_Spring_Chinook_Habitat_Quality_All_Actions =  output_location + output_name_Spring_Chinook_Habitat_Quality_Actions\n",
    "output_location_Steelhead_Habitat_Quality_All_Actions =  output_location + output_name_Steelhead_Habitat_Quality_Actions\n",
    "\n",
    "# ---------- Limiting Factors - All Projects ------------\n",
    "output_name_Spring_Chinook_Limiting_Factors = 'Prioritized_Project_List_Limiting_Factors_Output_Spring_Chinook_Sept23.xlsx'\n",
    "output_name_Steelhead_Limiting_Factors = 'Prioritized_Project_List_Limiting_Factors_Output_Steelhead_Sept23.xlsx'\n",
    "output_location_Spring_Chinook_Limiting_Factors_All_Projects =  output_location + output_name_Spring_Chinook_Limiting_Factors\n",
    "output_location_Steelhead_Limiting_Factors_All_Projects =  output_location + output_name_Steelhead_Limiting_Factors\n",
    "\n",
    "# ---------- Limiting Factors - all actions for impaired life stages ------------\n",
    "output_name_Spring_Chinook_Limiting_Factors = 'Impaired_Habitat_Reaches_Actions_List_Limiting_Factors_Output_Spring_Chinook_Sept23.xlsx'\n",
    "output_name_Steelhead_Limiting_Factors = 'Impaired_Habitat_Reaches_Actions_List_Limiting_Factors_Output_Steelhead_Sept23.xlsx'\n",
    "output_location_Spring_Chinook_Limiting_Factors_All_Actions =  output_location + output_name_Spring_Chinook_Limiting_Factors\n",
    "output_location_Steelhead_Limiting_Factors_All_Actions =  output_location + output_name_Steelhead_Limiting_Factors\n",
    "\n",
    "# ---------------------- Output for large output file with all reaches and projects for habitat attributes for reaches ----\n",
    "output_name_Spring_Chinook_Limiting_Factors = 'COMPLETE_Project_List_Limiting_Factors_Output_Spring_Chinook_ALL_reaches.xlsx'\n",
    "output_name_Steelhead_Limiting_Factors = 'COMPLETE_Prioritized_Project_List_Limiting_Factors_Output_Steelhead_ALL_reaches.xlsx'\n",
    "output_location_COMPLETE_Spring_Chinook_Limiting_Factors =  output_location + output_name_Spring_Chinook_Limiting_Factors\n",
    "output_location_COMPLETE_Steelhead_Limiting_Factors =  output_location + output_name_Steelhead_Limiting_Factors\n",
    "\n"
   ]
  },
  {
   "cell_type": "code",
   "execution_count": null,
   "metadata": {},
   "outputs": [],
   "source": []
  },
  {
   "cell_type": "markdown",
   "metadata": {},
   "source": [
    "## =======================================================================\n",
    "# _ \n",
    "#              ------------------ Code Step 4: Table and Column Names ------------------ \n",
    "# _\n",
    "## =======================================================================\n",
    "### Note: will only need to update or change this section if the spreadsheet column names change"
   ]
  },
  {
   "cell_type": "code",
   "execution_count": null,
   "metadata": {},
   "outputs": [],
   "source": []
  },
  {
   "cell_type": "markdown",
   "metadata": {},
   "source": [
    "## ----------------------------------------------------------------------------------------------------------------------------\n",
    "#             Tables: Habitat Quality Pathway\n",
    "## ----------------------------------------------------------------------------------------------------------------------------"
   ]
  },
  {
   "cell_type": "code",
   "execution_count": 107,
   "metadata": {},
   "outputs": [],
   "source": [
    "# ------ AU_rank_vars = habitat_attribute_scores = 'AU Tier Spring CHN' and 'AU Tier Steelhead'\n",
    "AU_Rank_vars = { \n",
    " 'data_frame': ['habitat_quality_scores', 'habitat_quality_scores'  ], \n",
    " 'variable': ['AU Rank Sp CHN' , 'AU Rank STL'] \n",
    "} \n",
    "# create a dataframe \n",
    "AU_Rank_vars = pd.DataFrame(AU_Rank_vars, columns = ['data_frame', 'variable']) \n",
    "\n",
    "AU_Rank_vars2 = { \n",
    " 'data_frame': ['habitat_quality_scores', 'habitat_quality_scores'  ], \n",
    " 'variable': ['AU Tier Spring CHN' , 'AU Tier Steelhead'] \n",
    "} \n",
    "# create a dataframe \n",
    "AU_Rank_vars2 = pd.DataFrame(AU_Rank_vars2, columns = ['data_frame', 'variable']) \n",
    "\n",
    "\n",
    "# ------ Reach_Confinement: confinement_scores = 'Score' -------\n",
    "Reach_Confinement_vars = { \n",
    " 'data_frame': ['confinement_scores' ], \n",
    " 'variable': ['Score'] \n",
    "} \n",
    "# create a dataframe \n",
    "Reach_Confinement_vars = pd.DataFrame(Reach_Confinement_vars, columns = ['data_frame', 'variable']) \n",
    "\n",
    "\n",
    "# ------ Sum_Life_Stage:   reach_life_stages = 'Sum_LifeStage'\n",
    "Sum_Life_Stage_vars = { \n",
    " 'data_frame': ['reach_life_stages'  ], \n",
    " 'variable': ['TotalNum_LS']\n",
    "    \n",
    "} \n",
    "# create a dataframe \n",
    "Sum_Life_Stage_vars = pd.DataFrame(Sum_Life_Stage_vars, columns = ['data_frame', 'variable']) \n",
    "\n",
    "\n",
    "# ------ Habitat_Quality_score: habitat_attribute_scores = 'DRAFT Habitat Attribute Score (Currently MAX Score OR \"0\" if NA)'\n",
    "Habitat_Quality_score_vars = { \n",
    " 'data_frame': ['habitat_quality_scores' ], \n",
    " 'variable': ['HQ_Score'] \n",
    "} \n",
    "# create a dataframe \n",
    "Habitat_Quality_score_vars = pd.DataFrame(Habitat_Quality_score_vars, columns = ['data_frame', 'variable']) \n"
   ]
  },
  {
   "cell_type": "markdown",
   "metadata": {},
   "source": [
    "## ----------------------------------------------------------------------------------------------------------------------------\n",
    "#             Tables: Limiting Factors Pathway\n",
    "## ----------------------------------------------------------------------------------------------------------------------------"
   ]
  },
  {
   "cell_type": "code",
   "execution_count": 108,
   "metadata": {},
   "outputs": [],
   "source": [
    "# ---------------------------------------------------------------------------------------------------------------------------\n",
    "#  Limiting Factor Percent: Scoring Rules\n",
    "# ---------------------------------------------------------------------------------------------------------------------------\n",
    "# Update to reflect changes in percentage of reaches that have habitat attribute that is a limiting factor\n",
    "\n",
    "#--------------- The three scores possible ------------\n",
    "scores_limiting_factors_prcnt_reaches = [1, 3, 5]\n",
    "\n",
    "# --------------- ranges for percent of reaches in an Assessment Unit to quality for three scores ------------\n",
    "score_cutoff_percent_of_reaches = { \n",
    " 'cut_off': [0.3,0.6],\n",
    "} \n",
    "# create a dataframe \n",
    "score_cutoff_percent_of_reaches = pd.DataFrame(score_cutoff_percent_of_reaches, columns = ['cut_off']) "
   ]
  },
  {
   "cell_type": "code",
   "execution_count": 109,
   "metadata": {},
   "outputs": [],
   "source": [
    "# -------------------------------------------------------------------------------------------------------------\n",
    "#\n",
    "#        Variables that are for ANY life stage\n",
    "#\n",
    "# -------------------------------------------------------------------------------------------------------------\n",
    "\n",
    "# ------ Habitat_Attribute_score: habitat_attribute_scores = 'DRAFT Habitat Attribute Score (Currently MAX Score OR \"0\" if NA)'\n",
    "Cumul_Habitat_Attribute_Score_vars = { \n",
    " 'data_frame': ['Cumul_Habitat_Attribute_Score' ], \n",
    " 'variable': ['DRAFT Habitat Attribute Score (Currently MIN Score OR NA)'] \n",
    "} \n",
    "# create a dataframe \n",
    "Cumul_Habitat_Attribute_Score_vars = pd.DataFrame(Cumul_Habitat_Attribute_Score_vars, columns = ['data_frame', 'variable']) \n",
    "\n",
    "\n",
    "# -------------------------------------------------------------------------------------------------------------\n",
    "#\n",
    "#       Variables for SPECIFIC life stages\n",
    "#\n",
    "# -------------------------------------------------------------------------------------------------------------\n",
    "\n",
    "# ------ AU Life Stage Priority: AU_Life_Stage_Priorities = the life stages-------\n",
    "Life_Stage_Priority_vars = { \n",
    " 'data_frame': ['AU_Life_Stage_Priorities','AU_Life_Stage_Priorities','AU_Life_Stage_Priorities','AU_Life_Stage_Priorities',\n",
    "               'AU_Life_Stage_Priorities','AU_Life_Stage_Priorities','AU_Life_Stage_Priorities'], \n",
    " 'variable_SPCH': ['SPCH_AdultMigrationLSP', 'SPCH_HoldingLSP', 'SPCH_SpawnLSP', 'SPCH_FryLSP', 'SPCH_SummerRearingLSP',\n",
    "              'SPCH_WinterRearingLSP', 'SPCH_SmoltLSP'],\n",
    "     'variable_SH': ['SH_AdultMigrationLSP','SH_HoldingLSP','SH_SpawningLSP','SH_FryLSP','SH_SummerRearingLSP',\n",
    "                       'SH_WinterRearingLSP','SH_SmoltLSP'],\n",
    "     'variable': ['Adult Migration','Holding and Maturation','Spawning','Fry','Summer Rearing',\n",
    "                   'Winter Rearing','Smolt']\n",
    "} \n",
    "# create a dataframe \n",
    "Life_Stage_Priority_vars = pd.DataFrame(Life_Stage_Priority_vars, columns = ['data_frame', 'variable_SPCH','variable_SH','variable']) \n",
    "\n",
    "\n",
    "# ------ Reach Life Stage: reach_life_stages = the life stages -------\n",
    "Reach_Life_Stage_Presence_vars = { \n",
    " 'data_frame': ['Reach_Life_Stage_Presence','Reach_Life_Stage_Presence','Reach_Life_Stage_Presence','Reach_Life_Stage_Presence',\n",
    "               'Reach_Life_Stage_Presence','Reach_Life_Stage_Presence','Reach_Life_Stage_Presence'], \n",
    " 'variable_SPCH': ['SPCH_Adult_Migration','SPCH_Holding','SPCH_Spawning','SPCH_Fry_Colonization','SPCH_Summer_Rearing',\n",
    "                   'SPCH_Winter_Rearing','SPCH_Smolt_Emigration'],\n",
    "    \n",
    "     'variable_SH': ['SH_Adult_Migration', 'SH_Holding', 'SH_Spawning','SH_Fry_Colonization', 'SH_Summer_Rearing', \n",
    "                     'SH_Winter_Rearing', 'SH_Smolt_Emigration'] \n",
    "} \n",
    "# create a dataframe \n",
    "Reach_Life_Stage_Presence_vars = pd.DataFrame(Reach_Life_Stage_Presence_vars, columns = ['data_frame', 'variable_SPCH','variable_SH']) \n",
    "\n",
    "# ------ Life Stage Habitat Attributes: life_stage_habitat = Life Stage -------\n",
    "Life_Stage_Habitat_Attributes_vars = { \n",
    " 'data_frame': ['life_stage_habitat','life_stage_habitat','life_stage_habitat','life_stage_habitat',\n",
    "               'life_stage_habitat','life_stage_habitat','life_stage_habitat'], \n",
    " 'variable': ['Adult Migration', 'Holding and Maturation', 'Spawning and Incubation', 'Fry',\n",
    "                    'Summer Rearing', 'Winter Rearing', 'Smolt Outmigration'] \n",
    "} \n",
    "# create a dataframe \n",
    "Life_Stage_Habitat_Attributes_vars = pd.DataFrame(Life_Stage_Habitat_Attributes_vars, columns = ['data_frame', 'variable']) \n",
    "\n",
    "\n",
    "\n",
    "# -------------------- List the life stages --------------\n",
    "life_stages_all = {                   'life_stages': ['Adult Migration','Holding and Maturation','Spawning','Fry','Summer Rearing',\n",
    "                   'Winter Rearing','Smolt']\n",
    "} \n",
    "# create data frame \n",
    "life_stages_all = pd.DataFrame(life_stages_all, columns = ['life_stages']) \n",
    "\n",
    "\n",
    "# ------ Sum_Life_Stage:   reach_life_stages = 'Sum_LifeStage'\n",
    "Sum_Life_Stage_vars = { \n",
    " 'data_frame': ['reach_life_stages'  ], \n",
    " 'variable': ['TotalNum_LS']\n",
    "    \n",
    "} \n",
    "# create a dataframe \n",
    "Sum_Life_Stage_vars = pd.DataFrame(Sum_Life_Stage_vars, columns = ['data_frame', 'variable']) \n",
    "\n",
    "\n"
   ]
  },
  {
   "cell_type": "markdown",
   "metadata": {},
   "source": [
    "## ----------------------------------------------------------------------------------------------------------------------------\n",
    "#             Tables: RTT Priority Actions\n",
    "## ----------------------------------------------------------------------------------------------------------------------------"
   ]
  },
  {
   "cell_type": "code",
   "execution_count": 110,
   "metadata": {},
   "outputs": [],
   "source": [
    "# ---------------------------------- Reach Confinement Scores Table for Limiting Pathways ---------------------\n",
    "# ------ Reach_Confinement: confinement_scores = 'Score' -------\n",
    "Reach_Confinement_vars = { \n",
    " 'data_frame': ['confinement_scores' ], \n",
    " 'variable': ['Score'] \n",
    "} \n",
    "# create a dataframe \n",
    "Reach_Confinement_vars = pd.DataFrame(Reach_Confinement_vars, columns = ['data_frame', 'variable']) \n"
   ]
  },
  {
   "cell_type": "code",
   "execution_count": 111,
   "metadata": {},
   "outputs": [],
   "source": [
    "# ------------------------- Table/List for the life stages ----------------------\n",
    "life_stages_all = {                   'life_stages': ['Adult Migration','Holding and Maturation','Spawning','Fry',\n",
    "                                                      'Summer Rearing','Winter Rearing','Smolt'] } \n",
    "# create data frame \n",
    "life_stages_all = pd.DataFrame(life_stages_all, columns = ['life_stages']) "
   ]
  },
  {
   "cell_type": "markdown",
   "metadata": {},
   "source": [
    "## =======================================================================\n",
    "# _ \n",
    "#              ------------------ Code Step 5: Read in Data from GitHub ------------------ \n",
    "# _\n",
    "## ======================================================================="
   ]
  },
  {
   "cell_type": "code",
   "execution_count": null,
   "metadata": {},
   "outputs": [],
   "source": []
  },
  {
   "cell_type": "markdown",
   "metadata": {},
   "source": [
    "## ----------------------------------------------------------------------------------------------------------------------------\n",
    "#             Data: Habitat Quality Pathway\n",
    "## ----------------------------------------------------------------------------------------------------------------------------"
   ]
  },
  {
   "cell_type": "code",
   "execution_count": null,
   "metadata": {},
   "outputs": [],
   "source": []
  },
  {
   "cell_type": "code",
   "execution_count": 43,
   "metadata": {},
   "outputs": [],
   "source": [
    "# ------------------------------------- Habitat Quality Scores -----------------------\n",
    "#habitat_quality_scores = pd.read_excel('Y:/UCRTT/Prioritization/Step 2/Habitat Evaluation/MASTER_Step2_HabitatAnalysis.xlsx', \n",
    "#                   'HabitatQuality_Scores')\n",
    "github_input_x = 'https://github.com/Upper-Columbia-Salmon-Recovery-Board/Prioritization_Step2_Data_Tool/blob/master/habitat_quality_scores.xlsx?raw=true'\n",
    "habitat_quality_scores = pd.read_excel(github_input_x)"
   ]
  },
  {
   "cell_type": "code",
   "execution_count": 34,
   "metadata": {},
   "outputs": [],
   "source": [
    "# ------------------------------------- Confinement Scores -----------------------\n",
    "#confinement_scores = pd.read_excel('Y:/UCRTT/Prioritization/Step 2/Habitat Evaluation/MASTER_Step2_HabitatAnalysis.xlsx', \n",
    "#                   'Confinement_Scores')\n",
    "github_input_x = 'https://github.com/Upper-Columbia-Salmon-Recovery-Board/Prioritization_Step2_Data_Tool/blob/master/Confinement_Scores.xlsx?raw=true'\n",
    "confinement_scores = pd.read_excel(github_input_x, index_col=0)"
   ]
  },
  {
   "cell_type": "code",
   "execution_count": 28,
   "metadata": {},
   "outputs": [],
   "source": [
    "# ------------------------- Reach-level Life Stages Priority ------------------------------------\n",
    "#reach_life_stages_Spring_Chinook = pd.read_excel('Y:/UCRTT/Prioritization/Step 2/Habitat Evaluation/MASTER_Step2_HabitatAnalysis.xlsx', \n",
    "#                   'Reaches Life Stage Spring Chino')\n",
    "#reach_life_stages_Steelhead = pd.read_excel('Y:/UCRTT/Prioritization/Step 2/Habitat Evaluation/MASTER_Step2_HabitatAnalysis.xlsx', \n",
    "#                   'Reaches Life Stage Steelhead')\n",
    "\n",
    "reach_life_stages_Spring_Chinook = pd.read_excel('https://github.com/Upper-Columbia-Salmon-Recovery-Board/Prioritization_Step2_Data_Tool/blob/master/reach_life_stages_Spring_Chinook.xlsx?raw=true')\n",
    "reach_life_stages_Steelhead = pd.read_excel('https://github.com/Upper-Columbia-Salmon-Recovery-Board/Prioritization_Step2_Data_Tool/blob/master/reach_life_stages_Steelhead.xlsx?raw=true')\n"
   ]
  },
  {
   "cell_type": "code",
   "execution_count": 35,
   "metadata": {},
   "outputs": [],
   "source": [
    "#habitat_attribute_scores = pd.read_excel('Y:/UCRTT/Prioritization/Step 2/Habitat Evaluation/MASTER_Step2_HabitatAnalysis.xlsx', \n",
    "#                   'HabitatAttribute_Scores')\n",
    "\n",
    "\n",
    "habitat_attribute_scores = pd.read_excel( 'https://github.com/Upper-Columbia-Salmon-Recovery-Board/Prioritization_Step2_Data_Tool/blob/master/habitat_attribute_scores.xlsx?raw=true')"
   ]
  },
  {
   "cell_type": "code",
   "execution_count": 36,
   "metadata": {},
   "outputs": [],
   "source": [
    "#habitat_attribute_lifestage = pd.read_excel('Y:/UCRTT/Prioritization/Step 2/Habitat Evaluation/MASTER_Step2_HabitatAnalysis.xlsx', \n",
    "#                   'HabitatAttribute_byLifeStage')\n",
    "\n",
    "habitat_attribute_lifestage = pd.read_excel('https://github.com/Upper-Columbia-Salmon-Recovery-Board/Prioritization_Step2_Data_Tool/blob/master/habitat_attribute_lifestage.xlsx?raw=true')"
   ]
  },
  {
   "cell_type": "code",
   "execution_count": 30,
   "metadata": {},
   "outputs": [],
   "source": [
    "# ----------------------------- Open Tables from Habitat Database: Reach Life Stage ------------------------------\n",
    "#AU_life_stage_priorities = pd.read_excel('Y:/UCRTT/Prioritization/Step 2/Habitat Evaluation/MASTER_Step2_SECOND_HabitatAnalysis.xlsx', \n",
    "#                   'AU_Life_Stage_Priorities')\n",
    "\n",
    "AU_life_stage_priorities = pd.read_excel('https://github.com/Upper-Columbia-Salmon-Recovery-Board/Prioritization_Step2_Data_Tool/blob/master/AU_life_stage_priorities.xlsx?raw=true')"
   ]
  },
  {
   "cell_type": "code",
   "execution_count": 31,
   "metadata": {},
   "outputs": [],
   "source": [
    "# ----------- Upload tabs for table that is crosswalk between Habitat Attributes and Project Categories\n",
    "#Habitat_Attribute_Category_Data = pd.read_excel('Y:/UCRTT/Prioritization/Step 2/Projects/Action_CategoryandType_DRAFT09022020xlsx.xlsx', \n",
    "#                   'Attribute_Category')\n",
    "Habitat_Attribute_Category_Data = pd.read_excel('https://github.com/Upper-Columbia-Salmon-Recovery-Board/Prioritization_Step2_Data_Tool/blob/master/Habitat_Attribute_Category_Data.xlsx?raw=true')"
   ]
  },
  {
   "cell_type": "code",
   "execution_count": null,
   "metadata": {},
   "outputs": [],
   "source": [
    "# -------------- Upload Project List, copied over from Reach Assessments -------------------------------------------------\n",
    "#Category_Type_Data = pd.read_excel('Y:/UCRTT/Prioritization/Step 2/Projects/Action_CategoryandType_DRAFT09022020xlsx.xlsx', \n",
    "#                   'Cateogry_Type')\n",
    "#Project_List_Data = pd.read_excel('Y:/UCRTT/Prioritization/Step 2/Projects/Updated_091120_ProjectTable_RAs.xlsx', \n",
    "#                   'Data_Entry')"
   ]
  },
  {
   "cell_type": "code",
   "execution_count": null,
   "metadata": {},
   "outputs": [],
   "source": []
  },
  {
   "cell_type": "markdown",
   "metadata": {},
   "source": [
    "## =======================================================================\n",
    "# _ \n",
    "#              ------------------ Code Step 6: Habitat Quality Scripts ------------------ \n",
    "# _\n",
    "## ======================================================================="
   ]
  },
  {
   "cell_type": "code",
   "execution_count": null,
   "metadata": {},
   "outputs": [],
   "source": []
  },
  {
   "cell_type": "markdown",
   "metadata": {},
   "source": [
    "## ----------------------------------------------------------------------------------------------------------------------------\n",
    "##             Spring Chinook\n",
    "## ----------------------------------------------------------------------------------------------------------------------------"
   ]
  },
  {
   "cell_type": "code",
   "execution_count": null,
   "metadata": {},
   "outputs": [],
   "source": []
  },
  {
   "cell_type": "markdown",
   "metadata": {},
   "source": [
    "## -------------------------------------------------------- \n",
    "### Use Criteria to Generate Table for Spring Chinook \n",
    "## -------------------------------------------------------- "
   ]
  },
  {
   "cell_type": "code",
   "execution_count": null,
   "metadata": {},
   "outputs": [],
   "source": []
  },
  {
   "cell_type": "markdown",
   "metadata": {},
   "source": [
    "### --------------- Filter out to only have Spring Chinook reaches ------------"
   ]
  },
  {
   "cell_type": "code",
   "execution_count": 46,
   "metadata": {},
   "outputs": [
    {
     "name": "stdout",
     "output_type": "stream",
     "text": [
      "initial number of reaches: 739\n",
      "number of reaches after including only Spring Chinook reaches: 393\n"
     ]
    }
   ],
   "source": [
    "spring_chinook_reaches_true = ['yes']\n",
    "Spring_Chinook_data_frame = habitat_quality_scores.loc[habitat_quality_scores['Spring.Chinook.Reach'].isin(spring_chinook_reaches_true)] \n",
    "print('initial number of reaches: ' + str(habitat_quality_scores.shape[0]) )\n",
    "print('number of reaches after including only Spring Chinook reaches: ' + str(Spring_Chinook_data_frame.shape[0]) )"
   ]
  },
  {
   "cell_type": "markdown",
   "metadata": {},
   "source": [
    "### ------------ Filter out by AU Rank - NOTE - change \"variable\" based on species ---------------------"
   ]
  },
  {
   "cell_type": "code",
   "execution_count": 64,
   "metadata": {},
   "outputs": [
    {
     "name": "stdout",
     "output_type": "stream",
     "text": [
      "number of reaches after AU criteria: 135\n"
     ]
    }
   ],
   "source": [
    "# NOTE: need to change variable to 0 or 1 (AU_Rank_vars['variable'][1]) based on species \n",
    "Spring_Chinook_data_frame = Spring_Chinook_data_frame.loc[Spring_Chinook_data_frame[AU_Rank_vars['variable'][0]].isin(AU_Rank)] \n",
    "print('number of reaches after AU criteria: ' + str(Spring_Chinook_data_frame.shape[0]) )"
   ]
  },
  {
   "cell_type": "markdown",
   "metadata": {},
   "source": [
    "### ------------------------- Filter out by Habitat Quality Score -------------------------"
   ]
  },
  {
   "cell_type": "code",
   "execution_count": 65,
   "metadata": {},
   "outputs": [
    {
     "name": "stdout",
     "output_type": "stream",
     "text": [
      "habitat quality scores used for filter: [5]\n",
      "number of reaches/row after Habitat Quality Score criteria:84\n"
     ]
    }
   ],
   "source": [
    "Spring_Chinook_data_frame = Spring_Chinook_data_frame.loc[Spring_Chinook_data_frame[Habitat_Quality_score_vars['variable'][0]].isin(Habitat_Quality_score)] \n",
    "print('habitat quality scores used for filter: ' + str(Habitat_Quality_score))\n",
    "print('number of reaches/row after Habitat Quality Score criteria:' + str(Spring_Chinook_data_frame.shape[0]) )"
   ]
  },
  {
   "cell_type": "markdown",
   "metadata": {},
   "source": [
    "### --------------------------- Filter out by Reach Confinement ----------------------"
   ]
  },
  {
   "cell_type": "code",
   "execution_count": 66,
   "metadata": {},
   "outputs": [
    {
     "name": "stdout",
     "output_type": "stream",
     "text": [
      "confinement scores used for criteria where 1 is higher percent confined, 5 is higher percent unconfined, based on USGS Valley Confinment Algorithm): [5]\n",
      "number of reaches/row after Reach Confinement criteria: 82\n"
     ]
    }
   ],
   "source": [
    "Confinement_Criteria = confinement_scores.loc[confinement_scores[Reach_Confinement_vars['variable'][0]].isin(Reach_Confinement)]\n",
    "Confinement_Criteria_Reaches = Confinement_Criteria.ReachName\n",
    "Spring_Chinook_data_frame = Spring_Chinook_data_frame.loc[Spring_Chinook_data_frame['ReachName'].isin(Confinement_Criteria_Reaches)] \n",
    "print('confinement scores used for criteria where 1 is higher percent confined, 5 is higher percent unconfined, based on USGS Valley Confinment Algorithm): ' + str(Reach_Confinement))\n",
    "print('number of reaches/row after Reach Confinement criteria: ' + str(Spring_Chinook_data_frame.shape[0]) )"
   ]
  },
  {
   "cell_type": "markdown",
   "metadata": {},
   "source": [
    "### ----------------  Filter out by Sum Life Stage --------------------"
   ]
  },
  {
   "cell_type": "code",
   "execution_count": 67,
   "metadata": {},
   "outputs": [
    {
     "name": "stdout",
     "output_type": "stream",
     "text": [
      "number of reaches/row after Sum Life Stage criteria: 81\n"
     ]
    }
   ],
   "source": [
    "Sum_Life_Stage_Criteria = reach_life_stages_Spring_Chinook.loc[reach_life_stages_Spring_Chinook[Sum_Life_Stage_vars['variable'][0]].isin(Sum_Life_Stage)]\n",
    "Sum_Life_Stage_Criteria_Reaches = Sum_Life_Stage_Criteria.ReachName\n",
    "Spring_Chinook_data_frame = Spring_Chinook_data_frame.loc[Spring_Chinook_data_frame['ReachName'].isin(Sum_Life_Stage_Criteria_Reaches)] \n",
    "\n",
    "# ------------- Prep Sum Life Stage ----------\n",
    "Sum_Life_Stage_output = Sum_Life_Stage_Criteria.loc[Sum_Life_Stage_Criteria['ReachName'].isin(Spring_Chinook_data_frame.ReachName)] \n",
    "Sum_Life_Stage_output = Sum_Life_Stage_output[['ReachName',Sum_Life_Stage_vars['variable'][0]]]\n",
    "# ------- add life Stage Sum --------------\n",
    "Spring_Chinook_data_frame = Spring_Chinook_data_frame.sort_values(by = 'ReachName') \n",
    "Spring_Chinook_data_frame = pd.merge(Spring_Chinook_data_frame, Sum_Life_Stage_output, on=['ReachName'])\n",
    "\n",
    "print('number of reaches/row after Sum Life Stage criteria: ' + str(Spring_Chinook_data_frame.shape[0]) )"
   ]
  },
  {
   "cell_type": "code",
   "execution_count": null,
   "metadata": {},
   "outputs": [],
   "source": []
  },
  {
   "cell_type": "markdown",
   "metadata": {},
   "source": [
    "## ----------------------------------------------------------------------------------------------------------------------------\n",
    "##             Steelhead\n",
    "## ----------------------------------------------------------------------------------------------------------------------------"
   ]
  },
  {
   "cell_type": "code",
   "execution_count": null,
   "metadata": {},
   "outputs": [],
   "source": []
  },
  {
   "cell_type": "markdown",
   "metadata": {},
   "source": [
    "### ----------------- Filter out to only have Steelhead reaches ----------------- "
   ]
  },
  {
   "cell_type": "code",
   "execution_count": 68,
   "metadata": {},
   "outputs": [
    {
     "name": "stdout",
     "output_type": "stream",
     "text": [
      "initial number of reaches: 739\n",
      "number of reaches after including only Steelhead reaches: 614\n"
     ]
    }
   ],
   "source": [
    "steelhead_reaches_true = ['yes']\n",
    "Steelhead_data_frame = habitat_quality_scores.loc[habitat_quality_scores['Steelhead.Reach'].isin(steelhead_reaches_true)] \n",
    "print('initial number of reaches: ' + str(habitat_quality_scores.shape[0]) )\n",
    "print('number of reaches after including only Steelhead reaches: ' + str(Steelhead_data_frame.shape[0]) )"
   ]
  },
  {
   "cell_type": "markdown",
   "metadata": {},
   "source": [
    "### -------------------- Filter out by AU Rank - NOTE - change \"variable\" based on species -------------------- "
   ]
  },
  {
   "cell_type": "code",
   "execution_count": 69,
   "metadata": {},
   "outputs": [
    {
     "name": "stdout",
     "output_type": "stream",
     "text": [
      "number of reaches after AU criteria: 227\n"
     ]
    }
   ],
   "source": [
    "# NOTE: need to change variable to 0 or 1 (AU_Rank_vars['variable'][1]) based on species \n",
    "Steelhead_data_frame = Steelhead_data_frame.loc[Steelhead_data_frame[AU_Rank_vars['variable'][1]].isin(AU_Rank)] \n",
    "print('number of reaches after AU criteria: ' + str(Steelhead_data_frame.shape[0]) )"
   ]
  },
  {
   "cell_type": "markdown",
   "metadata": {},
   "source": [
    "### ------------------ Filter out by Habitat Quality Score --------------------"
   ]
  },
  {
   "cell_type": "code",
   "execution_count": 70,
   "metadata": {},
   "outputs": [
    {
     "name": "stdout",
     "output_type": "stream",
     "text": [
      "habitat quality scores used for filter: [5]\n",
      "number of reaches after Habitat Quality Score criteria: 108\n"
     ]
    }
   ],
   "source": [
    "Steelhead_data_frame = Steelhead_data_frame.loc[Steelhead_data_frame[Habitat_Quality_score_vars['variable'][0]].isin(Habitat_Quality_score)] \n",
    "print('habitat quality scores used for filter: ' + str(Habitat_Quality_score))\n",
    "print('number of reaches after Habitat Quality Score criteria: ' + str(Steelhead_data_frame.shape[0]) )"
   ]
  },
  {
   "cell_type": "markdown",
   "metadata": {},
   "source": [
    "### ------------------------- Filter out by Reach Confinement ------------------------- "
   ]
  },
  {
   "cell_type": "code",
   "execution_count": 71,
   "metadata": {},
   "outputs": [
    {
     "name": "stdout",
     "output_type": "stream",
     "text": [
      "confinement scores used for criteria where 1 is higher percent confined, 5 is higher percent unconfined, based on USGS Valley Confinment Algorithm): [5]\n",
      "number of reaches after Reach Confinement criteria: 104\n"
     ]
    }
   ],
   "source": [
    "Confinement_Criteria = confinement_scores.loc[confinement_scores[Reach_Confinement_vars['variable'][0]].isin(Reach_Confinement)]\n",
    "Confinement_Criteria_Reaches = Confinement_Criteria.ReachName\n",
    "Steelhead_data_frame = Steelhead_data_frame.loc[Steelhead_data_frame['ReachName'].isin(Confinement_Criteria_Reaches)] \n",
    "print('confinement scores used for criteria where 1 is higher percent confined, 5 is higher percent unconfined, based on USGS Valley Confinment Algorithm): ' + str(Reach_Confinement))\n",
    "print('number of reaches after Reach Confinement criteria: ' + str(Steelhead_data_frame.shape[0]) )"
   ]
  },
  {
   "cell_type": "markdown",
   "metadata": {},
   "source": [
    "### ------------------------- Filter out by Sum Life Stage -------------------------"
   ]
  },
  {
   "cell_type": "code",
   "execution_count": 72,
   "metadata": {},
   "outputs": [
    {
     "name": "stdout",
     "output_type": "stream",
     "text": [
      "number of reaches after Sum Life Stage criteria: 103\n"
     ]
    }
   ],
   "source": [
    "Sum_Life_Stage_Criteria = reach_life_stages_Steelhead.loc[reach_life_stages_Steelhead[Sum_Life_Stage_vars['variable'][0]].isin(Sum_Life_Stage)]\n",
    "Sum_Life_Stage_Criteria_Reaches = Sum_Life_Stage_Criteria.ReachName\n",
    "Steelhead_data_frame = Steelhead_data_frame.loc[Steelhead_data_frame['ReachName'].isin(Sum_Life_Stage_Criteria_Reaches)]\n",
    "\n",
    "# ------------- Prep Sum Life Stage ----------\n",
    "Sum_Life_Stage_output = Sum_Life_Stage_Criteria.loc[Sum_Life_Stage_Criteria['ReachName'].isin(Steelhead_data_frame.ReachName)] \n",
    "Sum_Life_Stage_output = Sum_Life_Stage_output[['ReachName',Sum_Life_Stage_vars['variable'][0]]]\n",
    "# ------- add life Stage Sum --------------\n",
    "Steelhead_data_frame = Steelhead_data_frame.sort_values(by = 'ReachName') \n",
    "Steelhead_data_frame = pd.merge(Steelhead_data_frame, Sum_Life_Stage_output, on=['ReachName'])\n",
    "print('number of reaches after Sum Life Stage criteria: ' + str(Steelhead_data_frame.shape[0]) )"
   ]
  },
  {
   "cell_type": "markdown",
   "metadata": {},
   "source": [
    "## =======================================================================\n",
    "# _ \n",
    "#              ------------------ Code Step 7: Limiting Factors Pathway ------------------ \n",
    "# _\n",
    "## ======================================================================="
   ]
  },
  {
   "cell_type": "code",
   "execution_count": null,
   "metadata": {},
   "outputs": [],
   "source": []
  },
  {
   "cell_type": "markdown",
   "metadata": {},
   "source": [
    "### ------------------- Remove white space from Life Stages Presence Data -------------------"
   ]
  },
  {
   "cell_type": "code",
   "execution_count": 76,
   "metadata": {},
   "outputs": [],
   "source": [
    "# ------------ remove any white space at beginning or end of attributes -----------------\n",
    "reach_life_stage_presence_Spring_Chinook = reach_life_stages_Spring_Chinook.applymap(lambda x: x.strip() if isinstance(x, str) else x)\n",
    "reach_life_stage_presence_Steelhead = reach_life_stages_Steelhead.applymap(lambda x: x.strip() if isinstance(x, str) else x)"
   ]
  },
  {
   "cell_type": "markdown",
   "metadata": {},
   "source": [
    "### --------------- Strip white space at beginning and end of Assessment Unit name --------------- "
   ]
  },
  {
   "cell_type": "code",
   "execution_count": 77,
   "metadata": {},
   "outputs": [],
   "source": [
    "habitat_attribute_scores['Assessment Unit'] = habitat_attribute_scores['Assessment Unit'].str.strip()"
   ]
  },
  {
   "cell_type": "markdown",
   "metadata": {},
   "source": [
    "### ------------------- Filter out Habitat Attributes for Life Stages for each Species ------------------- "
   ]
  },
  {
   "cell_type": "code",
   "execution_count": 78,
   "metadata": {},
   "outputs": [],
   "source": [
    "Spring_Chinook_Life_Stage_Habitat_Attributes = habitat_attribute_lifestage.loc[habitat_attribute_lifestage['Species'].isin(['Spring Chinook'])] \n",
    "Steelhead_Life_Stage_Habitat_Attributes = habitat_attribute_lifestage.loc[habitat_attribute_lifestage['Species'].isin(['Steelhead'])] "
   ]
  },
  {
   "cell_type": "code",
   "execution_count": 79,
   "metadata": {},
   "outputs": [],
   "source": [
    "# ------------ remove any white space at beginning or end of attributes -----------------\n",
    "Spring_Chinook_Life_Stage_Habitat_Attributes = Spring_Chinook_Life_Stage_Habitat_Attributes.applymap(lambda x: x.strip() if isinstance(x, str) else x)\n",
    "Steelhead_Life_Stage_Habitat_Attributes = Steelhead_Life_Stage_Habitat_Attributes.applymap(lambda x: x.strip() if isinstance(x, str) else x)\n"
   ]
  },
  {
   "cell_type": "markdown",
   "metadata": {},
   "source": [
    "## ---------------------------------------------------------------------------------------------------------------------------\n",
    "##  Limiting Factors Step 1: Filter out for ALL stages (i.e. applies to all life stages)\n",
    "## ---------------------------------------------------------------------------------------------------------------------------"
   ]
  },
  {
   "cell_type": "code",
   "execution_count": null,
   "metadata": {},
   "outputs": [],
   "source": []
  },
  {
   "cell_type": "markdown",
   "metadata": {},
   "source": [
    "## ---------------------------------------------------------------------------------------------------------------------------\n",
    "## Spring Chinook\n",
    "## ---------------------------------------------------------------------------------------------------------------------------"
   ]
  },
  {
   "cell_type": "code",
   "execution_count": 89,
   "metadata": {},
   "outputs": [],
   "source": [
    "species_x = 'Spring Chinook'"
   ]
  },
  {
   "cell_type": "markdown",
   "metadata": {},
   "source": [
    "###  ----------------- Filter out to only have Spring Chinook reaches  ----------------"
   ]
  },
  {
   "cell_type": "code",
   "execution_count": 90,
   "metadata": {},
   "outputs": [
    {
     "name": "stdout",
     "output_type": "stream",
     "text": [
      "initial number of reaches/rows: 16888\n",
      "number of reaches after including only Spring Chinook reaches: 9039\n"
     ]
    }
   ],
   "source": [
    "spring_chinook_reaches_true = ['yes']\n",
    "Spring_Chinook_data_frame = habitat_attribute_scores.loc[habitat_attribute_scores['Spring.Chinook.Reach'].isin(spring_chinook_reaches_true)] \n",
    "print('initial number of reaches/rows: ' + str(habitat_attribute_scores.shape[0]) )\n",
    "print('number of reaches after including only Spring Chinook reaches: ' + str(Spring_Chinook_data_frame.shape[0]) )"
   ]
  },
  {
   "cell_type": "markdown",
   "metadata": {},
   "source": [
    "### ----------------- Filter out by AU Rank (Note -  \"variable\" should be 0 for SprChn and 1 for STLHD) -----------------"
   ]
  },
  {
   "cell_type": "code",
   "execution_count": 91,
   "metadata": {},
   "outputs": [
    {
     "name": "stdout",
     "output_type": "stream",
     "text": [
      "number of reaches/rows after AU criteria: 3105\n"
     ]
    }
   ],
   "source": [
    "# NOTE: need to change variable to 0 or 1 (AU_Rank_vars['variable'][1]) based on species \n",
    "Spring_Chinook_data_frame = Spring_Chinook_data_frame.loc[Spring_Chinook_data_frame[AU_Rank_vars2['variable'][0]].isin(AU_Rank)] \n",
    "print('number of reaches/rows after AU criteria: ' + str(Spring_Chinook_data_frame.shape[0]) )"
   ]
  },
  {
   "cell_type": "markdown",
   "metadata": {},
   "source": [
    "### ------------------------------- Filter out by Sum Life Stage in Reach -------------------------"
   ]
  },
  {
   "cell_type": "code",
   "execution_count": 92,
   "metadata": {},
   "outputs": [
    {
     "name": "stdout",
     "output_type": "stream",
     "text": [
      "number of reaches/row after Sum Life Stage criteria: 2783\n"
     ]
    }
   ],
   "source": [
    "Sum_Life_Stage_Criteria = reach_life_stage_presence_Spring_Chinook.loc[reach_life_stage_presence_Spring_Chinook[Sum_Life_Stage_vars['variable'][0]].isin(Sum_Life_Stage)]\n",
    "Sum_Life_Stage_Criteria_Reaches = Sum_Life_Stage_Criteria.ReachName\n",
    "Spring_Chinook_data_frame = Spring_Chinook_data_frame.loc[Spring_Chinook_data_frame['ReachName'].isin(Sum_Life_Stage_Criteria_Reaches)] \n",
    "\n",
    "# ------------- Prep Sum Life Stage ----------\n",
    "Sum_Life_Stage_output = Sum_Life_Stage_Criteria.loc[Sum_Life_Stage_Criteria['ReachName'].isin(Spring_Chinook_data_frame.ReachName)] \n",
    "Sum_Life_Stage_output = Sum_Life_Stage_output[['ReachName',Sum_Life_Stage_vars['variable'][0]]]\n",
    "# ------- add life Stage Sum --------------\n",
    "Spring_Chinook_data_frame = Spring_Chinook_data_frame.sort_values(by = 'ReachName') \n",
    "Spring_Chinook_data_frame = pd.merge(Spring_Chinook_data_frame, Sum_Life_Stage_output, on=['ReachName'])\n",
    "\n",
    "print('number of reaches/row after Sum Life Stage criteria: ' + str(Spring_Chinook_data_frame.shape[0]) )"
   ]
  },
  {
   "cell_type": "markdown",
   "metadata": {},
   "source": [
    "### ------------------ Filter out to only include Life Stages with Attributes that meet criteria -----------------------"
   ]
  },
  {
   "cell_type": "code",
   "execution_count": 94,
   "metadata": {},
   "outputs": [
    {
     "data": {
      "text/plain": [
       "'DRAFT Habitat Attribute Score (Currently MAX Score OR \"0\" if NA)'"
      ]
     },
     "execution_count": 94,
     "metadata": {},
     "output_type": "execute_result"
    }
   ],
   "source": [
    "Cumul_Habitat_Attribute_Score_vars['variable'][0]"
   ]
  },
  {
   "cell_type": "code",
   "execution_count": 95,
   "metadata": {},
   "outputs": [
    {
     "data": {
      "text/plain": [
       "Index(['Unnamed: 0', 'ReachName', 'Assessment Unit', 'Subbasin',\n",
       "       'Spring.Chinook.Reach', 'Steelhead.Reach', 'Bull.Trout.Reach',\n",
       "       'StreamWidthCategory', 'AU Tier Spring CHN', 'AU Tier Steelhead',\n",
       "       'Habitat Attribute', 'Reach- Habitat Attribute', 'Life Stages',\n",
       "       'DataSouce (see Habitat_Data_Raw for data)', 'HabitatAttributeScore1',\n",
       "       'HabitatAttributeScore2', 'HabitatAttributeScore3',\n",
       "       'HabitatAttributeScore4',\n",
       "       'DRAFT Habitat Attribute Score (Currently MIN Score OR NA)', 'Notes',\n",
       "       'Column1', 'TotalNum_LS'],\n",
       "      dtype='object')"
      ]
     },
     "execution_count": 95,
     "metadata": {},
     "output_type": "execute_result"
    }
   ],
   "source": [
    "Spring_Chinook_data_frame.columns"
   ]
  },
  {
   "cell_type": "code",
   "execution_count": 97,
   "metadata": {},
   "outputs": [
    {
     "name": "stdout",
     "output_type": "stream",
     "text": [
      "number of reaches/rows after Habitat Attribute Score criteria:526\n"
     ]
    }
   ],
   "source": [
    "Spring_Chinook_data_frame_ALL = Spring_Chinook_data_frame\n",
    "Spring_Chinook_data_frame = Spring_Chinook_data_frame.loc[Spring_Chinook_data_frame[Cumul_Habitat_Attribute_Score_vars['variable'][0]].isin(Cumul_Habitat_Attribute_Score)] \n",
    "print('number of reaches/rows after Habitat Attribute Score criteria:' + str(Spring_Chinook_data_frame.shape[0]) )"
   ]
  },
  {
   "cell_type": "markdown",
   "metadata": {},
   "source": [
    "## ---------------------------------------------------------------------------------------------------------------------------\n",
    "## Steelhead\n",
    "## ---------------------------------------------------------------------------------------------------------------------------"
   ]
  },
  {
   "cell_type": "code",
   "execution_count": 98,
   "metadata": {},
   "outputs": [],
   "source": [
    "species_x = 'Steelhead'"
   ]
  },
  {
   "cell_type": "markdown",
   "metadata": {},
   "source": [
    "### ----------------- Filter out to only have Steelhead reaches -----------------------"
   ]
  },
  {
   "cell_type": "code",
   "execution_count": 99,
   "metadata": {},
   "outputs": [
    {
     "name": "stdout",
     "output_type": "stream",
     "text": [
      "initial number of reaches/rows: 16888\n",
      "number of reaches after including only Steelhead reaches: 14000\n"
     ]
    }
   ],
   "source": [
    "steelhead_reaches_true = ['yes']\n",
    "Steelhead_data_frame = habitat_attribute_scores.loc[habitat_attribute_scores['Steelhead.Reach'].isin(steelhead_reaches_true)] \n",
    "print('initial number of reaches/rows: ' + str(habitat_attribute_scores.shape[0]) )\n",
    "print('number of reaches after including only Steelhead reaches: ' + str(Steelhead_data_frame.shape[0]) )"
   ]
  },
  {
   "cell_type": "markdown",
   "metadata": {},
   "source": [
    "### ----------------- Filter out by AU Rank (Note -  \"variable\" should be 0 for SprChn and 1 for STLHD) ----------------"
   ]
  },
  {
   "cell_type": "code",
   "execution_count": 100,
   "metadata": {},
   "outputs": [
    {
     "name": "stdout",
     "output_type": "stream",
     "text": [
      "number of reaches/rows after AU criteria: 5188\n"
     ]
    }
   ],
   "source": [
    "# NOTE: need to change variable to 0 or 1 (AU_Rank_vars['variable'][1]) based on species \n",
    "Steelhead_data_frame = Steelhead_data_frame.loc[Steelhead_data_frame[AU_Rank_vars2['variable'][1]].isin(AU_Rank)] \n",
    "print('number of reaches/rows after AU criteria: ' + str(Steelhead_data_frame.shape[0]) )"
   ]
  },
  {
   "cell_type": "markdown",
   "metadata": {},
   "source": [
    "### ------------------------------- Filter out by Sum Life Stage in Reach -------------------------"
   ]
  },
  {
   "cell_type": "code",
   "execution_count": 101,
   "metadata": {},
   "outputs": [
    {
     "name": "stdout",
     "output_type": "stream",
     "text": [
      "number of reaches after Sum Life Stage criteria: 4082\n"
     ]
    }
   ],
   "source": [
    "Sum_Life_Stage_Criteria = reach_life_stage_presence_Steelhead.loc[reach_life_stage_presence_Steelhead[Sum_Life_Stage_vars['variable'][0]].isin(Sum_Life_Stage)]\n",
    "Sum_Life_Stage_Criteria_Reaches = Sum_Life_Stage_Criteria.ReachName\n",
    "Steelhead_data_frame = Steelhead_data_frame.loc[Steelhead_data_frame['ReachName'].isin(Sum_Life_Stage_Criteria_Reaches)]\n",
    "\n",
    "# ------------- Prep Sum Life Stage ----------\n",
    "Sum_Life_Stage_output = Sum_Life_Stage_Criteria.loc[Sum_Life_Stage_Criteria['ReachName'].isin(Steelhead_data_frame.ReachName)] \n",
    "Sum_Life_Stage_output = Sum_Life_Stage_output[['ReachName',Sum_Life_Stage_vars['variable'][0]]]\n",
    "# ------- add life Stage Sum --------------\n",
    "Steelhead_data_frame = Steelhead_data_frame.sort_values(by = 'ReachName') \n",
    "Steelhead_data_frame = pd.merge(Steelhead_data_frame, Sum_Life_Stage_output, on=['ReachName'])\n",
    "print('number of reaches after Sum Life Stage criteria: ' + str(Steelhead_data_frame.shape[0]) )"
   ]
  },
  {
   "cell_type": "markdown",
   "metadata": {},
   "source": [
    "### -------------- Filter out to only include Life Stages with Attributes that meet criteria --------------------"
   ]
  },
  {
   "cell_type": "code",
   "execution_count": 102,
   "metadata": {},
   "outputs": [
    {
     "name": "stdout",
     "output_type": "stream",
     "text": [
      "number of reaches/rows after Habitat Attribute Score criteria:778\n"
     ]
    }
   ],
   "source": [
    "Steelhead_data_frame = Steelhead_data_frame.loc[Steelhead_data_frame[Cumul_Habitat_Attribute_Score_vars['variable'][0]].isin(Cumul_Habitat_Attribute_Score)] \n",
    "print('number of reaches/rows after Habitat Attribute Score criteria:' + str(Steelhead_data_frame.shape[0]) )"
   ]
  },
  {
   "cell_type": "markdown",
   "metadata": {},
   "source": [
    "## ---------------------------------------------------------------------------------------------------------------------------\n",
    "##  Limiting Pathways Step 2: Create & Run Function to Output Limiting Factor Tables \n",
    "###  Filters out reaches for Specific life stages for each species\n",
    "## ---------------------------------------------------------------------------------------------------------------------------"
   ]
  },
  {
   "cell_type": "code",
   "execution_count": null,
   "metadata": {},
   "outputs": [],
   "source": []
  },
  {
   "cell_type": "markdown",
   "metadata": {},
   "source": [
    "## ---------------------------------------------------------------------------------------------------------------------------\n",
    "##  Create Function\n",
    "## ---------------------------------------------------------------------------------------------------------------------------"
   ]
  },
  {
   "cell_type": "code",
   "execution_count": 103,
   "metadata": {},
   "outputs": [],
   "source": [
    "def is_number(s):\n",
    "    try:\n",
    "        float(s)\n",
    "        return True\n",
    "    except ValueError:\n",
    "        pass\n",
    " \n",
    "    try:\n",
    "        import unicodedata\n",
    "        unicodedata.numeric(s)\n",
    "        return True\n",
    "    except (TypeError, ValueError):\n",
    "        pass\n",
    " \n",
    "    return False\n",
    "\n",
    "# ------ just a dummy array for index values ------------\n",
    "index_vals = pd.Series(range(0,7))\n",
    "\n",
    "def Generate_Limiting_Factor_Output_Table(life_stage, species, output_path):\n",
    "\n",
    "    # ------------------------------------------------------------------------------\n",
    "    #      Initiate Data Processing\n",
    "    # ------------------------------------------------------------------------------\n",
    "\n",
    "    print('------------------- starting output for Species: ' + species + \"for the Life Stage: \" + life_stage)\n",
    "    \n",
    "    # ------------------------------------------------------------------------------\n",
    "    #       Establish species name variable\n",
    "    # ------------------------------------------------------------------------------\n",
    "\n",
    "    if species == \"Spring Chinook\":\n",
    "\n",
    "        # ------- establish species variable name -----\n",
    "        variable_name = 'variable_SPCH'\n",
    "        # -------------- species data frame --------\n",
    "        Species_data_frame = Spring_Chinook_data_frame\n",
    "        # ------------- habitat attribute data frame -----------\n",
    "        Species_Life_Stage_Habitat_Attributes = Spring_Chinook_Life_Stage_Habitat_Attributes\n",
    "        # ----------- Use Spring Chinook Reaches-Life Stage data --------\n",
    "        reach_life_stage_presence = reach_life_stage_presence_Spring_Chinook\n",
    "        # ---------------- Output correct column names -------------\n",
    "        output_column_AU_column = 'AU Tier Spring CHN' \n",
    "\n",
    "    elif species == \"Steelhead\":\n",
    "\n",
    "        # ------- establish species variable name -----\n",
    "        variable_name = 'variable_SH'\n",
    "        # -------------- species data frame --------\n",
    "        Species_data_frame = Steelhead_data_frame\n",
    "        # ------------- habitat attribute data frame -----------\n",
    "        Species_Life_Stage_Habitat_Attributes = Steelhead_Life_Stage_Habitat_Attributes\n",
    "        # ----------- Use Steelhead Reaches-Life Stage data --------\n",
    "        reach_life_stage_presence = reach_life_stage_presence_Steelhead\n",
    "        # ---------------- Output correct column names -------------\n",
    "        output_column_AU_column = 'AU Tier Steelhead' \n",
    "\n",
    "    else:\n",
    "\n",
    "        \n",
    "        print('Incorrectly entered species name - re-type species name')\n",
    "        return\n",
    "        \n",
    "        \n",
    "    # --------------------------------- life stage index variable --------------------------------      \n",
    "    life_stage_val = int(index_vals[life_stages_all.life_stages.isin([life_stage])])\n",
    "    life_stage_val_list = [life_stage_val]\n",
    "        \n",
    "    # ------------------------------------------------------------------------------\n",
    "    #       AU Life Stage Priority for this life stage\n",
    "    # ------------------------------------------------------------------------------\n",
    "\n",
    "    AU_Life_Stage_Priority_Criteria = AU_life_stage_priorities.loc[AU_life_stage_priorities[Life_Stage_Priority_vars[variable_name][life_stage_val]].isin(Life_Stage_Priority)]\n",
    "    AU_Life_Stage_Priority_Criteria_AUs = AU_Life_Stage_Priority_Criteria.AU\n",
    "    Species_data_frame_Life_Stage = Species_data_frame.loc[Species_data_frame['Assessment Unit'].isin(AU_Life_Stage_Priority_Criteria_AUs)] \n",
    "    print('number of reaches/row after AU Life Stage Priority criteria: ' + str(Species_data_frame_Life_Stage.shape[0]) )\n",
    "    \n",
    "    # ------------------------------------------------------------------------------\n",
    "    #       Pull reaches with this Life Stage presence\n",
    "    # ------------------------------------------------------------------------------\n",
    "\n",
    "    Reach_Life_Stage_Presence_Criteria = reach_life_stage_presence.loc[reach_life_stage_presence[Reach_Life_Stage_Presence_vars[variable_name][life_stage_val]].isin(Reach_Life_Stage_Presence)]\n",
    "    Reach_Life_Stage_Presence_Criteria_ReachName = Reach_Life_Stage_Presence_Criteria.ReachName\n",
    "    Species_data_frame_Life_Stage = Species_data_frame_Life_Stage.loc[Species_data_frame_Life_Stage['ReachName'].isin(Reach_Life_Stage_Presence_Criteria_ReachName)] \n",
    "    print('number of reaches/row after Life Stage Presence criteria: ' + str(Species_data_frame_Life_Stage.shape[0]) )\n",
    "    \n",
    "    # ------------------------------------------------------------------------------\n",
    "    #       Identify the Habitat Attributes for the Specific Life Stage\n",
    "    # ------------------------------------------------------------------------------\n",
    "\n",
    "    # ------------------ Habitat Attributes for this Life Stage --------------------------------\n",
    "    Life_Stage_Habitat_Criteria = Species_Life_Stage_Habitat_Attributes.loc[Species_Life_Stage_Habitat_Attributes['Life Stage'].isin(Life_Stage_Habitat_Attributes_vars['variable'][life_stage_val_list])]   \n",
    "    \n",
    "    # ----------------- list of Habitat Attributes for this specific Life Stage ---------------\n",
    "    habitat_attributes_list = Life_Stage_Habitat_Criteria['Habitat Attribute'].values.tolist()\n",
    "    \n",
    "    # --------------- Reaches and Habitat Attributes for this Life Stage ------------------\n",
    "    Life_Stage_Habitat_Criteria_2 = Species_data_frame_Life_Stage.loc[Species_data_frame_Life_Stage['Habitat Attribute'].isin(habitat_attributes_list)]\n",
    "\n",
    "    # ------------------------------------------------------------------------------\n",
    "    #      Prepare all the Variables for the Output Table\n",
    "    # ------------------------------------------------------------------------------\n",
    "    \n",
    "    # Example Output Variables (for Spring Chinook - Holding and Maturation):  subbasin,  AU, AU Tier SprChn, \n",
    "    #           Spch_Holding_priority (high priority),  ReachName,  SPCH_Holding,  Species, Life_Stage, Habitat_Attribute,  \n",
    "    #          DRAFT Habitat Attribute Score\n",
    "\n",
    "    # Update Assessment Unit column name to be identical to Life Stage data frame\n",
    "    AU_Life_Stage_Priority_Criteria = AU_Life_Stage_Priority_Criteria.rename(columns = {'AU':'Assessment Unit'})\n",
    "    \n",
    "    # Append Life Stage Habitat Criteria and AU life Stage Priority data frame to include AU Life Stage Priority\n",
    "    Life_Stage_Habitat_Criteria_combined = pd.merge(Life_Stage_Habitat_Criteria_2, AU_Life_Stage_Priority_Criteria, how='left',  on = ['Assessment Unit'])\n",
    "    \n",
    "    # Append Life Stage Habitat Criteria and AU life Stage Priority data frame to include AU Life Stage Priority\n",
    "    Life_Stage_Habitat_Criteria_combined = pd.merge(Life_Stage_Habitat_Criteria_combined, Reach_Life_Stage_Presence_Criteria, how='left',  on = ['ReachName'])\n",
    "\n",
    "    # generate column of species name\n",
    "    rows_x = Life_Stage_Habitat_Criteria_combined.shape[0]  # get number of rows in Life_Stage_Habitat_Criteria_combined\n",
    "    col_x = pd.DataFrame({'Species': [species] * rows_x})  # create columns\n",
    "    Life_Stage_Habitat_Criteria_combined['Species'] = col_x          # add column\n",
    "    \n",
    "    # add Life Stage name\n",
    "    col_x = pd.DataFrame({'Species': [Life_Stage_Priority_vars['variable'][life_stage_val]] * rows_x})  # create columns\n",
    "    Life_Stage_Habitat_Criteria_combined['Life_Stage'] = col_x          # add column\n",
    "    \n",
    "\n",
    "    # ------------------------------------------------------------------------------\n",
    "    #      Create Output Table\n",
    "    # ------------------------------------------------------------------------------\n",
    "\n",
    "    # create output that matches the output table in Access\n",
    "    Output_data_frame = Life_Stage_Habitat_Criteria_combined[['Species', 'Subbasin_x', 'Assessment Unit','ReachName', \n",
    "        'Life_Stage' , 'Habitat Attribute', 'DRAFT Habitat Attribute Score (Currently MIN Score OR NA)', output_column_AU_column,  \n",
    "           Life_Stage_Priority_vars[variable_name][life_stage_val],   Reach_Life_Stage_Presence_vars[variable_name][life_stage_val] ]]\n",
    "\n",
    "    Output_data_frame = Output_data_frame.rename(columns={'Subbasin_x':'Subbasin', \n",
    "                                      'DRAFT Habitat Attribute Score (Currently MIN Score OR NA)' : 'Cumulative Habitat Attribute Score'})\n",
    "\n",
    "    # re-order based on ReachName\n",
    "    Output_data_frame_X = Output_data_frame.sort_values(by=['ReachName'])\n",
    "    # Output_data_frame_X.iloc[0:78]    # just can use to output data\n",
    "\n",
    "    # ------------------------------------------------------------------------------\n",
    "    #      Add individual habitat attribute score for the individual habitat attribute\n",
    "    # ------------------------------------------------------------------------------\n",
    "    if Output_data_frame_X.shape[0] > 0: # ONLY do this if there is data present\n",
    "        individual_habitat_attributes = pd.DataFrame([])\n",
    "        for index, row in Output_data_frame.iterrows():\n",
    "            habitat_x = row['Habitat Attribute']\n",
    "            reach_x2 = row['ReachName']\n",
    "            reach_row_x = habitat_quality_scores.loc[habitat_quality_scores['ReachName'].isin([reach_x2])]\n",
    "            columns_x = reach_row_x.columns\n",
    "\n",
    "\n",
    "                \n",
    "            if any(columns_x == habitat_x):\n",
    "                reach_habitat_x = reach_row_x[habitat_x]\n",
    "\n",
    "                if any(reach_habitat_x.isnull()):\n",
    "                    reach_habitat_x = \"NA\"\n",
    "                elif is_number(reach_habitat_x):\n",
    "                    #print('----------------------reach_habitat_x')\n",
    "                    #print(reach_habitat_x)\n",
    "                    reach_habitat_x = int(reach_row_x[habitat_x])\n",
    "                else:\n",
    "                    reach_habitat_x = \"NA\"\n",
    "                individual_habitat_attributes = individual_habitat_attributes.append([reach_habitat_x], ignore_index=True)\n",
    "                #print(\"---------------HABITAT X\")\n",
    "                #print(habitat_x)\n",
    "            else:\n",
    "                individual_habitat_attributes = individual_habitat_attributes.append(['NA'], ignore_index=True)\n",
    "\n",
    "        #print('-------------Output_data_frame shape')\n",
    "        #print(Output_data_frame.shape)\n",
    "        #print('-------------individual_habitat_attributes TYPE')\n",
    "        #print(type(individual_habitat_attributes))\n",
    "        print('---------------individual_habitat_attributes shape ')\n",
    "        print(individual_habitat_attributes.shape)\n",
    "        print('---------------individual_habitat_attributes COLUMNS ')\n",
    "        print(individual_habitat_attributes.columns)\n",
    "        \n",
    "        Output_data_frame_X['Individual Habitat Scores'] = individual_habitat_attributes\n",
    "        # ------------------------------------------------------------------------------\n",
    "        #       Generate Columns for Output\n",
    "        # ------------------------------------------------------------------------------\n",
    "\n",
    "        #print('completed output for Species: ' + species + \"for the Life Stage: \" + life_stage)\n",
    "        #print(' ----------------------------------------------------------------------------------')\n",
    "        #print(\"      \")\n",
    "\n",
    "    Output_data_frame_X.to_excel(output_path, index = False)\n",
    "    return(Output_data_frame_X)\n",
    "\n",
    "\n"
   ]
  },
  {
   "cell_type": "markdown",
   "metadata": {},
   "source": [
    "## ---------------------------------------------------------------------------------------------------------------------------\n",
    "## Spring Chinook Output Loop\n",
    "## ---------------------------------------------------------------------------------------------------------------------------"
   ]
  },
  {
   "cell_type": "code",
   "execution_count": 104,
   "metadata": {},
   "outputs": [
    {
     "name": "stdout",
     "output_type": "stream",
     "text": [
      "------------------- starting output for Species: Spring Chinookfor the Life Stage: Adult Migration\n",
      "number of reaches/row after AU Life Stage Priority criteria: 0\n",
      "number of reaches/row after Life Stage Presence criteria: 0\n",
      "------------------- starting output for Species: Spring Chinookfor the Life Stage: Holding and Maturation\n",
      "number of reaches/row after AU Life Stage Priority criteria: 155\n",
      "number of reaches/row after Life Stage Presence criteria: 155\n",
      "---------------individual_habitat_attributes shape \n",
      "(65, 1)\n",
      "---------------individual_habitat_attributes COLUMNS \n",
      "RangeIndex(start=0, stop=1, step=1)\n",
      "------------------- starting output for Species: Spring Chinookfor the Life Stage: Spawning\n",
      "number of reaches/row after AU Life Stage Priority criteria: 155\n",
      "number of reaches/row after Life Stage Presence criteria: 155\n",
      "---------------individual_habitat_attributes shape \n",
      "(47, 1)\n",
      "---------------individual_habitat_attributes COLUMNS \n",
      "RangeIndex(start=0, stop=1, step=1)\n",
      "------------------- starting output for Species: Spring Chinookfor the Life Stage: Fry\n",
      "number of reaches/row after AU Life Stage Priority criteria: 102\n",
      "number of reaches/row after Life Stage Presence criteria: 102\n",
      "---------------individual_habitat_attributes shape \n",
      "(48, 1)\n",
      "---------------individual_habitat_attributes COLUMNS \n",
      "RangeIndex(start=0, stop=1, step=1)\n",
      "------------------- starting output for Species: Spring Chinookfor the Life Stage: Summer Rearing\n",
      "number of reaches/row after AU Life Stage Priority criteria: 379\n",
      "number of reaches/row after Life Stage Presence criteria: 379\n",
      "---------------individual_habitat_attributes shape \n",
      "(219, 1)\n",
      "---------------individual_habitat_attributes COLUMNS \n",
      "RangeIndex(start=0, stop=1, step=1)\n",
      "------------------- starting output for Species: Spring Chinookfor the Life Stage: Winter Rearing\n",
      "number of reaches/row after AU Life Stage Priority criteria: 359\n",
      "number of reaches/row after Life Stage Presence criteria: 359\n",
      "---------------individual_habitat_attributes shape \n",
      "(90, 1)\n",
      "---------------individual_habitat_attributes COLUMNS \n",
      "RangeIndex(start=0, stop=1, step=1)\n",
      "------------------- starting output for Species: Spring Chinookfor the Life Stage: Smolt\n",
      "number of reaches/row after AU Life Stage Priority criteria: 0\n",
      "number of reaches/row after Life Stage Presence criteria: 0\n"
     ]
    }
   ],
   "source": [
    "# ------ just a dummy array for index values ------------\n",
    "index_vals = pd.Series(range(0,7))\n",
    "\n",
    "species = \"Spring Chinook\"\n",
    "\n",
    "Spring_Chinook_Limiting_Factor_Output_All_Stages = pd.DataFrame([])\n",
    "for i in range(index_vals.shape[0]):\n",
    "    # -------------- test variables ---------- \n",
    "    life_stage = life_stages_all.life_stages[i]\n",
    "    output_path_x = Output_Spring_Chinook_list[i]\n",
    "\n",
    "    # --------- Run Function to generate output ----------\n",
    "    life_stage_output = Generate_Limiting_Factor_Output_Table( life_stage,    species  ,  output_path_x)\n",
    "    Spring_Chinook_Limiting_Factor_Output_All_Stages = Spring_Chinook_Limiting_Factor_Output_All_Stages.append(life_stage_output)\n",
    "\n",
    "        \n",
    "        \n",
    "# ------------------- just insert individual habitat attribute column further to the \"right\" ---------\n",
    "Spring_Chinook_Limiting_Factor_Output_All_Stages=Spring_Chinook_Limiting_Factor_Output_All_Stages[Spring_Chinook_Limiting_Factor_Output_All_Stages.columns[[0,1,2,3,4,5,6,7,12,8,9,10,11,13,14,15,16,17,18,19,20,21,22]]]\n",
    "# ------------- Write to Excel --------------\n",
    "Spring_Chinook_Limiting_Factor_Output_All_Stages.to_excel(output_location_master_spring_chinook, index = False)\n"
   ]
  },
  {
   "cell_type": "markdown",
   "metadata": {},
   "source": [
    "## ---------------------------------------------------------------------------------------------------------------------------\n",
    "## Steelhead Output Loop\n",
    "## ---------------------------------------------------------------------------------------------------------------------------"
   ]
  },
  {
   "cell_type": "code",
   "execution_count": 105,
   "metadata": {},
   "outputs": [
    {
     "name": "stdout",
     "output_type": "stream",
     "text": [
      "------------------- starting output for Species: Steelheadfor the Life Stage: Adult Migration\n",
      "number of reaches/row after AU Life Stage Priority criteria: 55\n",
      "number of reaches/row after Life Stage Presence criteria: 53\n",
      "---------------individual_habitat_attributes shape \n",
      "(10, 1)\n",
      "---------------individual_habitat_attributes COLUMNS \n",
      "RangeIndex(start=0, stop=1, step=1)\n",
      "------------------- starting output for Species: Steelheadfor the Life Stage: Holding and Maturation\n",
      "number of reaches/row after AU Life Stage Priority criteria: 0\n",
      "number of reaches/row after Life Stage Presence criteria: 0\n",
      "------------------- starting output for Species: Steelheadfor the Life Stage: Spawning\n",
      "number of reaches/row after AU Life Stage Priority criteria: 48\n",
      "number of reaches/row after Life Stage Presence criteria: 48\n",
      "---------------individual_habitat_attributes shape \n",
      "(14, 1)\n",
      "---------------individual_habitat_attributes COLUMNS \n",
      "RangeIndex(start=0, stop=1, step=1)\n",
      "------------------- starting output for Species: Steelheadfor the Life Stage: Fry\n",
      "number of reaches/row after AU Life Stage Priority criteria: 0\n",
      "number of reaches/row after Life Stage Presence criteria: 0\n",
      "------------------- starting output for Species: Steelheadfor the Life Stage: Summer Rearing\n",
      "number of reaches/row after AU Life Stage Priority criteria: 246\n",
      "number of reaches/row after Life Stage Presence criteria: 246\n",
      "---------------individual_habitat_attributes shape \n",
      "(139, 1)\n",
      "---------------individual_habitat_attributes COLUMNS \n",
      "RangeIndex(start=0, stop=1, step=1)\n",
      "------------------- starting output for Species: Steelheadfor the Life Stage: Winter Rearing\n",
      "number of reaches/row after AU Life Stage Priority criteria: 450\n",
      "number of reaches/row after Life Stage Presence criteria: 450\n",
      "---------------individual_habitat_attributes shape \n",
      "(108, 1)\n",
      "---------------individual_habitat_attributes COLUMNS \n",
      "RangeIndex(start=0, stop=1, step=1)\n",
      "------------------- starting output for Species: Steelheadfor the Life Stage: Smolt\n",
      "number of reaches/row after AU Life Stage Priority criteria: 9\n",
      "number of reaches/row after Life Stage Presence criteria: 9\n"
     ]
    }
   ],
   "source": [
    "# ------ just a dummy array for index values ------------\n",
    "index_vals = pd.Series(range(0,7))\n",
    "\n",
    "species = \"Steelhead\"\n",
    "\n",
    "Steelhead_Limiting_Factor_Output_All_Stages = pd.DataFrame([])\n",
    "for i in range(index_vals.shape[0]):\n",
    "    # -------------- test variables ---------- \n",
    "    life_stage = life_stages_all.life_stages[i]\n",
    "    output_path_x = Output_Steelhead_list[i]\n",
    "\n",
    "    # --------- Run Function to generate output ----------\n",
    "    life_stage_output = Generate_Limiting_Factor_Output_Table( life_stage,    species  ,  output_path_x)\n",
    "    Steelhead_Limiting_Factor_Output_All_Stages = Steelhead_Limiting_Factor_Output_All_Stages.append(life_stage_output)\n",
    "\n",
    "# ------------------- just insert individual habitat attribute column further to the \"right\" ---------\n",
    "Steelhead_Limiting_Factor_Output_All_Stages=Steelhead_Limiting_Factor_Output_All_Stages[Steelhead_Limiting_Factor_Output_All_Stages.columns[[0,1,2,3,4,5,6,7,12,8,9,10,11,13,14,15,16,17,18,19,20,21,22]]]\n",
    "# ------------- Write to Excel --------------\n",
    "Steelhead_Limiting_Factor_Output_All_Stages.to_excel(output_location_master_steelhead, index = False)\n"
   ]
  },
  {
   "cell_type": "code",
   "execution_count": null,
   "metadata": {},
   "outputs": [],
   "source": []
  },
  {
   "cell_type": "markdown",
   "metadata": {},
   "source": [
    "## =======================================================================\n",
    "# _ \n",
    "#               Code Step 8: RTT Priority Actions from Habitat Quality and Limiting Factor Pathways\n",
    "# _\n",
    "## ======================================================================="
   ]
  },
  {
   "cell_type": "code",
   "execution_count": null,
   "metadata": {},
   "outputs": [],
   "source": []
  },
  {
   "cell_type": "markdown",
   "metadata": {},
   "source": [
    "### ---------------------------------- remove white space from Action data -------------------------"
   ]
  },
  {
   "cell_type": "code",
   "execution_count": null,
   "metadata": {},
   "outputs": [],
   "source": [
    "# ------------ remove any white space at beginning or end of attributes -----------------\n",
    "Habitat_Attribute_Category_Data = Habitat_Attribute_Category_Data.applymap(lambda x: x.strip() if isinstance(x, str) else x)\n",
    "\n",
    "# ------------ remove underscores and replace with white space (just for Action Categories that had underscore in name) -----------------\n",
    "Project_List_Data = Project_List_Data.applymap(lambda x: x.replace(\"_\",\" \") if isinstance(x, str) else x)"
   ]
  },
  {
   "cell_type": "markdown",
   "metadata": {},
   "source": [
    "### ---------------------------------- Set limiting factor life stage names -------------------------"
   ]
  },
  {
   "cell_type": "code",
   "execution_count": null,
   "metadata": {},
   "outputs": [],
   "source": [
    "# ------------------------- Read in Spring Chinook Limiting Factors ---------\n",
    "Limiting_Factor_Spring_Chinook_Adult_Migration = pd.read_excel(Output_Spring_Chinook_list[0])\n",
    "Limiting_Factor_Spring_Chinook_Holding_and_Maturation = pd.read_excel(Output_Spring_Chinook_list[1])\n",
    "Limiting_Factor_Spring_Chinook_Spawning = pd.read_excel(Output_Spring_Chinook_list[2])\n",
    "Limiting_Factor_Spring_Chinook_Fry = pd.read_excel(Output_Spring_Chinook_list[3])\n",
    "Limiting_Factor_Spring_Chinook_Summer_Rearing = pd.read_excel(Output_Spring_Chinook_list[4])\n",
    "Limiting_Factor_Spring_Chinook_Winter_Rearing = pd.read_excel(Output_Spring_Chinook_list[5])\n",
    "Limiting_Factor_Spring_Chinook_Smolt = pd.read_excel(Output_Spring_Chinook_list[6])"
   ]
  },
  {
   "cell_type": "markdown",
   "metadata": {},
   "source": [
    "## ----------------------------------------------------------------------------------------------------------- \n",
    "# _\n",
    "#      Code Step 8A: Generate Crosswalk between Habitat Attributes in Habitat Quality Analysis and in Action Category Tables\n",
    "# _\n",
    "## ----------------------------------------------------------------------------------------------------------- "
   ]
  },
  {
   "cell_type": "markdown",
   "metadata": {},
   "source": [
    "## ----------------------------------------------------------------------------------------------------------------------------\n",
    "##             Crosswalk (Code Step 8A) Step 1 : Establish dictionary between HQ/LF pathways and action data\n",
    "## ----------------------------------------------------------------------------------------------------------------------------"
   ]
  },
  {
   "cell_type": "code",
   "execution_count": null,
   "metadata": {},
   "outputs": [],
   "source": [
    "# ------ Crosswalk between Habitat Attributes listed in the Habitat Quality Analysis and in Action Category Crosswalks\n",
    "\n",
    "# KEY FIRST value is habitat attribute from Habitat Quality or Limiting Factors pathway output, \n",
    "#          the SECOND value is the habitat attribute from the project data\n",
    "#     EXAMPLE: 'Temperature': ['Temperature'] ,    the 'Temperature' is from the HQ or LF data\n",
    "#                                              and the \" ['Temperature']\" is from the project data\n",
    "Habitat_Attribute_Names_Crosswalk = { \n",
    " \n",
    "    'Bank Stability': ['Bank Stability'],\n",
    "    'Channel Stability': ['Channel Stability'],\n",
    "    'Stability': ['Stability'],\n",
    "    'Cover- Wood': ['Cover- Wood'],\n",
    "    'Cover- Boulders': ['Cover- Boulders'],\n",
    "    'Cover- Undercut Banks': ['Cover- Undercut Banks'],\n",
    "    'Flow- Summer Base Flow': ['Flow- Summer Base Flow'],\n",
    "    '% Fines/Embeddedness': ['% Fines/Embeddedness'],\n",
    "    'Harassment': ['Harassment'],\n",
    "    #'Off-Channel Total': ['Off-Channel- Floodplain'],\n",
    "    'Off-Channel- Floodplain': ['Off-Channel- Floodplain'],\n",
    "    'Off-Channel- Side-Channels': ['Off-Channel- Side-Channels'],\n",
    "    'Pools- All Pools': ['Pools- All Pools'],\n",
    "    'Quality Pools': ['Quality Pools'],\n",
    "    'Pool Quantity & Quality': ['Quality Pools'],\n",
    "    'Pool Quantity& Quality': ['Quality Pools'],\n",
    "    'Pool Quantity & Quality': ['Pool Quantity & Quality'],\n",
    "    'Pool Quantity& Quality': ['Pool Quantity& Quality'],\n",
    "    'Pools- Deep Pools': ['Pools- Deep Pools'],\n",
    "    #'Riparian- Canopy Cover': ['Riparian'],\n",
    "    #'Riparian- Structure': ['Riparian'], \n",
    "    #'Riparian-Disturbance': ['Riparian'], \n",
    "    #'Stability Total': ['Channel Stability'],\n",
    "    'Coarse Substrate': ['Quality Substrate'],\n",
    "    'Coarse Substrate': ['Coarse Substrate'],\n",
    "    'Quality Substrate': ['Substrate'],\n",
    "    'Quality Substrate': ['Quality Substrate'],\n",
    "    # 'Temperature': ['Temperature- Adult Holding', 'Temperature- Adult Spawning','Temperature- BT Holding', \n",
    "    #               'Temperature- BT Rearing','Temperature- FMO', 'Temperature- Summer Rearing',\n",
    "    #                'Temperature- Thermal Barriers', 'Temperature- Winter Rearing'],\n",
    "    'Temperature': ['Temperature'],\n",
    "    'Temperature- Rearing': ['Temperature'],\n",
    "    'Temperature- Rearing': ['Temperature- Rearing'],\n",
    "    'Riparian': ['Riparian'],\n",
    "    'Riparian- Structure' : ['Riparian- Structure'],\n",
    "    'Riparian-Disturbance': ['Riparian-Disturbance'],\n",
    "    'Riparian- Canopy Cover': ['Riparian- Canopy Cover'],\n",
    "    'Entrainment- Fry': ['Entrainment- Fry'],\n",
    "    'Predators Fry': ['Predators Fry'],\n",
    "    'Predators- Adult': ['Predators- Adult'],\n",
    "    'Food- Food Web Resources': ['Food- Food Web Resources'], \n",
    "    'Contaminants': ['Contaminants'],\n",
    "    'Temperature- Adult Holding': ['Temperature- Adult Holding'],\n",
    "    'Predators- Juveniles': ['Predators- Juveniles'],\n",
    "    'Flow- Scour': ['Flow- Scour'],\n",
    "     'Icing': ['Icing'], \n",
    "    'Entrainment- Summer Rearing': ['Entrainment- Summer Rearing'],\n",
    "    #'Total Riparian': ['Riparian'], # not using this anymore (I think it morphed to \"Riparian\") \n",
    "    # all these are habitat attributes not present in the Project data:\n",
    "    'Cover- Undercut Banks': ['NA'],  'Temperature- Adult Spawning': ['NA'],\n",
    "    'Temperature- BT Holding': ['NA'], 'Temperature- BT Rearing': ['NA'],'Temperature- FMO': ['NA'], \n",
    "    'Temperature- Summer Rearing': ['NA'],'Temperature- Thermal Barriers': ['NA'], 'Temperature- Winter Rearing': ['NA'],\n",
    "    'Harassment': ['NA'],  \n",
    "    'Pool Riffle': ['NA'],  'Substrate- Gravel/Cobble': ['NA'],\n",
    "    'Edge Habitat': ['NA'], \n",
    "    'Substrate- Diversity': ['NA']\n",
    "} \n",
    "\n",
    "Habitat_Attribute_Names_Crosswalk_df = pd.DataFrame(Habitat_Attribute_Names_Crosswalk)\n",
    "\n",
    "# -------------- list of habitat attributes from Habitat Quality output -----------\n",
    "habitat_attributes = ['Temperature- Rearing',\n",
    "       'Flow- Summer Base Flow', 'Riparian- Structure', 'Riparian-Disturbance', 'Riparian- Canopy Cover', 'Riparian',\n",
    "        'Coarse Substrate', 'Cover- Wood','Pool Quantity& Quality', 'Off-Channel- Floodplain',\n",
    "       'Off-Channel- Side-Channels', 'Channel Stability', 'Bank Stability', 'Stability']\n",
    "\n",
    "# Habitat Attrbutes in Limiting Factors note included: '% Fines/Embeddedness', 'Cover- Boulders', 'Cover- Undercut Banks',\n",
    "#                                                     'Contaminants', 'Substrate- Diversity', 'Edge Habitat', 'Pool Riffle'"
   ]
  },
  {
   "cell_type": "markdown",
   "metadata": {},
   "source": [
    "## ----------------------------------------------------------------------------------------------------------------------------\n",
    "##             Crosswalk (Code Step 8A) Step 2: List Habitat Attributes for each Project Category\n",
    "## ----------------------------------------------------------------------------------------------------------------------------"
   ]
  },
  {
   "cell_type": "code",
   "execution_count": null,
   "metadata": {},
   "outputs": [],
   "source": [
    "# ----------- Remove Action Types/Categories with no Action Type ---------------\n",
    "Category_Type_Data_Updated = Category_Type_Data[~Category_Type_Data['Action Type'].isin(['?'])]"
   ]
  },
  {
   "cell_type": "code",
   "execution_count": null,
   "metadata": {},
   "outputs": [],
   "source": [
    "# ----------------------- Create Data Frame ---------------------\n",
    "Crosswalk_Habitat_Attributes_and_Project_Categories_DataFrame = pd.DataFrame([])\n",
    "\n",
    "# ------------------- Loop through each Action Type to get Habitat Attributes ----------\n",
    "for action_type_x in Category_Type_Data_Updated['Action Type']:\n",
    "    \n",
    "    # ----------------- Identify the Action Category for this Action Type ------------\n",
    "    action_category_x = Category_Type_Data_Updated[Category_Type_Data_Updated['Action Type'].isin([action_type_x])]['Action Category']\n",
    "\n",
    "    # -------------- List All the Pathways and Habitat Attributes for the Action Category ---------------\n",
    "    pathways_habitat_attributes_x = Habitat_Attribute_Category_Data[Habitat_Attribute_Category_Data['Action Category'].isin(action_category_x.tolist())]\n",
    "    \n",
    "    # ---------------- Add the Action Type to the beginning of the Data Frame --------------\n",
    "    pathways_habitat_attributes_x.insert(0, 'Action Type', action_type_x )\n",
    "    \n",
    "    # --------------------------- Add to Main Data Frame of Action Types and Habitat Attributes ---------\n",
    "    Crosswalk_Habitat_Attributes_and_Project_Categories_DataFrame = Crosswalk_Habitat_Attributes_and_Project_Categories_DataFrame.append(pathways_habitat_attributes_x)\n",
    "    \n",
    "# -------------------- add an NA row ------------------\n",
    "NA_row = pd.DataFrame(['NA', 'NA', 'NA', 'NA', 'NA', 'NA'])\n",
    "NA_row = NA_row.transpose()\n",
    "NA_row.columns = Crosswalk_Habitat_Attributes_and_Project_Categories_DataFrame.columns\n",
    "Crosswalk_Habitat_Attributes_and_Project_Categories_DataFrame = Crosswalk_Habitat_Attributes_and_Project_Categories_DataFrame.append(NA_row)"
   ]
  },
  {
   "cell_type": "code",
   "execution_count": null,
   "metadata": {},
   "outputs": [],
   "source": [
    "# ------------ remove any white space at beginning or end of cells -----------------\n",
    "Crosswalk_Habitat_Attributes_and_Project_Categories_DataFrame = Crosswalk_Habitat_Attributes_and_Project_Categories_DataFrame.applymap(lambda x: x.strip() if isinstance(x, str) else x)"
   ]
  },
  {
   "cell_type": "markdown",
   "metadata": {},
   "source": [
    "## ----------------------------------------------------------------------------------------------------------------------------\n",
    "# _\n",
    "#            Code Step 8B: RTT Priority Actions: Generate Action Categories for each Reaches Based on their Habitat Scores\n",
    "# _\n",
    "## ----------------------------------------------------------------------------------------------------------------------------"
   ]
  },
  {
   "cell_type": "code",
   "execution_count": null,
   "metadata": {},
   "outputs": [],
   "source": []
  },
  {
   "cell_type": "markdown",
   "metadata": {},
   "source": [
    "## ----------------------------------------------------------------------------------------------------------------------------\n",
    "##          Generate Actions (Code Step 8B) Part 1: Prep Habitat Quality Scores data\n",
    "## ----------------------------------------------------------------------------------------------------------------------------"
   ]
  },
  {
   "cell_type": "code",
   "execution_count": null,
   "metadata": {},
   "outputs": [],
   "source": [
    "# --------------- Set data generated earlier in script to HQ data name for this portion of script ------------------\n",
    "Habitat_Quality_Spring_Chinook = Spring_Chinook_data_frame\n",
    "Habitat_Quality_Steelhead = Steelhead_data_frame"
   ]
  },
  {
   "cell_type": "code",
   "execution_count": null,
   "metadata": {},
   "outputs": [],
   "source": [
    "# ----------------------- Replace \"Error\" values with NA value ----------------\n",
    "Habitat_Quality_Spring_Chinook['Riparian- Structure'] = Habitat_Quality_Spring_Chinook['Riparian- Structure'].replace('Error', np.nan)\n",
    "Habitat_Quality_Steelhead['Riparian- Structure'] = Habitat_Quality_Steelhead['Riparian- Structure'].replace('Error', np.nan)"
   ]
  },
  {
   "cell_type": "code",
   "execution_count": null,
   "metadata": {},
   "outputs": [],
   "source": []
  },
  {
   "cell_type": "markdown",
   "metadata": {},
   "source": [
    "## ----------------------------------------------------------------------------------------------------------------------------\n",
    "##            Generate Actions (Code Step 8B) Part 2: Develop Function to Output Actions for \n",
    "# HABITAT QUALITY PATHWAY\n",
    "## ----------------------------------------------------------------------------------------------------------------------------"
   ]
  },
  {
   "cell_type": "code",
   "execution_count": null,
   "metadata": {},
   "outputs": [],
   "source": []
  },
  {
   "cell_type": "markdown",
   "metadata": {},
   "source": [
    "## ----------------------------------------------------------------------------------------------------------------------------\n",
    "##            Part 2A: Functions to output individual impaired habitat attribute and reaches\n",
    "## ----------------------------------------------------------------------------------------------------------------------------"
   ]
  },
  {
   "cell_type": "code",
   "execution_count": null,
   "metadata": {},
   "outputs": [],
   "source": [
    "def unique(list1): \n",
    "  \n",
    "    # intilize a null list \n",
    "    unique_list = [] \n",
    "      \n",
    "    # traverse for all elements \n",
    "    for x in list1: \n",
    "        # check if exists in unique_list or not \n",
    "        if x not in unique_list: \n",
    "            unique_list.append(x) \n",
    "    return(unique_list)\n",
    "\n",
    "def output_habitat_actions_categories_for_Habitat_Quality_FUNCTION(crosswalk_habitat_attribute_x, reach_name_x, habitat_quality_row, habitat_quality_output, column_names):\n",
    "    \n",
    "    # ------------- identify Action Category and Action Type related to impaired habitat attribute\n",
    "    pathways_habitat_attributes_x = Crosswalk_Habitat_Attributes_and_Project_Categories_DataFrame.loc[Crosswalk_Habitat_Attributes_and_Project_Categories_DataFrame['Habitat Attribute'].isin([crosswalk_habitat_attribute_x])]\n",
    "\n",
    "    # ---------------------- Only get Projects developed for this specific reach ---------\n",
    "    Projects_List_Specific_Reach_x = Project_List_Data.loc[Project_List_Data.Reach_UCSRB.isin([reach_name_x])]\n",
    "\n",
    "    # --------------------- List Projects by Action Type for this specific impaired habitat attribute -------------\n",
    "    Projects_List_Action_Type_Specific_Reach_x_Habitat_Attribute = Projects_List_Specific_Reach_x.loc[Projects_List_Specific_Reach_x.Action_Type.isin(pathways_habitat_attributes_x['Action Type'])]\n",
    "\n",
    "    # --------------------- List Projects by Action Category for this specific impaired habitat attribute -------------\n",
    "    Projects_List_Action_Category_Specific_Reach_x_Habitat_Attribute = Projects_List_Specific_Reach_x.loc[Projects_List_Specific_Reach_x.Action_Category.isin(pathways_habitat_attributes_x['Action Category'])]\n",
    "\n",
    "    # -------- action category - if more than one, combine all --------\n",
    "    action_category_x = [''.join(col).strip() for col in pathways_habitat_attributes_x['Action Category'][:]]\n",
    "    action_category_x = unique(action_category_x)\n",
    "    action_category_x = ',  '.join(action_category_x)\n",
    "    # -------- action type - if more than one, combine all --------\n",
    "    action_type_x = [''.join(col).strip() for col in pathways_habitat_attributes_x['Action Type'][:]]\n",
    "    action_type_x = unique(action_type_x)\n",
    "    action_type_x = ',  '.join(action_type_x)\n",
    "\n",
    "    # --------------- if there is no Projects in this specific reach --------------\n",
    "    if Projects_List_Specific_Reach_x.shape[0] == 0:\n",
    "        output_row_x = pd.DataFrame([ habitat_quality_row['Subbasin'], habitat_quality_row['Assessment Unit'], \n",
    "                                     habitat_quality_row['ReachName'], habitat_quality_row['Habitat_Attribute'], \n",
    "                                     habitat_quality_row['Habitat_Quality_Score'], action_category_x, action_type_x,'no', 'NA'])\n",
    "        output_row_x = output_row_x.transpose()\n",
    "        output_row_x.columns = column_names\n",
    "\n",
    "    # -------- if there is Projects in this reach, but no Projects related to impaired habitat attribute ----\n",
    "    elif Projects_List_Action_Type_Specific_Reach_x_Habitat_Attribute.shape[0]==0 or Projects_List_Action_Category_Specific_Reach_x_Habitat_Attribute.shape[0]==0:\n",
    "\n",
    "        output_row_x = pd.DataFrame([habitat_quality_row['Subbasin'], habitat_quality_row['Assessment Unit'], \n",
    "                                     habitat_quality_row['ReachName'], habitat_quality_row['Habitat_Attribute'], \n",
    "                                     habitat_quality_row['Habitat_Quality_Score'], \n",
    "                                     action_category_x,action_type_x, 'no', 'NA'])\n",
    "        output_row_x = output_row_x.transpose()\n",
    "        output_row_x.columns = column_names\n",
    "\n",
    "    # ----------- if Projects for the impaired habitat attribute are present (based on Action Type or Action Category) ------------\n",
    "    else:\n",
    "\n",
    "        # --------------------------------------------------------------------------\n",
    "        #           Add project to saved output\n",
    "        # --------------------------------------------------------------------------\n",
    "\n",
    "        # ------------- action (project) descriptions ----------\n",
    "        project_x = [''.join(col).strip() for col in Projects_List_Action_Category_Specific_Reach_x_Habitat_Attribute['Action_Description'][:]]\n",
    "        project_x = unique(project_x)\n",
    "        project_x = ',  '.join(project_x)\n",
    "\n",
    "        output_row_x = pd.DataFrame([habitat_quality_row['Subbasin'], habitat_quality_row['Assessment Unit'], \n",
    "                                     habitat_quality_row['ReachName'], habitat_quality_row['Habitat_Attribute'], \n",
    "                                     habitat_quality_row['Habitat_Quality_Score'],  \n",
    "                                     action_category_x, action_type_x,'yes', project_x])\n",
    "        output_row_x = output_row_x.transpose()\n",
    "        output_row_x.columns = column_names\n",
    "        #print(habitat_quality_row)\n",
    "        #print(output_row_x)\n",
    "        #print(\"     \")\n",
    "            \n",
    "    return(output_row_x)\n"
   ]
  },
  {
   "cell_type": "markdown",
   "metadata": {},
   "source": [
    "## ----------------------------------------------------------------------------------------------------------------------------\n",
    "##           Part 2B: Master Function for Habitat Quality\n",
    "##           NOTE: RTT decided to not use specific projects on reach assessments\n",
    "## ----------------------------------------------------------------------------------------------------------------------------"
   ]
  },
  {
   "cell_type": "code",
   "execution_count": null,
   "metadata": {},
   "outputs": [],
   "source": [
    "\n",
    "\n",
    "# ------ just a dummy array for index values ------------\n",
    "index_vals = pd.Series(range(0,7))\n",
    "\n",
    "def Generate_Project_Output_Table_for_Habitat_Quality(species):\n",
    "\n",
    "    # ------------------------------------------------------------------------------\n",
    "    #      Initiate Data Processing\n",
    "    # ------------------------------------------------------------------------------\n",
    "    print('   ')\n",
    "    print('-------------------------- starting output for Species: ' + species + '------------------------')\n",
    "    \n",
    "    # ------------------------------------------------------------------------------\n",
    "    #       Establish species name variable\n",
    "    # ------------------------------------------------------------------------------\n",
    "\n",
    "    if species == \"Spring Chinook\":\n",
    "\n",
    "        # ------- establish species variable name -----\n",
    "        variable_name = 'variable_SPCH'\n",
    "        # ------- Use Spring Chinook data ----------\n",
    "        criteria_data = Habitat_Quality_Spring_Chinook\n",
    "        # ------------- output paths ---------\n",
    "        output_location_projects_only = output_location_Spring_Chinook_Habitat_Quality_Projects_only\n",
    "        output_location_all_actions = output_location_Spring_Chinook_Habitat_Quality_All_Actions\n",
    "            \n",
    "    elif species == \"Steelhead\":\n",
    "\n",
    "        # ------- establish species variable name -----\n",
    "        variable_name = 'variable_SH'\n",
    "        # ------- Use Spring Chinook data ----------\n",
    "        criteria_data = Habitat_Quality_Steelhead\n",
    "        # ------------- output paths ---------\n",
    "        output_location_projects_only = output_location_Steelhead_Habitat_Quality_Projects_only\n",
    "        output_location_all_actions = output_location_Steelhead_Habitat_Quality_All_Actions\n",
    "        \n",
    "    else:\n",
    "\n",
    "        \n",
    "        print('Incorrectly entered species name - re-type species name')\n",
    "        return\n",
    "        \n",
    "        \n",
    "    # ------------------------------------------------------------------------------\n",
    "    #      Step 1: Identify Priority Reaches (via Habitat Quality)\n",
    "    # ------------------------------------------------------------------------------\n",
    "\n",
    "    # NOTE: no actions needed for this - since Habitat Quality score data are all priority reaches\n",
    "    #        based on the Habitat_Quality_Prioritization_Output.ipynb code\n",
    "    \n",
    "    # ------------------------------------------------------------------------------\n",
    "    #      Step 2: Identify impaired habitat attributes based on Habitat Quality criteria \n",
    "    # ------------------------------------------------------------------------------\n",
    "\n",
    "    # -------------- data frame to add reaches with specific habitat attributes that are impaired -------\n",
    "    impaired_habitat_data_frame = pd.DataFrame([])\n",
    "    # ------------ data frame that will include all impaired reaches -------------\n",
    "    column_names = [ 'Subbasin','Assessment_Unit','ReachName', 'Habitat_Attribute', 'Habitat_Quality_Score',\n",
    "                    'Action Category','Action Type','Project_present_yes_no','Project']\n",
    "    habitat_quality_output = pd.DataFrame([], columns = column_names)\n",
    "\n",
    "    for habitat_attribute_x in habitat_attributes:\n",
    "        print('habitat_attribute_x')\n",
    "        print(habitat_attribute_x)\n",
    "        # ------------- identify all the reaches that are impaired based on the HQ score for this habitat attribute ------\n",
    "        # NOTE - this is redundant - since for the HQ pathway script - it already filters for this, only necessary if pulling data that is not already filtered for the HQ score\n",
    "        criteria_data_x = criteria_data[['ReachName', 'Assessment Unit', 'Subbasin',habitat_attribute_x]][criteria_data[habitat_attribute_x]<=indiv_habitat_attribute_score] \n",
    "        # ------------------------- rename column names ----------\n",
    "        criteria_data_x.columns  = ['ReachName', 'Assessment Unit', 'Subbasin', 'Habitat_Quality_Score']\n",
    "        # ------------------------- add habitat attribute name ----------\n",
    "        criteria_data_x['Habitat_Attribute'] = habitat_attribute_x\n",
    "        # ----------------------- append to data frame -------------\n",
    "        impaired_habitat_data_frame = impaired_habitat_data_frame.append(criteria_data_x)\n",
    "        \n",
    "        # ------------ print data --------\n",
    "        print('------------ Habitat Attribute: ' + habitat_attribute_x)\n",
    "        print('Total number of reaches for this habitat attribute: ')\n",
    "        print(criteria_data_x.shape[0])\n",
    "        \n",
    "\n",
    "    \n",
    "    #print(impaired_habitat_data_frame)\n",
    "    # ------------------------------------------------------------------------------\n",
    "    #      Step 3:  Identify Action Types/Categories linked to impacted Habitat Attributes in each impaired reach (based on criteria in Step 1) \n",
    "    # ------------------------------------------------------------------------------\n",
    "\n",
    "    reaches_not_present_in_projects = pd.DataFrame([])\n",
    "    reaches_present_no_projects = pd.DataFrame([])\n",
    "    Projects_Action_Type_for_impaired_habitat_attributes = pd.DataFrame([])\n",
    "    Projects_Action_Category_for_impaired_habitat_attributes = pd.DataFrame([])\n",
    "    Projects_for_impaired_habitat_attributes = pd.DataFrame([])\n",
    "    for index, row in impaired_habitat_data_frame.iterrows():\n",
    "\n",
    "                \n",
    "        # ----------------- Reach Name for this Specific reach -----------\n",
    "        reach_name_x = row['ReachName']\n",
    "\n",
    "        # ---------------- Idenfity habitat attribute for this reach ---------------\n",
    "        habitat_attribute_x = row['Habitat_Attribute']\n",
    "        crosswalk_habitat_attribute_x = habitat_attribute_x\n",
    "        \n",
    "        # ----------------- Run Function to get output for each reach-impaired habitat combo, print Projects when present -----\n",
    "        habitat_quality_row = row\n",
    "        row_output_x = output_habitat_actions_categories_for_Habitat_Quality_FUNCTION(crosswalk_habitat_attribute_x, reach_name_x, habitat_quality_row, habitat_quality_output, column_names)\n",
    "        habitat_quality_output = habitat_quality_output.append(row_output_x)  \n",
    "\n",
    "        # -------------- create Data Frame with reach and habitat attribute -------\n",
    "        reach_habitat_attribute_data_frame = pd.DataFrame([reach_name_x,habitat_attribute_x])\n",
    "        reach_habitat_attribute_data_frame = reach_habitat_attribute_data_frame.transpose() # make it int data frame with two columns\n",
    "\n",
    "        # ------------ identify habitat attribute names connected to Action Category/Type --------\n",
    "        crosswalk_habitat_attribute_x = Habitat_Attribute_Names_Crosswalk[habitat_attribute_x]\n",
    "\n",
    "        # ------------- identify Action Category and Action Type related to impaired habitat attribute\n",
    "        pathways_habitat_attributes_x = Crosswalk_Habitat_Attributes_and_Project_Categories_DataFrame.loc[Crosswalk_Habitat_Attributes_and_Project_Categories_DataFrame['Habitat Attribute'].isin(crosswalk_habitat_attribute_x)]\n",
    "\n",
    "        # ---------------------- Only get Projects developed for this specific reach ---------\n",
    "        Projects_List_Specific_Reach_x = Project_List_Data.loc[Project_List_Data.Reach_UCSRB.isin([reach_name_x])]\n",
    "\n",
    "        # --------------------- List Projects by Action Type for this specific impaired habitat attribute -------------\n",
    "        Projects_List_Action_Type_Specific_Reach_x_Habitat_Attribute = Projects_List_Specific_Reach_x.loc[Projects_List_Specific_Reach_x.Action_Type.isin(pathways_habitat_attributes_x['Action Type'])]\n",
    "\n",
    "        # --------------------- List Projects by Action Type for this specific impaired habitat attribute -------------\n",
    "        Projects_List_Action_Category_Specific_Reach_x_Habitat_Attribute = Projects_List_Specific_Reach_x.loc[Projects_List_Specific_Reach_x.Action_Category.isin(pathways_habitat_attributes_x['Action Category'])]\n",
    "\n",
    "        # --------------- if there is no Projects in this specific reach --------------\n",
    "        if Projects_List_Specific_Reach_x.shape[0] == 0:\n",
    "            reaches_not_present_in_projects = reaches_not_present_in_projects.append(reach_habitat_attribute_data_frame)\n",
    "\n",
    "        # -------- if there is Projects in this reach, but no Projects related to impaired habitat attribute -----\n",
    "        elif Projects_List_Action_Type_Specific_Reach_x_Habitat_Attribute.shape[0]==0 or Projects_List_Action_Category_Specific_Reach_x_Habitat_Attribute.shape[0]==0:\n",
    "            reaches_present_no_projects = reaches_present_no_projects.append(reach_habitat_attribute_data_frame)\n",
    "\n",
    "        # ----------- if Projects for the impaired habitat attribute are present (based on Action Type or Action Category) ------------\n",
    "        else:\n",
    "            #print('-----------------reaches with projects for impaired habitat attribute-------------')\n",
    "            #print(reach_habitat_attribute_data_frame)\n",
    "\n",
    "            # ----------------- Add the habitat attribute name to the data frame ----------------\n",
    "            # ------------ For Action Type data frame ---------\n",
    "            reach_habitat_attribute_data_frame_for_output_x = reach_habitat_attribute_data_frame.append([reach_habitat_attribute_data_frame]*(Projects_List_Action_Type_Specific_Reach_x_Habitat_Attribute.shape[0]-1))\n",
    "            reach_habitat_attribute_data_frame_for_output_x.columns = ['ReachName','Habitat_Attribute']\n",
    "            reach_habitat_attribute_data_frame_for_output_x.index = Projects_List_Action_Type_Specific_Reach_x_Habitat_Attribute.index\n",
    "            Projects_List_Action_Type_Specific_Reach_x_Habitat_Attribute['Habitat_Attribute'] = reach_habitat_attribute_data_frame_for_output_x['Habitat_Attribute']\n",
    "\n",
    "            # --------------- For Action Category data frame -------------\n",
    "            reach_habitat_attribute_data_frame_for_output_x = reach_habitat_attribute_data_frame.append([reach_habitat_attribute_data_frame]*(Projects_List_Action_Category_Specific_Reach_x_Habitat_Attribute.shape[0]-1))\n",
    "            reach_habitat_attribute_data_frame_for_output_x.columns = ['ReachName','Habitat_Attribute']\n",
    "            reach_habitat_attribute_data_frame_for_output_x.index = Projects_List_Action_Category_Specific_Reach_x_Habitat_Attribute.index\n",
    "            Projects_List_Action_Category_Specific_Reach_x_Habitat_Attribute['Habitat_Attribute'] = reach_habitat_attribute_data_frame_for_output_x['Habitat_Attribute']\n",
    "\n",
    "            # --------------- save output to individual Action Category/Action Type data frames ---------\n",
    "            Projects_Action_Type_for_impaired_habitat_attributes = Projects_Action_Type_for_impaired_habitat_attributes.append(Projects_List_Action_Type_Specific_Reach_x_Habitat_Attribute)\n",
    "            Projects_Action_Category_for_impaired_habitat_attributes = Projects_Action_Category_for_impaired_habitat_attributes.append(Projects_List_Action_Category_Specific_Reach_x_Habitat_Attribute)\n",
    "\n",
    "            # ------------- Save output to master data frame -------------------\n",
    "            Projects_for_impaired_habitat_attributes = Projects_for_impaired_habitat_attributes.append(Projects_List_Action_Type_Specific_Reach_x_Habitat_Attribute)\n",
    "            Projects_for_impaired_habitat_attributes = Projects_for_impaired_habitat_attributes.append(Projects_List_Action_Category_Specific_Reach_x_Habitat_Attribute)\n",
    "            #print(Projects_List_Action_Type_Specific_Reach_x_Habitat_Attribute.shape)\n",
    "            #print(Projects_List_Action_Category_Specific_Reach_x_Habitat_Attribute.shape)\n",
    "\n",
    "    # ------------------------- Collapse duplicated projects to one project, list multiple habitat attributes ----------\n",
    "    project_data_frame = pd.DataFrame(Projects_for_impaired_habitat_attributes['ProjectID'])\n",
    "    duplicated_project_data_frame_x = project_data_frame.loc[project_data_frame.duplicated()].sort_values(by=['ProjectID'])\n",
    "\n",
    "    # ------- loop through projects to collapse duplicated projects ------- \n",
    "    Projects_for_impaired_habitat_attributes_updated = pd.DataFrame([])\n",
    "    unique_Project_IDs_x = Projects_for_impaired_habitat_attributes.ProjectID.unique()\n",
    "    for projectID_x in unique_Project_IDs_x:\n",
    "\n",
    "        # ---------- if a duplicated project --------\n",
    "        if any(duplicated_project_data_frame_x.ProjectID.isin([projectID_x]) ): \n",
    "            Duplicated_Projects_x = Projects_for_impaired_habitat_attributes.loc[Projects_for_impaired_habitat_attributes.ProjectID.isin([projectID_x])]\n",
    "            # ------- Habitat Attribute list for all the duplicated projects ----------\n",
    "            Habitat_Attributes_duplicated_x = Duplicated_Projects_x.Habitat_Attribute\n",
    "            Habitat_Attributes_duplicated_x = Habitat_Attributes_duplicated_x.unique()\n",
    "            Habitat_Attributes_duplicated_x = str(np.stack(Habitat_Attributes_duplicated_x) )\n",
    "\n",
    "            # ------------ Get a single row for all the duplicated projects ---------------\n",
    "            row_x = Projects_for_impaired_habitat_attributes.loc[Projects_for_impaired_habitat_attributes.ProjectID.isin([projectID_x])].iloc[0:1,]\n",
    "            row_x.Habitat_Attribute = Habitat_Attributes_duplicated_x\n",
    "            Projects_for_impaired_habitat_attributes_updated = Projects_for_impaired_habitat_attributes_updated.append(row_x)\n",
    "\n",
    "        # ------- if project ID is not duplicated ----------\n",
    "        else:\n",
    "            row_x = Projects_for_impaired_habitat_attributes.loc[Projects_for_impaired_habitat_attributes.ProjectID.isin([projectID_x])]\n",
    "            Projects_for_impaired_habitat_attributes_updated = Projects_for_impaired_habitat_attributes_updated.append(row_x)\n",
    "\n",
    "    # ----------------- print number of reaches -------------\n",
    "    print('total number of JUST projects : ' )\n",
    "    print(Projects_for_impaired_habitat_attributes_updated.shape[0] )\n",
    "    print(\" \")\n",
    "    print(' total number of Action Categories, Action Types and Projects: ')\n",
    "    print( habitat_quality_output.shape[0])\n",
    "    print(\" \")\n",
    "    # ------------------------------------------------------------------------------\n",
    "    #      Step 4: Generate output based on reaches\n",
    "    # ------------------------------------------------------------------------------\n",
    "    \n",
    "    # --------- remove brackets from Habitat Attributes -------\n",
    "    Projects_for_impaired_habitat_attributes_updated['Habitat_Attribute'] = Projects_for_impaired_habitat_attributes_updated['Habitat_Attribute'].str.strip(\"[]\")\n",
    "    \n",
    "    # ------------------------------ OUTPUT to an Excel spreadsheet  -------------------------  \n",
    "    Projects_for_impaired_habitat_attributes_updated.to_excel(output_location_projects_only, index = False)\n",
    "    print('output location for JUST projects: ' + output_location_projects_only)\n",
    "    habitat_quality_output.to_excel(output_location_all_actions, index = False)\n",
    "    print('output location for Action Categories, Action Types, and Projects (when present): ' + output_location_all_actions)\n",
    "    \n",
    "    \n",
    "\n",
    "    "
   ]
  },
  {
   "cell_type": "markdown",
   "metadata": {},
   "source": [
    "## ----------------------------------------------------------------------------------------------------------------------------\n",
    "##           Part 2C: Output Actions for Habitat Quality\n",
    "## ----------------------------------------------------------------------------------------------------------------------------"
   ]
  },
  {
   "cell_type": "code",
   "execution_count": null,
   "metadata": {},
   "outputs": [],
   "source": [
    "Generate_Project_Output_Table_for_Habitat_Quality('Spring Chinook')\n",
    "Generate_Project_Output_Table_for_Habitat_Quality('Steelhead')"
   ]
  },
  {
   "cell_type": "code",
   "execution_count": null,
   "metadata": {},
   "outputs": [],
   "source": []
  },
  {
   "cell_type": "markdown",
   "metadata": {},
   "source": [
    "## ----------------------------------------------------------------------------------------------------------------------------\n",
    "#            Generate Actions (Code Step 8B) Part 3: Develop Function to Output Actions for \n",
    "# LIMITING FACTOR PATHWAY\n",
    "## ----------------------------------------------------------------------------------------------------------------------------"
   ]
  },
  {
   "cell_type": "code",
   "execution_count": null,
   "metadata": {},
   "outputs": [],
   "source": [
    "# ---------------- Print out Habitat Attributes for Limiting Factors -----------\n",
    "Limiting_Factor_Spring_Chinook_Adult_Migration['Habitat Attribute'].sort_values().unique(),\n",
    "Limiting_Factor_Spring_Chinook_Holding_and_Maturation['Habitat Attribute'].sort_values().unique(),\n",
    "Limiting_Factor_Spring_Chinook_Spawning['Habitat Attribute'].sort_values().unique(),\n",
    "Limiting_Factor_Spring_Chinook_Fry['Habitat Attribute'].sort_values().unique(),\n",
    "Limiting_Factor_Spring_Chinook_Summer_Rearing['Habitat Attribute'].sort_values().unique(),\n",
    "Limiting_Factor_Spring_Chinook_Winter_Rearing['Habitat Attribute'].sort_values().unique(),\n",
    "Limiting_Factor_Spring_Chinook_Smolt['Habitat Attribute'].sort_values().unique(),\n",
    "\n",
    "Limiting_Factor_Steelhead_Adult_Migration['Habitat Attribute'].sort_values().unique(),\n",
    "Limiting_Factor_Steelhead_Holding_and_Maturation['Habitat Attribute'].sort_values().unique(),\n",
    "Limiting_Factor_Steelhead_Spawning['Habitat Attribute'].sort_values().unique(),\n",
    "Limiting_Factor_Steelhead_Fry['Habitat Attribute'].sort_values().unique(),\n",
    "Limiting_Factor_Steelhead_Summer_Rearing['Habitat Attribute'].sort_values().unique(),\n",
    "Limiting_Factor_Steelhead_Winter_Rearing['Habitat Attribute'].sort_values().unique(),\n",
    "Limiting_Factor_Steelhead_Smolt['Habitat Attribute'].sort_values().unique() \n",
    "\n"
   ]
  },
  {
   "cell_type": "code",
   "execution_count": null,
   "metadata": {},
   "outputs": [],
   "source": [
    "# ------------------------ establish names for Life Stage data ---------------\n",
    "criteria_data_adult_migration = Limiting_Factor_Spring_Chinook_Adult_Migration\n",
    "criteria_data_holding_and_maturation = Limiting_Factor_Spring_Chinook_Holding_and_Maturation\n",
    "criteria_data_spawning = Limiting_Factor_Spring_Chinook_Spawning\n",
    "criteria_data_fry = Limiting_Factor_Spring_Chinook_Fry\n",
    "criteria_data_summer_rearing = Limiting_Factor_Spring_Chinook_Summer_Rearing\n",
    "criteria_data_winter_rearing = Limiting_Factor_Spring_Chinook_Winter_Rearing\n",
    "criteria_data_smolt = Limiting_Factor_Spring_Chinook_Smolt"
   ]
  },
  {
   "cell_type": "markdown",
   "metadata": {},
   "source": [
    "## ----------------------------------------------------------------------------------------------------------------------------\n",
    "##   Part 3A: Functions to output individual impaired limiting factor and reaches\n",
    "## ----------------------------------------------------------------------------------------------------------------------------"
   ]
  },
  {
   "cell_type": "code",
   "execution_count": null,
   "metadata": {},
   "outputs": [],
   "source": [
    "def unique(list1): \n",
    "  \n",
    "    # intilize a null list \n",
    "    unique_list = [] \n",
    "      \n",
    "    # traverse for all elements \n",
    "    for x in list1: \n",
    "        # check if exists in unique_list or not \n",
    "        if x not in unique_list: \n",
    "            unique_list.append(x) \n",
    "    return(unique_list)\n",
    "\n",
    "\n",
    "def output_habitat_actions_categories_Limiting_Factor_FUNCTION(crosswalk_habitat_attribute_x, reach_name_x, life_stage_output_x,\n",
    "                                                              impaired_habitat_row, limiting_factor_output, column_names):\n",
    "    #print('----------impaired_habitat_row ---------:')\n",
    "    #print(impaired_habitat_row)\n",
    "    # ------------- identify Action Category and Action Type related to impaired habitat attribute\n",
    "    pathways_habitat_attributes_x = Crosswalk_Habitat_Attributes_and_Project_Categories_DataFrame.loc[Crosswalk_Habitat_Attributes_and_Project_Categories_DataFrame['Habitat Attribute'].isin([crosswalk_habitat_attribute_x])]\n",
    "\n",
    "    # ---------------------- Only get Projects developed for this specific reach ---------\n",
    "    Projects_List_Specific_Reach_x = Project_List_Data.loc[Project_List_Data.Reach_UCSRB.isin([reach_name_x])]\n",
    "\n",
    "    # --------------------- List Projects by Action Type for this specific impaired habitat attribute -------------\n",
    "    Projects_List_Action_Type_Specific_Reach_x_Habitat_Attribute = Projects_List_Specific_Reach_x.loc[Projects_List_Specific_Reach_x.Action_Type.isin(pathways_habitat_attributes_x['Action Type'])]\n",
    "\n",
    "    # --------------------- List Projects by Action Type for this specific impaired habitat attribute -------------\n",
    "    Projects_List_Action_Category_Specific_Reach_x_Habitat_Attribute = Projects_List_Specific_Reach_x.loc[Projects_List_Specific_Reach_x.Action_Category.isin(pathways_habitat_attributes_x['Action Category'])]\n",
    "\n",
    "    # -------- action category - if more than one, combine all --------\n",
    "    action_category_x = [''.join(col).strip() for col in pathways_habitat_attributes_x['Action Category'][:]]\n",
    "    action_category_x = unique(action_category_x)\n",
    "    action_category_x = ',  '.join(action_category_x)\n",
    "    # -------- action type - if more than one, combine all --------\n",
    "    action_type_x = [''.join(col).strip() for col in pathways_habitat_attributes_x['Action Type'][:]]\n",
    "    action_type_x = unique(action_type_x)\n",
    "    action_type_x = ',  '.join(action_type_x)\n",
    "\n",
    "    # --------------- if there is no Projects in this specific reach --------------\n",
    "    if Projects_List_Specific_Reach_x.shape[0] == 0:\n",
    "        output_row_x = pd.DataFrame([impaired_habitat_row['Subbasin'], impaired_habitat_row['Assessment Unit'], \n",
    "                                     impaired_habitat_row['ReachName'], impaired_habitat_row['Habitat Attribute'], impaired_habitat_row['Life_Stage'], \n",
    "                                     impaired_habitat_row['Habitat Attribute Score'],\n",
    "                                    action_category_x, action_type_x,'no', 'NA'])\n",
    "        output_row_x = output_row_x.transpose()\n",
    "        output_row_x.columns =  column_names\n",
    "\n",
    "    # -------- if there is Projects in this reach, but no Projects related to impaired habitat attribute ----\n",
    "    elif Projects_List_Action_Type_Specific_Reach_x_Habitat_Attribute.shape[0]==0 or Projects_List_Action_Category_Specific_Reach_x_Habitat_Attribute.shape[0]==0:\n",
    "\n",
    "        output_row_x = pd.DataFrame([ impaired_habitat_row['Subbasin'], impaired_habitat_row['Assessment Unit'], \n",
    "                                     impaired_habitat_row['ReachName'], impaired_habitat_row['Habitat Attribute'], impaired_habitat_row['Life_Stage'], \n",
    "                                     impaired_habitat_row['Habitat Attribute Score'],  \n",
    "                                     action_category_x,action_type_x, 'no', 'NA'])\n",
    "        output_row_x = output_row_x.transpose()\n",
    "        output_row_x.columns =  column_names\n",
    "\n",
    "    # ----------- if Projects for the impaired habitat attribute are present (based on Action Type or Action Category) ------------\n",
    "    else:\n",
    "\n",
    "        # --------------------------------------------------------------------------\n",
    "        #           Add project to saved output\n",
    "        # --------------------------------------------------------------------------\n",
    "\n",
    "        # ------------- action (project) descriptions ----------\n",
    "        project_x = [''.join(col).strip() for col in Projects_List_Action_Category_Specific_Reach_x_Habitat_Attribute['Action_Description'][:]]\n",
    "        project_x = unique(project_x)\n",
    "        project_x = ',  '.join(project_x)\n",
    "\n",
    "        output_row_x = pd.DataFrame([ impaired_habitat_row['Subbasin'], impaired_habitat_row['Assessment Unit'], \n",
    "                                     impaired_habitat_row['ReachName'], impaired_habitat_row['Habitat Attribute'], impaired_habitat_row['Life_Stage'], \n",
    "                                     impaired_habitat_row['Habitat Attribute Score'],  \n",
    "                                     action_category_x, action_type_x,'yes', project_x])\n",
    "        output_row_x = output_row_x.transpose()\n",
    "        output_row_x.columns =  column_names\n",
    "            \n",
    "    return(output_row_x)\n"
   ]
  },
  {
   "cell_type": "markdown",
   "metadata": {},
   "source": [
    "## ----------------------------------------------------------------------------------------------------------------------------\n",
    "## Part 3B: Master Function for Limiting Factors\n",
    "## ----------------------------------------------------------------------------------------------------------------------------"
   ]
  },
  {
   "cell_type": "code",
   "execution_count": null,
   "metadata": {},
   "outputs": [],
   "source": [
    "# ------ just a dummy array for index values ------------\n",
    "index_vals = pd.Series(range(0,7))\n",
    "\n",
    "def Generate_Project_Output_Table_for_Limiting_Factors(species, indiv_habitat_attribute_score):\n",
    "\n",
    "    # ------------------------------------------------------------------------------\n",
    "    #      Initiate Data Processing\n",
    "    # ------------------------------------------------------------------------------\n",
    "\n",
    "    print(\"       \")\n",
    "    print('======================= starting output for Species: ' + species + '=========================')\n",
    "\n",
    "    \n",
    "    # ------------------------------------------------------------------------------\n",
    "    #       Establish species name variable\n",
    "    # ------------------------------------------------------------------------------\n",
    "\n",
    "    if species == \"Spring Chinook\":\n",
    "\n",
    "        # ------- establish species variable name -----\n",
    "        variable_name = 'variable_SPCH'\n",
    "        # ------- Use Spring Chinook data ----------\n",
    "        criteria_data_adult_migration = Limiting_Factor_Spring_Chinook_Adult_Migration\n",
    "        criteria_data_holding_and_maturation = Limiting_Factor_Spring_Chinook_Holding_and_Maturation\n",
    "        criteria_data_spawning = Limiting_Factor_Spring_Chinook_Spawning\n",
    "        criteria_data_fry = Limiting_Factor_Spring_Chinook_Fry\n",
    "        criteria_data_summer_rearing = Limiting_Factor_Spring_Chinook_Summer_Rearing\n",
    "        criteria_data_winter_rearing = Limiting_Factor_Spring_Chinook_Winter_Rearing\n",
    "        criteria_data_smolt = Limiting_Factor_Spring_Chinook_Smolt\n",
    "        # ------------- output paths ---------\n",
    "        output_location_all_projects = output_location_Spring_Chinook_Limiting_Factors_All_Projects\n",
    "        output_location_all_actions = output_location_Spring_Chinook_Limiting_Factors_All_Actions\n",
    "        \n",
    "    elif species == \"Steelhead\":\n",
    "\n",
    "        # ------- establish species variable name -----\n",
    "        variable_name = 'variable_SH'\n",
    "        # ------- Use Spring Chinook data ----------\n",
    "        criteria_data_adult_migration = Limiting_Factor_Steelhead_Adult_Migration\n",
    "        criteria_data_holding_and_maturation = Limiting_Factor_Steelhead_Holding_and_Maturation\n",
    "        criteria_data_spawning = Limiting_Factor_Steelhead_Spawning\n",
    "        criteria_data_fry = Limiting_Factor_Steelhead_Fry\n",
    "        criteria_data_summer_rearing = Limiting_Factor_Steelhead_Summer_Rearing\n",
    "        criteria_data_winter_rearing = Limiting_Factor_Steelhead_Winter_Rearing\n",
    "        criteria_data_smolt = Limiting_Factor_Steelhead_Smolt\n",
    "        # ------------- output paths ---------\n",
    "        output_location_all_projects = output_location_Steelhead_Limiting_Factors_All_Projects\n",
    "        output_location_all_actions = output_location_Steelhead_Limiting_Factors_All_Actions\n",
    "        \n",
    "    else:\n",
    "\n",
    "        print('Incorrectly entered species name - re-type species name')\n",
    "        return\n",
    "        \n",
    "        \n",
    "    # ------------------------------------------------------------------------------\n",
    "    #      Step 1: Identify Priority Reaches (via Limiting Factors)\n",
    "    # ------------------------------------------------------------------------------\n",
    "\n",
    "    # NOTE: no actions needed for this - since Habitat Quality score data are all priority reaches\n",
    "    #        based on the Habitat_Quality_Prioritization_Output.ipynb code\n",
    "    \n",
    "    # ------------------------------------------------------------------------------\n",
    "    #      Step 2: Identify impaired habitat attributes based on Limiting Factors criteria \n",
    "    # ------------------------------------------------------------------------------\n",
    "\n",
    "    # -------------- data frame to add reaches with specific habitat attributes that are impaired -------\n",
    "    impaired_habitat_data_frame = pd.DataFrame([])\n",
    "    # ------------ data frame that will include all impaired reaches -------------\n",
    "    column_names = [ 'Subbasin','Assessment_Unit','ReachName', 'Habitat_Attribute','Life_Stage', \n",
    "                    'Habitat_Attribute_Score','Action Category','Action Type','Project_present_yes_no','Project']\n",
    "    limiting_factor_output = pd.DataFrame([], columns = column_names)\n",
    "    print_life_stage = ['adult_migration', 'holding_and_maturation', 'spawning', 'fry', 'summer_rearing', 'winter_rearing',  'smolt']\n",
    "    print_i = 0\n",
    "    for criteria_data in (criteria_data_adult_migration, criteria_data_holding_and_maturation, criteria_data_spawning, criteria_data_fry, criteria_data_summer_rearing, criteria_data_winter_rearing,  criteria_data_smolt):\n",
    "        print(\"   \")\n",
    "        print(' ------------  Starting Life Stage:   ' + print_life_stage[print_i] + ' ------------------ ')\n",
    "        print_i = print_i + 1\n",
    "        \n",
    "        # -------- go to next if not present ---\n",
    "        print(\" rows in criteria data\")\n",
    "        print(criteria_data.shape[0])\n",
    "        if criteria_data.shape[0] == 0:\n",
    "            print(' no data in limiting factor output for this life stage')\n",
    "            continue\n",
    "        \n",
    "        # ---------------- generate unique habitat attributes for this life stage -----------\n",
    "        habitat_attributes = criteria_data['Habitat Attribute'].sort_values().unique()\n",
    "\n",
    "        # ----------- loop through habitat attributes -------------\n",
    "        for habitat_attribute_x in habitat_attributes:\n",
    "\n",
    "            # -------- if habitat attribute is in crosswalk list -------\n",
    "            boolean_output = Habitat_Attribute_Names_Crosswalk_df == habitat_attribute_x\n",
    "            boolean_T_F = boolean_output.any(axis = 'columns')\n",
    "            if boolean_T_F.any():\n",
    "\n",
    "                # ------------ generate criteria data just with habitat_attribute_x -----------\n",
    "                criteria_data_habitat_attributre_x = criteria_data.loc[criteria_data['Habitat Attribute'].isin([habitat_attribute_x])]\n",
    "                #print('-----------criteria_data_habitat_attributre_x -----------:')\n",
    "                #print(criteria_data_habitat_attributre_x)\n",
    "                # ------------- identify all the reaches that are impaired based on the habitat_attribute_x attribute ------\n",
    "                criteria_data_x = criteria_data_habitat_attributre_x[['ReachName', 'Assessment Unit', 'Subbasin','Habitat Attribute', 'Individual Habitat Scores']][criteria_data_habitat_attributre_x['Individual Habitat Scores']<=indiv_habitat_attribute_score]\n",
    "                # ------------------------- rename column names ----------\n",
    "                criteria_data_x.columns  = ['ReachName', 'Assessment Unit', 'Subbasin', 'Habitat Attribute','Habitat Attribute Score']\n",
    "                # ------------------------- add habitat attribute name ----------\n",
    "                criteria_data_x['Habitat_Attribute'] = habitat_attribute_x\n",
    "                # ------------------------- add habitat attribute name ----------\n",
    "                criteria_data_x['Life_Stage'] = criteria_data['Life_Stage'][0]\n",
    "                # ----------------------- append to data frame -------------\n",
    "                impaired_habitat_data_frame = impaired_habitat_data_frame.append(criteria_data_x)\n",
    "                \n",
    "                # ------------ print data --------\n",
    "                print('Habitat Attribute: ' + habitat_attribute_x)\n",
    "                print('Total number of reaches for this life stage and habitat attribute: ')\n",
    "                print(criteria_data_x.shape[0])\n",
    "\n",
    "        \n",
    "    # ------------------------------------------------------------------------------\n",
    "    #      Step 3:  Identify Action Types/Categories linked to impacted Habitat Attributes in each impaired reach (based on criteria in Step 1) \n",
    "    # ------------------------------------------------------------------------------\n",
    "    print(\" STARTING STEP 3\")\n",
    "    print(\"impaired_habitat_data_frame shape\")\n",
    "    print(impaired_habitat_data_frame.shape)\n",
    "    reaches_not_present_in_projects = pd.DataFrame([])\n",
    "    reaches_present_no_projects = pd.DataFrame([])\n",
    "    Projects_Action_Type_for_impaired_habitat_attributes = pd.DataFrame([])\n",
    "    Projects_Action_Category_for_impaired_habitat_attributes = pd.DataFrame([])\n",
    "    Projects_for_impaired_habitat_attributes = pd.DataFrame([])\n",
    "\n",
    "    for index, row in impaired_habitat_data_frame.iterrows():\n",
    "        print('row')\n",
    "        print(row)\n",
    "\n",
    "        # ----------------- Reach Name for this Specific reach -----------\n",
    "        reach_name_x = row['ReachName']\n",
    "\n",
    "        # ---------------- Idenfity habitat attribute for this reach ---------------\n",
    "        habitat_attribute_x = row['Habitat_Attribute']\n",
    "        crosswalk_habitat_attribute_x = habitat_attribute_x\n",
    "        \n",
    "        # ---------------- Idenfity habitat attribute for this reach ---------------\n",
    "        life_stage_x = row['Life_Stage']\n",
    "        \n",
    "        # ---------------- Idenfity habitat attribute for this reach ---------------\n",
    "        habitat_attribute_score_x = row['Habitat Attribute Score']\n",
    "        #print('-----------------------row')\n",
    "        #print(row)\n",
    "        #print('habitat_attribute_score_x --------------------')\n",
    "        #print(habitat_attribute_score_x)\n",
    "        \n",
    "        # ----------------- Run Function to get output for each reach-impaired habitat combo, print Projects when present -----\n",
    "        row_output_x = output_habitat_actions_categories_Limiting_Factor_FUNCTION(crosswalk_habitat_attribute_x, reach_name_x, life_stage_x, row, limiting_factor_output, column_names)\n",
    "        limiting_factor_output = limiting_factor_output.append(row_output_x)  \n",
    "\n",
    "\n",
    "        # -------------- create Data Frame with reach and habitat attribute -------\n",
    "        reach_habitat_attribute_data_frame = pd.DataFrame([reach_name_x,habitat_attribute_x, life_stage_x, habitat_attribute_score_x])\n",
    "        reach_habitat_attribute_data_frame = reach_habitat_attribute_data_frame.transpose() # make it int data frame with two columns\n",
    "\n",
    "        # ------------ identify habitat attribute names connected to Action Category/Type --------\n",
    "        crosswalk_habitat_attribute_x = Habitat_Attribute_Names_Crosswalk[habitat_attribute_x]\n",
    "\n",
    "        # ------------- identify Action Category and Action Type related to impaired habitat attribute\n",
    "        pathways_habitat_attributes_x = Crosswalk_Habitat_Attributes_and_Project_Categories_DataFrame.loc[Crosswalk_Habitat_Attributes_and_Project_Categories_DataFrame['Habitat Attribute'].isin(crosswalk_habitat_attribute_x)]\n",
    "\n",
    "        # ---------------------- Only get Projects developed for this specific reach ---------\n",
    "        Projects_List_Specific_Reach_x = Project_List_Data.loc[Project_List_Data.Reach_UCSRB.isin([reach_name_x])]\n",
    "\n",
    "        # --------------------- List Projects by Action Type for this specific impaired habitat attribute -------------\n",
    "        Projects_List_Action_Type_Specific_Reach_x_Habitat_Attribute = Projects_List_Specific_Reach_x.loc[Projects_List_Specific_Reach_x.Action_Type.isin(pathways_habitat_attributes_x['Action Type'])]\n",
    "\n",
    "        # --------------------- List Projects by Action Type for this specific impaired habitat attribute -------------\n",
    "        Projects_List_Action_Category_Specific_Reach_x_Habitat_Attribute = Projects_List_Specific_Reach_x.loc[Projects_List_Specific_Reach_x.Action_Category.isin(pathways_habitat_attributes_x['Action Category'])]\n",
    "\n",
    "        #print(reach_name_x)\n",
    "        #print(Projects_List_Specific_Reach_x.shape)\n",
    "        #print(Projects_List_Specific_Reach_x_Habitat_Attribute.shape)\n",
    "\n",
    "        # --------------- if there is no Projects in this specific reach --------------\n",
    "        if Projects_List_Specific_Reach_x.shape[0] == 0:\n",
    "            reaches_not_present_in_projects = reaches_not_present_in_projects.append(reach_habitat_attribute_data_frame)\n",
    "\n",
    "        # -------- if there is Projects in this reach, but no Projects related to impaired habitat attribute -----\n",
    "        elif Projects_List_Action_Type_Specific_Reach_x_Habitat_Attribute.shape[0]==0 or Projects_List_Action_Category_Specific_Reach_x_Habitat_Attribute.shape[0]==0:\n",
    "            reaches_present_no_projects = reaches_present_no_projects.append(reach_habitat_attribute_data_frame)\n",
    "\n",
    "        # ----------- if Projects for the impaired habitat attribute are present (based on Action Type or Action Category) ------------\n",
    "        else:\n",
    "            #print('-----------------reaches with projects for impaired habitat attribute-------------')\n",
    "            #print(reach_habitat_attribute_data_frame)\n",
    "\n",
    "            # ----------------- Add the habitat attribute name to the data frame ----------------\n",
    "            \n",
    "            # --------------------------------------------------------------------------\n",
    "            #                      For Action Type data frame \n",
    "            # --------------------------------------------------------------------------\n",
    "\n",
    "            reach_habitat_attribute_data_frame_for_output_x = reach_habitat_attribute_data_frame.append([reach_habitat_attribute_data_frame]*(Projects_List_Action_Type_Specific_Reach_x_Habitat_Attribute.shape[0]-1))\n",
    "            reach_habitat_attribute_data_frame_for_output_x.columns = ['ReachName','Habitat_Attribute','Life_Stage','Limiting_Factor_Score']\n",
    "            reach_habitat_attribute_data_frame_for_output_x.index = Projects_List_Action_Type_Specific_Reach_x_Habitat_Attribute.index\n",
    "            \n",
    "            # ------------------- add Habitat Attribute name -----------\n",
    "            Projects_List_Action_Type_Specific_Reach_x_Habitat_Attribute['Habitat_Attribute'] = reach_habitat_attribute_data_frame_for_output_x['Habitat_Attribute']\n",
    "            # ----------------------- add life stage --------------\n",
    "            Projects_List_Action_Type_Specific_Reach_x_Habitat_Attribute['Life_Stage'] = life_stage_x\n",
    "            # ----------------------- add life stage --------------\n",
    "            Projects_List_Action_Type_Specific_Reach_x_Habitat_Attribute['Habitat_Attribute_Score'] = habitat_attribute_score_x\n",
    "        \n",
    "            # --------------------------------------------------------------------------\n",
    "            #                      For Action Category data frame \n",
    "            # --------------------------------------------------------------------------\n",
    "            reach_habitat_attribute_data_frame_for_output_x = reach_habitat_attribute_data_frame.append([reach_habitat_attribute_data_frame]*(Projects_List_Action_Category_Specific_Reach_x_Habitat_Attribute.shape[0]-1))\n",
    "            reach_habitat_attribute_data_frame_for_output_x.columns = ['ReachName','Habitat_Attribute', 'Life_Stage','Habitat_Attribute_Score']\n",
    "            reach_habitat_attribute_data_frame_for_output_x.index = Projects_List_Action_Category_Specific_Reach_x_Habitat_Attribute.index\n",
    "            \n",
    "            # ------------------- add Habitat Attribute name -----------\n",
    "            Projects_List_Action_Category_Specific_Reach_x_Habitat_Attribute['Habitat_Attribute'] = reach_habitat_attribute_data_frame_for_output_x['Habitat_Attribute']\n",
    "            \n",
    "            # ----------------------- add life stage --------------\n",
    "            Projects_List_Action_Category_Specific_Reach_x_Habitat_Attribute['Life_Stage'] = life_stage_x\n",
    "        \n",
    "            # ----------------------- add limiting factor --------------\n",
    "            Projects_List_Action_Category_Specific_Reach_x_Habitat_Attribute['Habitat_Attribute_Score'] = habitat_attribute_score_x\n",
    "        \n",
    "            # --------------- save output to individual Action Category/Action Type data frames ---------\n",
    "            Projects_Action_Type_for_impaired_habitat_attributes = Projects_Action_Type_for_impaired_habitat_attributes.append(Projects_List_Action_Type_Specific_Reach_x_Habitat_Attribute)\n",
    "            Projects_Action_Category_for_impaired_habitat_attributes = Projects_Action_Category_for_impaired_habitat_attributes.append(Projects_List_Action_Category_Specific_Reach_x_Habitat_Attribute)\n",
    "\n",
    "            # --------------------------------------------------------------------------\n",
    "            #           Save output for Action Category and Action Types\n",
    "            # --------------------------------------------------------------------------\n",
    "\n",
    "            Projects_for_impaired_habitat_attributes = Projects_for_impaired_habitat_attributes.append(Projects_List_Action_Type_Specific_Reach_x_Habitat_Attribute)\n",
    "            Projects_for_impaired_habitat_attributes = Projects_for_impaired_habitat_attributes.append(Projects_List_Action_Category_Specific_Reach_x_Habitat_Attribute)\n",
    "            #print(Projects_List_Action_Type_Specific_Reach_x_Habitat_Attribute.shape)\n",
    "            #print(Projects_List_Action_Category_Specific_Reach_x_Habitat_Attribute.shape)\n",
    "            print(Projects_for_impaired_habitat_attributes.shape)\n",
    "            \n",
    "\n",
    "    \n",
    "    # ------------------------- Collapse duplicated projects to one project, list multiple habitat attributes ----------\n",
    "    #Projects_for_impaired_habitat_attributes['Habitat_Attribute'] = Projects_for_impaired_habitat_attributes['Habitat_Attribute'].strip(\"[]\")\n",
    "    print(Projects_for_impaired_habitat_attributes.shape)\n",
    "    project_data_frame = pd.DataFrame(Projects_for_impaired_habitat_attributes['ProjectID'])\n",
    "    duplicated_project_data_frame_x = project_data_frame.loc[project_data_frame.duplicated()].sort_values(by=['ProjectID'])\n",
    "    \n",
    "    # ------- loop through projects to collapse duplicated projects ------- \n",
    "    Projects_for_impaired_habitat_attributes_updated = pd.DataFrame([])\n",
    "    unique_Project_IDs_x = Projects_for_impaired_habitat_attributes.ProjectID.unique()\n",
    "    for projectID_x in unique_Project_IDs_x:\n",
    "\n",
    "        # ---------- if a duplicated project --------\n",
    "        if any(duplicated_project_data_frame_x.ProjectID.isin([projectID_x]) ): \n",
    "            Duplicated_Projects_x = Projects_for_impaired_habitat_attributes.loc[Projects_for_impaired_habitat_attributes.ProjectID.isin([projectID_x])]\n",
    "            # ------- Habitat Attribute list for all the duplicated projects ----------\n",
    "            Habitat_Attributes_duplicated_x = Duplicated_Projects_x.Habitat_Attribute\n",
    "            Habitat_Attributes_duplicated_x = Habitat_Attributes_duplicated_x.unique()\n",
    "            Habitat_Attributes_duplicated_x = str(np.stack(Habitat_Attributes_duplicated_x) )\n",
    "\n",
    "            # ------------ Get a single row for all the duplicated projects ---------------\n",
    "            #print('---------------- Projects_for_impaired_habitat_attributes  Life Stage')\n",
    "            #print(Projects_for_impaired_habitat_attributes['Life_Stage'])\n",
    "            row_x = Projects_for_impaired_habitat_attributes.loc[Projects_for_impaired_habitat_attributes.ProjectID.isin([projectID_x])].iloc[0:1,]\n",
    "            row_x.Habitat_Attribute = Habitat_Attributes_duplicated_x\n",
    "            Projects_for_impaired_habitat_attributes_updated = Projects_for_impaired_habitat_attributes_updated.append(row_x)\n",
    "            #print(' ------------------ row_x - duplicated project --------------')\n",
    "            #print(row_x['Life_Stage'])\n",
    "\n",
    "        # ------- if project ID is not duplicated ----------\n",
    "        else:\n",
    "            row_x = Projects_for_impaired_habitat_attributes.loc[Projects_for_impaired_habitat_attributes.ProjectID.isin([projectID_x])]\n",
    "            Projects_for_impaired_habitat_attributes_updated = Projects_for_impaired_habitat_attributes_updated.append(row_x)\n",
    "            #print(' ------------------ row_x - not duplicated--------------')\n",
    "            #print(row_x['Life_Stage'])\n",
    "         \n",
    "    print('total number of JUST projects pre-confinement filter : ' )\n",
    "    print(Projects_for_impaired_habitat_attributes_updated.shape[0] )\n",
    "    limiting_factor_output_SHAPE_PRINT = limiting_factor_output.shape\n",
    "    \n",
    "    # ------------------------------------------------------------------------------\n",
    "    #      Step 3B: Filter out actions based on confinment (i.e. don't pull actions requiring unconfined areas)\n",
    "    # ------------------------------------------------------------------------------\n",
    "              \n",
    "    for action_x in Reach_Confinement_Limiting_Factors:\n",
    "        \n",
    "        # ------ Identify Reaches with Action ---------\n",
    "        projects_with_action = Projects_for_impaired_habitat_attributes_updated.loc[ Projects_for_impaired_habitat_attributes_updated['Action_Category']==action_x ]\n",
    "        limiting_factor_output_with_action =  limiting_factor_output.loc[ limiting_factor_output['Action Category'] == action_x]\n",
    "\n",
    "        # --------Identify which of those Reaches is unconfined -----------\n",
    "        Confinement_Criteria = confinement_scores.loc[confinement_scores[Reach_Confinement_vars['variable'][0]].isin(Reach_Confinement_Limiting_Factors[action_x])]\n",
    "        Confinement_Criteria_Reaches = Confinement_Criteria.ReachName\n",
    "        \n",
    "        # ------- Identify Reaches with Confinment Criteria -------------\n",
    "        projects_with_action = projects_with_action.loc[projects_with_action['Reach_UCSRB'].isin(Confinement_Criteria_Reaches)] \n",
    "        limiting_factor_output_with_action = limiting_factor_output_with_action.loc[limiting_factor_output_with_action['ReachName'].isin(Confinement_Criteria_Reaches)] \n",
    "        \n",
    "        # ------------- Pull out all acions related to actoin (then put back in actions that meet confinement criteria) ------\n",
    "        Projects_for_impaired_habitat_attributes_updated = Projects_for_impaired_habitat_attributes_updated.loc[ Projects_for_impaired_habitat_attributes_updated['Action_Category'] != action_x ]\n",
    "        limiting_factor_output =  limiting_factor_output.loc[ limiting_factor_output['Action Category'] != action_x]\n",
    "        # ---------- Add actions that meet confinement criteria ------\n",
    "        Projects_for_impaired_habitat_attributes_updated = Projects_for_impaired_habitat_attributes_updated.append(projects_with_action)\n",
    "        limiting_factor_output = limiting_factor_output.append(   limiting_factor_output_with_action)\n",
    "        \n",
    "    # -----------------------------------------------------------------------------\n",
    "    #      Step 4: Generate output based on reaches\n",
    "    # ------------------------------------------------------------------------------\n",
    "    \n",
    "    # --------- remove brackets from Habitat Attributes -------\n",
    "    Projects_for_impaired_habitat_attributes_updated['Habitat_Attribute'] = Projects_for_impaired_habitat_attributes_updated['Habitat_Attribute'].str.strip(\"[]\")\n",
    "    \n",
    "    print('total number of JUST projects post-confinement filter : ' )\n",
    "    print(Projects_for_impaired_habitat_attributes_updated.shape[0] )\n",
    "    print(\" \")\n",
    "    print(' total number of Action Categories, Action Types and Projects pre-confinement filter: ')\n",
    "    print( limiting_factor_output_SHAPE_PRINT[0])\n",
    "    print(' total number of Action Categories, Action Types and Projects post-confinement filter: ')\n",
    "    print( limiting_factor_output.shape[0])\n",
    "\n",
    "    \n",
    "    # ------------------------------ OUTPUT to an Excel spreadsheet  -------------------------  \n",
    "    Projects_for_impaired_habitat_attributes_updated.to_excel(output_location_all_projects, index = False)\n",
    "    print('output location for JUST projects: ' + output_location_all_projects)\n",
    "    limiting_factor_output.to_excel(output_location_all_actions, index = False)\n",
    "    print('output location for Action Categories, Action Types, and Projects (when present):  ' + output_location_all_actions)\n",
    "\n",
    "    "
   ]
  },
  {
   "cell_type": "markdown",
   "metadata": {},
   "source": [
    "## ----------------------------------------------------------------------------------------------------------------------------\n",
    "##   Part 3C: Output Actions for Limiting Factors\n",
    "## ----------------------------------------------------------------------------------------------------------------------------"
   ]
  },
  {
   "cell_type": "code",
   "execution_count": null,
   "metadata": {},
   "outputs": [],
   "source": [
    "Generate_Project_Output_Table_for_Limiting_Factors('Spring Chinook', indiv_habitat_attribute_score)\n",
    "Generate_Project_Output_Table_for_Limiting_Factors('Steelhead', indiv_habitat_attribute_score)"
   ]
  },
  {
   "cell_type": "markdown",
   "metadata": {},
   "source": [
    "## ----------------------------------------------------------------------------------------------------------------------------\n",
    "# \n",
    "#             Generate Actions (Code Step 8B) Part 4: Integrate Habitat Quality and Limiting Factor Output so no redundant projects/action categories \n",
    "# \n",
    "## ----------------------------------------------------------------------------------------------------------------------------"
   ]
  },
  {
   "cell_type": "code",
   "execution_count": null,
   "metadata": {},
   "outputs": [],
   "source": [
    "# ----------------------------- Habitat Quality Output ---------------------\n",
    "Habitat_Quality_Spring_Chinook_All_Actions = pd.read_excel(output_location_Spring_Chinook_Habitat_Quality_All_Actions)\n",
    "Habitat_Quality_Steelhead_All_Actions = pd.read_excel(output_location_Steelhead_Habitat_Quality_All_Actions)\n",
    "\n",
    "# ------------------------------ Limiting Factor Output ------------------\n",
    "Limiting_Factors_Spring_Chinook_All_Actions = pd.read_excel(output_location_Spring_Chinook_Limiting_Factors_All_Actions)\n",
    "Limiting_Factors_Steelhead_All_Actions = pd.read_excel(output_location_Steelhead_Limiting_Factors_All_Actions)\n"
   ]
  },
  {
   "cell_type": "markdown",
   "metadata": {},
   "source": [
    "## ----------------------------------------------------------------------------------------------------------------------------\n",
    "###             Combine \n",
    "## ----------------------------------------------------------------------------------------------------------------------------"
   ]
  },
  {
   "cell_type": "code",
   "execution_count": null,
   "metadata": {},
   "outputs": [],
   "source": [
    "# ------- since HQ pathway not explicitly linked to life stage --------\n",
    "Habitat_Quality_Spring_Chinook_All_Actions['Life_Stage'] = \"from_HQ_pathway\"\n",
    "Habitat_Quality_Steelhead_All_Actions['Life_Stage'] = \"from_HQ_pathway\""
   ]
  },
  {
   "cell_type": "code",
   "execution_count": null,
   "metadata": {},
   "outputs": [],
   "source": [
    "# -------------------- Get Unique Reaches ------------\n",
    "reaches_all_x = Habitat_Quality_Spring_Chinook_All_Actions[['Subbasin', 'Assessment_Unit', 'ReachName', 'Habitat_Attribute', 'Life_Stage', 'Action Category', 'Action Type','Project_present_yes_no', 'Project']]\n",
    "reaches_all_x['Pathway'] = \"Habitat_Quality_Spring_Chinook\"\n",
    "\n",
    "# ------ HQ-Steelhead ------\n",
    "datax = Habitat_Quality_Steelhead_All_Actions[['Subbasin', 'Assessment_Unit', 'ReachName', 'Habitat_Attribute','Life_Stage', 'Action Category', 'Action Type','Project_present_yes_no', 'Project']]\n",
    "datax['Pathway'] = \"Habitat_Quality_Steelhead\"\n",
    "reaches_all_x = reaches_all_x.append(datax)\n",
    "\n",
    "# ------ LF-Spring Chinook ------\n",
    "datax = Limiting_Factors_Spring_Chinook_All_Actions[['Subbasin', 'Assessment_Unit', 'ReachName', 'Habitat_Attribute','Life_Stage', 'Action Category', 'Action Type','Project_present_yes_no', 'Project']]\n",
    "datax['Pathway'] = \"Limiting_Factors_Spring_Chinook\"\n",
    "reaches_all_x = reaches_all_x.append(datax)\n",
    "\n",
    "# ------ LF-Steelhead ------\n",
    "datax = Limiting_Factors_Steelhead_All_Actions[['Subbasin', 'Assessment_Unit', 'ReachName', 'Habitat_Attribute','Life_Stage', 'Action Category', 'Action Type','Project_present_yes_no', 'Project']]\n",
    "datax['Pathway'] = \"Limiting_Factors_Steelhead\"\n",
    "reaches_all_x = reaches_all_x.append(datax)"
   ]
  },
  {
   "cell_type": "markdown",
   "metadata": {},
   "source": [
    "# -----------------------------------------------------------------------------------\n",
    "##  Generate Output with Each individual Reach and Habitat Attribute has own row \n",
    "##          (multiple Action Categories for a row)\n",
    "# -----------------------------------------------------------------------------------"
   ]
  },
  {
   "cell_type": "code",
   "execution_count": null,
   "metadata": {},
   "outputs": [],
   "source": [
    "\n",
    "# ------------------------ Start with Habitat_Quality_Steelhead_All_Actions, see if there are othe reaches ------------\n",
    "reaches_unique_x = reaches_all_x.ReachName.sort_values().unique()\n",
    "\n",
    "HQ_LF_combined_Actions = pd.DataFrame([])\n",
    "for reach_x in reaches_unique_x :\n",
    "    \n",
    "    # ------ identify all the data in this reach ---------\n",
    "    reach_data_all_x = reaches_all_x.loc[reaches_all_x.ReachName.isin([reach_x])]\n",
    "    \n",
    "    # --------generate unique action categories for actions in reach -------\n",
    "    actions_unique_x = reach_data_all_x['Action Category'].unique()\n",
    "    \n",
    "    # -------------- loop through action categories to get which pathways generated each action ----\n",
    "    for action_category_x in actions_unique_x:\n",
    "        \n",
    "        # -------------------- get data for just this individual action category ----------\n",
    "        action_category_data_all_x = reach_data_all_x.loc[reach_data_all_x['Action Category'].isin([action_category_x])]\n",
    "        \n",
    "        # ------------------------- identify which of the pathways included this action category ---------\n",
    "        if any(action_category_data_all_x.Pathway ==  'Habitat_Quality_Spring_Chinook'):\n",
    "            pathway_HQ_Spring_Chinook = 1\n",
    "        else:\n",
    "            pathway_HQ_Spring_Chinook = 0\n",
    "            \n",
    "        if any(action_category_data_all_x.Pathway ==  'Habitat_Quality_Steelhead'):\n",
    "            pathway_HQ_Steelhead = 1\n",
    "        else:\n",
    "            pathway_HQ_Steelhead = 0\n",
    "            \n",
    "        if any(action_category_data_all_x.Pathway ==  'Limiting_Factors_Spring_Chinook'):\n",
    "            pathway_LF_Spring_Chinook = 1\n",
    "        else:\n",
    "            pathway_LF_Spring_Chinook = 0\n",
    "            \n",
    "        if any(action_category_data_all_x.Pathway ==  'Limiting_Factors_Steelhead'):\n",
    "            pathway_LF_Steelhead = 1\n",
    "        else:\n",
    "            pathway_LF_Steelhead = 0\n",
    "            \n",
    "        # ---------------- generate new row of data -----------\n",
    "        row_x = pd.DataFrame(action_category_data_all_x[['Subbasin', 'Assessment_Unit', 'ReachName', 'Habitat_Attribute','Life_Stage',\n",
    "       'Action Category', 'Action Type', 'Project_present_yes_no', 'Project']])\n",
    "        row_x['Pathway_HQ_Spring_Chinook'] = pathway_HQ_Spring_Chinook\n",
    "        row_x['Pathway_HQ_Steelhead'] = pathway_HQ_Steelhead\n",
    "        row_x['Pathway_LF_Spring_Chinook'] = pathway_LF_Spring_Chinook\n",
    "        row_x['Pathway_LF_Steelhead'] = pathway_LF_Steelhead\n",
    "        \n",
    "        HQ_LF_combined_Actions = HQ_LF_combined_Actions.append(row_x)"
   ]
  },
  {
   "cell_type": "markdown",
   "metadata": {},
   "source": [
    "# ------------------------------------------------------------------------\n",
    "## Output the data\n",
    "# ------------------------------------------------------------------------"
   ]
  },
  {
   "cell_type": "code",
   "execution_count": null,
   "metadata": {},
   "outputs": [],
   "source": [
    "output_location = 'Y:/UCRTT/Prioritization/Step 2/Habitat Evaluation/Step2_Prioritization_Python_Output/'\n",
    "# output_location = 'Y:/UCRTT/Prioritization/Step 2/Habitat Evaluation/DRAFT_Step2_Results/Habitat_Attribute_Score_1_only/'\n",
    "\n",
    "file_output = output_location + 'Actions_Habitat_Qual_and_Limit_Factors_Pathways.xlsx'\n",
    "HQ_LF_combined_Actions.to_excel(file_output, index = False)"
   ]
  },
  {
   "cell_type": "markdown",
   "metadata": {},
   "source": [
    "# -----------------------------------------------------------------------------------\n",
    "##  Generate Output with Each individual Reach and Action Category has own row \n",
    "# -----------------------------------------------------------------------------------"
   ]
  },
  {
   "cell_type": "code",
   "execution_count": null,
   "metadata": {},
   "outputs": [],
   "source": [
    "    \n",
    "# ------------------------ Start with Habitat_Quality_Steelhead_All_Actions, see if there are othe reaches ------------\n",
    "reaches_unique_x = reaches_all_x.ReachName.sort_values().unique()\n",
    "\n",
    "HQ_LF_combined_Actions_Unique = pd.DataFrame([])\n",
    "for reach_x in reaches_unique_x :\n",
    "    \n",
    "    # ------ identify all the data in this reach ---------\n",
    "    reach_data_all_x = reaches_all_x.loc[reaches_all_x.ReachName.isin([reach_x])]\n",
    "    \n",
    "    # --------generate data frame with row for each action category -------\n",
    "    action_categories_unique_x = pd.DataFrame([])\n",
    "    for index, row in reach_data_all_x.iterrows():\n",
    "        actions_x = str(row['Action Category']).split(',') \n",
    "        for action_x_B in actions_x:\n",
    "            rowx2 = row[['Subbasin', 'Assessment_Unit', 'ReachName', 'Habitat_Attribute', 'Life_Stage',\n",
    "            'Action Category', 'Action Type', 'Project_present_yes_no', 'Project', 'Pathway']]\n",
    "            action_x_B = pd.DataFrame([action_x_B])\n",
    "            action_x_B.index = ['Habitat_Attribute_1']\n",
    "            rowx2 = rowx2.append(action_x_B)\n",
    "            rowx2 = rowx2.transpose()\n",
    "            action_categories_unique_x = action_categories_unique_x.append(rowx2)\n",
    "    #action_categories_unique_x = action_categories_unique_x.append(actions_x)\n",
    "\n",
    "    # ---------- get unique list of the individual action categories -------\n",
    "    habitat_actions_unique_x = action_categories_unique_x['Habitat_Attribute_1'].unique()\n",
    "\n",
    "    # ------------\n",
    "    # ----------- Loop through individual action categories ----------\n",
    "    for habitat_act_x in habitat_actions_unique_x:\n",
    "\n",
    "        # ------------- get reaches with this habitat actoin -------------\n",
    "        reach_data_habitat_action_x = action_categories_unique_x.loc[action_categories_unique_x.Habitat_Attribute_1.isin([habitat_act_x])]\n",
    "\n",
    "        # --------------------- Identify if multiple substrates or not -------------\n",
    "        habitat_attributes_x = reach_data_habitat_action_x.Habitat_Attribute.tolist()\n",
    "        if len(habitat_attributes_x) > 1:\n",
    "            habitat_attributes_x = ', '.join(habitat_attributes_x)\n",
    "        \n",
    "        # --------------- copy life stage ----\n",
    "        life_stage_x = reach_data_habitat_action_x.Life_Stage\n",
    "        \n",
    "        # ------------------------- identify which of the pathways included this action category ---------\n",
    "        if any(reach_data_habitat_action_x.Pathway ==  'Habitat_Quality_Spring_Chinook'):\n",
    "            pathway_HQ_Spring_Chinook = 1\n",
    "        else:\n",
    "            pathway_HQ_Spring_Chinook = 0\n",
    "            \n",
    "        if any(reach_data_habitat_action_x.Pathway ==  'Habitat_Quality_Steelhead'):\n",
    "            pathway_HQ_Steelhead = 1\n",
    "        else:\n",
    "            pathway_HQ_Steelhead = 0\n",
    "            \n",
    "        if any(reach_data_habitat_action_x.Pathway ==  'Limiting_Factors_Spring_Chinook'):\n",
    "            pathway_LF_Spring_Chinook = 1\n",
    "        else:\n",
    "            pathway_LF_Spring_Chinook = 0\n",
    "            \n",
    "        if any(reach_data_habitat_action_x.Pathway ==  'Limiting_Factors_Steelhead'):\n",
    "            pathway_LF_Steelhead = 1\n",
    "        else:\n",
    "            pathway_LF_Steelhead = 0\n",
    "            \n",
    "        # ---------------- generate new row of data -----------\n",
    "        row_x = pd.DataFrame(action_categories_unique_x[['Subbasin', 'Assessment_Unit', 'ReachName']].iloc[0]).transpose()\n",
    "        row_x['Action Category'] = habitat_act_x\n",
    "        row_x['Habitat_Attributes'] = habitat_attributes_x\n",
    "        life_stage_x = life_stage_x.unique()\n",
    "        if len(life_stage_x) > 1:\n",
    "            life_stage_x = ' '.join(life_stage_x)\n",
    "            #print('more than one life stage')\n",
    "            #print(life_stage_x)\n",
    "        else:\n",
    "            life_stage_x = life_stage_x[0]\n",
    "            #print('one life stage')\n",
    "            #print(life_stage_x)\n",
    "            \n",
    "        row_x['Life_Stage'] = life_stage_x\n",
    "        \n",
    "        row_x['Pathway_HQ_Spring_Chinook'] = pathway_HQ_Spring_Chinook\n",
    "        row_x['Pathway_HQ_Steelhead'] = pathway_HQ_Steelhead\n",
    "        row_x['Pathway_LF_Spring_Chinook'] = pathway_LF_Spring_Chinook\n",
    "        row_x['Pathway_LF_Steelhead'] = pathway_LF_Steelhead\n",
    "        \n",
    "        HQ_LF_combined_Actions_Unique = HQ_LF_combined_Actions_Unique.append(row_x)"
   ]
  },
  {
   "cell_type": "code",
   "execution_count": null,
   "metadata": {},
   "outputs": [],
   "source": [
    "# ------------ remove any white space at beginning or end of attributes -----------------\n",
    "HQ_LF_combined_Actions_Unique = HQ_LF_combined_Actions_Unique.applymap(lambda x: x.strip() if isinstance(x, str) else x)"
   ]
  },
  {
   "cell_type": "markdown",
   "metadata": {},
   "source": [
    "# ------------------------------------------------------------------------\n",
    "## Write data to output\n",
    "# ------------------------------------------------------------------------"
   ]
  },
  {
   "cell_type": "code",
   "execution_count": null,
   "metadata": {},
   "outputs": [],
   "source": [
    "output_location = 'Y:/UCRTT/Prioritization/Step 2/Habitat Evaluation/Step2_Prioritization_Python_Output/'\n",
    "# output_location = 'Y:/UCRTT/Prioritization/Step 2/Habitat Evaluation/DRAFT_Step2_Results/Habitat_Attribute_Score_1_only/'\n",
    "\n",
    "file_output = output_location + 'Actions_Habitat_Qual_and_Limit_Factors_Pathways_Indiv_Action_Categories_Updated.xlsx'\n",
    "HQ_LF_combined_Actions_Unique.to_excel(file_output, index = False)"
   ]
  }
 ],
 "metadata": {
  "kernelspec": {
   "display_name": "Python 3",
   "language": "python",
   "name": "python3"
  },
  "language_info": {
   "codemirror_mode": {
    "name": "ipython",
    "version": 3
   },
   "file_extension": ".py",
   "mimetype": "text/x-python",
   "name": "python",
   "nbconvert_exporter": "python",
   "pygments_lexer": "ipython3",
   "version": "3.8.3"
  }
 },
 "nbformat": 4,
 "nbformat_minor": 4
}
