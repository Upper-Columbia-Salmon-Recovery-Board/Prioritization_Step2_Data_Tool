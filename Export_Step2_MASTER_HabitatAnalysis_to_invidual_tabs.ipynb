{
 "cells": [
  {
   "cell_type": "markdown",
   "metadata": {},
   "source": [
    "# Script to Output Up-to-Date MASTER_Step2_HabitatAnalysis to individual tabs\n",
    "## Author: Ryan Niemeyer, Upper Columbia Salmon Recovery Board\n",
    "### For more information, see https://www.ucsrb.org/prioritization/"
   ]
  },
  {
   "cell_type": "code",
   "execution_count": 25,
   "metadata": {},
   "outputs": [],
   "source": [
    "updated_spreadsheet = 'Y:/UCRTT/Prioritization/Step 2/Habitat Evaluation/MASTER_Step2_HabitatAnalysis_11262020.xlsx'\n",
    "output_location = 'C:/Users/Ryan/Documents/2_Habitat_Prioritzation/Prioritization/Python_Notebooks/UCSRB_Prioritization_Python_Scripts/'"
   ]
  },
  {
   "cell_type": "markdown",
   "metadata": {},
   "source": [
    "# -------------------------------------------------------------------------------------- \n",
    "# NOTE - will need to go the following directory and do the \"git push\" to push updates to GitHub (so that the data on GitHub are up to date) Y:\\Ryan\\2_Habitat_Prioritization\\Step2\\Python_Data_Tool  \n",
    "# --------------------------------------------------------------------------------------"
   ]
  },
  {
   "cell_type": "code",
   "execution_count": null,
   "metadata": {},
   "outputs": [],
   "source": []
  },
  {
   "cell_type": "markdown",
   "metadata": {},
   "source": [
    "## ------------------------------------ Upload Python Libraries -----------------------------------"
   ]
  },
  {
   "cell_type": "code",
   "execution_count": 5,
   "metadata": {},
   "outputs": [],
   "source": [
    "import pandas as pd\n",
    "import numpy as np"
   ]
  },
  {
   "cell_type": "markdown",
   "metadata": {},
   "source": [
    "## =======================================================================\n",
    "#             Read in Excel\n",
    "## ======================================================================="
   ]
  },
  {
   "cell_type": "code",
   "execution_count": 26,
   "metadata": {},
   "outputs": [],
   "source": [
    "# ------------------------------------- Habitat Quality Scores -----------------------\n",
    "habitat_quality_scores = pd.read_excel(updated_spreadsheet, \n",
    "                   'HabitatQuality_Scores', skiprows=[0] )"
   ]
  },
  {
   "cell_type": "code",
   "execution_count": 28,
   "metadata": {},
   "outputs": [],
   "source": [
    "confinement_scores = pd.read_excel(updated_spreadsheet, \n",
    "                   'Confinement_Scores')"
   ]
  },
  {
   "cell_type": "code",
   "execution_count": 29,
   "metadata": {},
   "outputs": [],
   "source": [
    "# ------------------------- Reach-level Life Stages Priority ------------------------------------\n",
    "reach_life_stages_Spring_Chinook = pd.read_excel(updated_spreadsheet, \n",
    "                   'Reaches Life Stage Spring Chino')\n",
    "reach_life_stages_Steelhead = pd.read_excel(updated_spreadsheet, \n",
    "                   'Reaches Life Stage Steelhead')"
   ]
  },
  {
   "cell_type": "code",
   "execution_count": 30,
   "metadata": {},
   "outputs": [],
   "source": [
    "habitat_attribute_scores  = pd.read_excel(updated_spreadsheet, \n",
    "                   'HabitatAttribute_Scores')"
   ]
  },
  {
   "cell_type": "code",
   "execution_count": 32,
   "metadata": {},
   "outputs": [],
   "source": [
    "habitat_attribute_lifestage = pd.read_excel(updated_spreadsheet,\n",
    "                   'Attribute_LifeStage Crosswalk')"
   ]
  },
  {
   "cell_type": "code",
   "execution_count": 33,
   "metadata": {},
   "outputs": [],
   "source": [
    "AU_life_stage_priorities = pd.read_excel(updated_spreadsheet , \n",
    "                   'LifeStage_Priorities', skiprows=[0])"
   ]
  },
  {
   "cell_type": "code",
   "execution_count": 37,
   "metadata": {},
   "outputs": [],
   "source": [
    "# ----------- Upload tabs for table that is crosswalk between Habitat Attributes and Project Categories\n",
    "Habitat_Attribute_Category_Data = pd.read_excel(updated_spreadsheet,\n",
    "                   'Attribute_Action Crosswalk')"
   ]
  },
  {
   "cell_type": "code",
   "execution_count": 47,
   "metadata": {},
   "outputs": [],
   "source": [
    "# -------------- Upload Project List, copied over from Reach Assessments -------------------------------------------------\n",
    "# NOTE - not used - since the RTT decided to only use Action Categories, instead of specific projects from Reach Assessments\n",
    "#Project_List_Data = pd.read_excel(updated_spreadsheet, \n",
    "#                   'Data_Entry')\n",
    "#Category_Type_Data = pd.read_excel(updated_spreadsheet, \n",
    "#                   'Cateogry_Type')"
   ]
  },
  {
   "cell_type": "code",
   "execution_count": null,
   "metadata": {},
   "outputs": [],
   "source": []
  },
  {
   "cell_type": "markdown",
   "metadata": {},
   "source": [
    "## =======================================================================\n",
    "#            Export Excels\n",
    "## ======================================================================="
   ]
  },
  {
   "cell_type": "code",
   "execution_count": 39,
   "metadata": {},
   "outputs": [],
   "source": [
    "output_location_x = output_location + 'habitat_quality_scores.xlsx'\n",
    "habitat_quality_scores.to_excel(output_location_x)"
   ]
  },
  {
   "cell_type": "code",
   "execution_count": 40,
   "metadata": {},
   "outputs": [],
   "source": [
    "output_location_x = output_location + 'confinement_scores.xlsx'\n",
    "confinement_scores.to_excel(output_location_x)"
   ]
  },
  {
   "cell_type": "code",
   "execution_count": 41,
   "metadata": {},
   "outputs": [],
   "source": [
    "output_location_x = output_location + 'reach_life_stages_Spring_Chinook.xlsx'\n",
    "reach_life_stages_Spring_Chinook.to_excel(output_location_x)\n",
    "\n",
    "output_location_x = output_location + 'reach_life_stages_Steelhead.xlsx'\n",
    "reach_life_stages_Steelhead.to_excel(output_location_x)"
   ]
  },
  {
   "cell_type": "code",
   "execution_count": 42,
   "metadata": {},
   "outputs": [],
   "source": [
    "output_location_x = output_location + 'habitat_attribute_scores.xlsx'\n",
    "habitat_attribute_scores.to_excel(output_location_x)"
   ]
  },
  {
   "cell_type": "code",
   "execution_count": 43,
   "metadata": {},
   "outputs": [],
   "source": [
    "output_location_x = output_location + 'habitat_attribute_lifestage.xlsx'\n",
    "habitat_attribute_lifestage.to_excel(output_location_x)"
   ]
  },
  {
   "cell_type": "code",
   "execution_count": 44,
   "metadata": {},
   "outputs": [],
   "source": [
    "output_location_x = output_location + 'AU_life_stage_priorities.xlsx'\n",
    "AU_life_stage_priorities.to_excel(output_location_x)"
   ]
  },
  {
   "cell_type": "code",
   "execution_count": 45,
   "metadata": {},
   "outputs": [],
   "source": [
    "output_location_x = output_location + 'Habitat_Attribute_Category_Data.xlsx'\n",
    "Habitat_Attribute_Category_Data.to_excel(output_location_x)"
   ]
  },
  {
   "cell_type": "code",
   "execution_count": null,
   "metadata": {},
   "outputs": [],
   "source": [
    "  "
   ]
  },
  {
   "cell_type": "code",
   "execution_count": null,
   "metadata": {},
   "outputs": [],
   "source": []
  },
  {
   "cell_type": "code",
   "execution_count": null,
   "metadata": {},
   "outputs": [],
   "source": []
  }
 ],
 "metadata": {
  "kernelspec": {
   "display_name": "Python 3",
   "language": "python",
   "name": "python3"
  },
  "language_info": {
   "codemirror_mode": {
    "name": "ipython",
    "version": 3
   },
   "file_extension": ".py",
   "mimetype": "text/x-python",
   "name": "python",
   "nbconvert_exporter": "python",
   "pygments_lexer": "ipython3",
   "version": "3.8.3"
  }
 },
 "nbformat": 4,
 "nbformat_minor": 4
}
