{
 "cells": [
  {
   "cell_type": "markdown",
   "metadata": {},
   "source": [
    "# Script to Output Up-to-Date MASTER_Step2_HabitatAnalysis PROTECTION to individual tabs\n",
    "## Author: Ryan Niemeyer, Upper Columbia Salmon Recovery Board\n",
    "### For more information, see https://www.ucsrb.org/prioritization/"
   ]
  },
  {
   "cell_type": "code",
   "execution_count": 1,
   "metadata": {},
   "outputs": [],
   "source": [
    "# ----------------------- MASTER prioritizatoin tool excel --------------\n",
    "updated_spreadsheet = 'Y:/UCRTT/Prioritization/Step 2/Habitat Evaluation/MASTER_Step2_HabitatAnalysis_12042020_PROTECTION.xlsx'"
   ]
  },
  {
   "cell_type": "code",
   "execution_count": 2,
   "metadata": {},
   "outputs": [],
   "source": [
    "# ------------------- Output location for scripts --------------------\n",
    "output_location = 'C:/Users/Ryan/Documents/GitHub/Prioritization_Step2_Data_Tool/'\n",
    "# output_location = 'C:/Users/Ryan/Documents/2_Habitat_Prioritzation/Prioritization/Python_Notebooks/UCSRB_Prioritization_Python_Scripts/'"
   ]
  },
  {
   "cell_type": "markdown",
   "metadata": {},
   "source": [
    "# -------------------------------------------------------------------------------------- \n",
    "# NOTE - will need to go the following directory and do the \"git push\" to push updates to GitHub (so that the data on GitHub are up to date) Y:\\Ryan\\2_Habitat_Prioritization\\Step2\\Python_Data_Tool  \n",
    "# --------------------------------------------------------------------------------------"
   ]
  },
  {
   "cell_type": "code",
   "execution_count": null,
   "metadata": {},
   "outputs": [],
   "source": []
  },
  {
   "cell_type": "markdown",
   "metadata": {},
   "source": [
    "## ------------------------------------ Upload Python Libraries -----------------------------------"
   ]
  },
  {
   "cell_type": "code",
   "execution_count": 3,
   "metadata": {},
   "outputs": [],
   "source": [
    "import pandas as pd\n",
    "import numpy as np"
   ]
  },
  {
   "cell_type": "markdown",
   "metadata": {},
   "source": [
    "## =======================================================================\n",
    "#             Read in Excel\n",
    "## ======================================================================="
   ]
  },
  {
   "cell_type": "code",
   "execution_count": 4,
   "metadata": {},
   "outputs": [],
   "source": [
    "# ------------------------------------- Habitat Quality Scores -----------------------\n",
    "habitat_quality_scores = pd.read_excel(updated_spreadsheet, \n",
    "                   'HabitatQuality_Scores', skiprows=[0] )"
   ]
  },
  {
   "cell_type": "code",
   "execution_count": null,
   "metadata": {},
   "outputs": [],
   "source": [
    "# ------------------------- Reach-level Life Stages Priority ------------------------------------\n",
    "life_stages_protection = pd.read_excel(updated_spreadsheet, \n",
    "                   'Life Stage_Scores_STL_SPCHN')"
   ]
  },
  {
   "cell_type": "code",
   "execution_count": 5,
   "metadata": {},
   "outputs": [
    {
     "ename": "NameError",
     "evalue": "name 'life_stages_protection' is not defined",
     "output_type": "error",
     "traceback": [
      "\u001b[1;31m---------------------------------------------------------------------------\u001b[0m",
      "\u001b[1;31mNameError\u001b[0m                                 Traceback (most recent call last)",
      "\u001b[1;32m<ipython-input-5-687be7fe70d9>\u001b[0m in \u001b[0;36m<module>\u001b[1;34m\u001b[0m\n\u001b[1;32m----> 1\u001b[1;33m \u001b[0mlife_stages_protection\u001b[0m\u001b[1;33m.\u001b[0m\u001b[0mhead\u001b[0m\u001b[1;33m(\u001b[0m\u001b[1;33m)\u001b[0m\u001b[1;33m\u001b[0m\u001b[1;33m\u001b[0m\u001b[0m\n\u001b[0m",
      "\u001b[1;31mNameError\u001b[0m: name 'life_stages_protection' is not defined"
     ]
    }
   ],
   "source": [
    "life_stages_protection.head()"
   ]
  },
  {
   "cell_type": "markdown",
   "metadata": {},
   "source": [
    "## =======================================================================\n",
    "#            Export Excels\n",
    "## ======================================================================="
   ]
  },
  {
   "cell_type": "code",
   "execution_count": 12,
   "metadata": {},
   "outputs": [],
   "source": [
    "output_location_x = output_location + 'habitat_quality_scores.xlsx'\n",
    "habitat_quality_scores.to_excel(output_location_x)"
   ]
  },
  {
   "cell_type": "code",
   "execution_count": 13,
   "metadata": {},
   "outputs": [],
   "source": [
    "output_location_x = output_location + 'life_stages_protection.xlsx'\n",
    "life_stages_protection.to_excel(output_location_x)"
   ]
  },
  {
   "cell_type": "code",
   "execution_count": null,
   "metadata": {},
   "outputs": [],
   "source": []
  }
 ],
 "metadata": {
  "kernelspec": {
   "display_name": "Python 3",
   "language": "python",
   "name": "python3"
  },
  "language_info": {
   "codemirror_mode": {
    "name": "ipython",
    "version": 3
   },
   "file_extension": ".py",
   "mimetype": "text/x-python",
   "name": "python",
   "nbconvert_exporter": "python",
   "pygments_lexer": "ipython3",
   "version": "3.8.3"
  }
 },
 "nbformat": 4,
 "nbformat_minor": 4
}
