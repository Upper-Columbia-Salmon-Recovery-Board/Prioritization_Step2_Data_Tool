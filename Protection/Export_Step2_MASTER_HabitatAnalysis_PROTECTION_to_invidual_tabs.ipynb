{
 "cells": [
  {
   "cell_type": "markdown",
   "metadata": {},
   "source": [
    "# Script to Output Up-to-Date MASTER_Step2_HabitatAnalysis PROTECTION to individual tabs\n",
    "## Author: Ryan Niemeyer, Upper Columbia Salmon Recovery Board\n",
    "### For more information, see https://www.ucsrb.org/prioritization/"
   ]
  },
  {
   "cell_type": "code",
   "execution_count": 16,
   "metadata": {},
   "outputs": [],
   "source": [
    "# ----------------------- MASTER prioritizatoin tool excel --------------\n",
    "updated_spreadsheet = 'Y:/UCRTT/Prioritization/Step 2/Habitat Evaluation/MASTER_Step2_HabitatAnalysis_12102020.xlsx'"
   ]
  },
  {
   "cell_type": "code",
   "execution_count": 17,
   "metadata": {},
   "outputs": [],
   "source": [
    "# ------------------- Output location for scripts --------------------\n",
    "output_location = 'C:/Users/Ryan/Documents/GitHub/Prioritization_Step2_Data_Tool/Protection/'\n",
    "# output_location = 'C:/Users/Ryan/Documents/2_Habitat_Prioritzation/Prioritization/Python_Notebooks/UCSRB_Prioritization_Python_Scripts/'"
   ]
  },
  {
   "cell_type": "markdown",
   "metadata": {},
   "source": [
    "# -------------------------------------------------------------------------------------- \n",
    "# NOTE - will need to go the following directory and do the \"git push\" to push updates to GitHub (so that the data on GitHub are up to date) Y:\\Ryan\\2_Habitat_Prioritization\\Step2\\Python_Data_Tool  \n",
    "# --------------------------------------------------------------------------------------"
   ]
  },
  {
   "cell_type": "code",
   "execution_count": null,
   "metadata": {},
   "outputs": [],
   "source": []
  },
  {
   "cell_type": "markdown",
   "metadata": {},
   "source": [
    "## ------------------------------------ Upload Python Libraries -----------------------------------"
   ]
  },
  {
   "cell_type": "code",
   "execution_count": 7,
   "metadata": {},
   "outputs": [],
   "source": [
    "import pandas as pd\n",
    "import numpy as np"
   ]
  },
  {
   "cell_type": "markdown",
   "metadata": {},
   "source": [
    "## =======================================================================\n",
    "#             Read in Excel\n",
    "## ======================================================================="
   ]
  },
  {
   "cell_type": "code",
   "execution_count": 20,
   "metadata": {},
   "outputs": [],
   "source": [
    "# ------------------------------------- Habitat Quality Scores -----------------------\n",
    "habitat_quality_scores = pd.read_excel(updated_spreadsheet, \n",
    "                   'HabitatQuality_Scores', skiprows=[0] )"
   ]
  },
  {
   "cell_type": "code",
   "execution_count": null,
   "metadata": {},
   "outputs": [],
   "source": [
    "# ------------------------- Reach-level Life Stages Priority ------------------------------------\n",
    "life_stages_protection = pd.read_excel(updated_spreadsheet, \n",
    "                   'Life Stage_Scores')"
   ]
  },
  {
   "cell_type": "code",
   "execution_count": 11,
   "metadata": {},
   "outputs": [],
   "source": [
    "# ------------------------- Reach-level Life Stages Priority ------------------------------------\n",
    "reach_life_stages_Spring_Chinook = pd.read_excel(updated_spreadsheet, \n",
    "                   'Reaches Life Stage Spring Chino')\n",
    "reach_life_stages_Steelhead = pd.read_excel(updated_spreadsheet, \n",
    "                   'Reaches Life Stage Steelhead')"
   ]
  },
  {
   "cell_type": "code",
   "execution_count": 12,
   "metadata": {},
   "outputs": [],
   "source": [
    "reach_life_stages_Bull_Trout = pd.read_excel(updated_spreadsheet, \n",
    "                   'Reaches Life Stage Bull Trout')"
   ]
  },
  {
   "cell_type": "markdown",
   "metadata": {},
   "source": [
    "## =======================================================================\n",
    "#            Export Excels\n",
    "## ======================================================================="
   ]
  },
  {
   "cell_type": "code",
   "execution_count": 26,
   "metadata": {},
   "outputs": [],
   "source": [
    "output_location_x = output_location + 'habitat_quality_scores.xlsx'\n",
    "habitat_quality_scores.to_excel(output_location_x)"
   ]
  },
  {
   "cell_type": "code",
   "execution_count": 44,
   "metadata": {},
   "outputs": [],
   "source": [
    "output_location_x = output_location + 'life_stages_protection.xlsx'\n",
    "life_stages_protection.to_excel(output_location_x)"
   ]
  },
  {
   "cell_type": "code",
   "execution_count": 15,
   "metadata": {},
   "outputs": [],
   "source": [
    "output_location_x = output_location + 'reach_life_stages_Spring_Chinook.xlsx'\n",
    "reach_life_stages_Spring_Chinook.to_excel(output_location_x)\n",
    "\n",
    "output_location_x = output_location + 'reach_life_stages_Steelhead.xlsx'\n",
    "reach_life_stages_Steelhead.to_excel(output_location_x)\n",
    "\n",
    "output_location_x = output_location + 'reach_life_stages_Bull_Trout.xlsx'\n",
    "reach_life_stages_Bull_Trout.to_excel(output_location_x)"
   ]
  },
  {
   "cell_type": "code",
   "execution_count": null,
   "metadata": {},
   "outputs": [],
   "source": []
  },
  {
   "cell_type": "code",
   "execution_count": 43,
   "metadata": {},
   "outputs": [
    {
     "data": {
      "text/plain": [
       "array(['ReachName', 'Assessment Unit', 'Subbasin', 'Spring.Chinook.Reach',\n",
       "       'Steelhead.Reach', 'BullTrout.Reach',\n",
       "       'Number of Life Stages- SPCHN', 'Number of Life Stages- STL',\n",
       "       'Number of Life Stages- BT', 'AU Rank Sp CHN_Restoration',\n",
       "       'AU Rank STL_Restoration', 'AU Rank BT_Restoration',\n",
       "       'AU Rank Sp CHN_Protection', 'AU Rank STL_Protection',\n",
       "       'AU Rank BT_Protection', 'AU Adult Migration Priority- SPCHN',\n",
       "       'AU Adult Migration Priority- STL',\n",
       "       'AU Adult Migration Priority- BT', 'Adult Migration Reach? SPCHN',\n",
       "       'Adult Migration Reach? STL', 'Adult Migration Reach? BT',\n",
       "       'Flow- Summer Base Flow', 'HQ Percent',\n",
       "       'Protection_LS_Score_Adult Migration', 'Unnamed: 24',\n",
       "       'AU Holding Priority- SPCHN', 'AU Holding Priority- STL',\n",
       "       'AU Holding Priority- BT', 'Holding Reach? SPCHN',\n",
       "       'Holding Reach? STL', 'Holding Reach? BT', 'Cover- Wood',\n",
       "       'Cover- Boulders', 'Cover- Undercut Banks',\n",
       "       'Flow- Summer Base Flow.1', 'Pool Quantity & Quality',\n",
       "       'Pools- Deep Pools', 'Temperature- Adult Holding', 'Harassment',\n",
       "       'Predators- Adults', 'HQ Pct', 'HQ Pct_CoreMetrics',\n",
       "       'HQ Score-ProtectionHolding', 'Unnamed: 43',\n",
       "       'AU Spawning Priority- SPCHN', 'AU Spawning Priority- STL',\n",
       "       'AU Spawning Priority- BT', 'Spawning Reach? SPCHN',\n",
       "       'Spawning Reach? STL', 'Spawning Reach? BT',\n",
       "       '% Fines/Embeddedness', 'Coarse Substrate',\n",
       "       'Off-Channel- Side-Channels', 'Flow- Scour',\n",
       "       'Flow- Summer Base Flow.2', 'Icing', 'Temperature- Adult Spawning',\n",
       "       'Brook Trout', 'Harassment.1', 'Contaminants', 'Superimposition',\n",
       "       'HQ_Pct_SPCHN', 'HQ_Pct_STL', 'HQ_Pct_BT', 'HQ_Pct_CoreMetrics',\n",
       "       'HQ_Pct_CoreMetrics_BT', 'HQ Score_Protection_Spawning',\n",
       "       'HQ Score_Protection_Spawning_BT', 'Unnamed: 68',\n",
       "       'AU Fry Priority- SPCHN', 'AU Fry Priority- STL',\n",
       "       'Fry Reach? SPCHN', 'Fry Reach? STL', 'Cover- Wood.1',\n",
       "       'Off-Channel- Floodplain', 'Off-Channel- Side-Channels.1',\n",
       "       'Coarse Substrate.1', 'Entrainment/Stranding', 'HQ_Pct',\n",
       "       'HQ Score_Protection_Fry', 'Unnamed: 80',\n",
       "       'AU Natal Rearing Priority- BT', 'Natal Rearing Reach?',\n",
       "       'Cover- Wood.2', 'Off-Channel- Floodplain.1',\n",
       "       'Off-Channel- Side-Channels.2', 'Coarse Substrate.2',\n",
       "       'Cover- Undercut Banks.1', 'Temperature- Rearing', 'Brook Trout.1',\n",
       "       'HQ_Pct.1', 'HQ_Pct_CoreMetrics.1', 'HQ Score_Protection_Fry_BT',\n",
       "       'Unnamed: 93', 'AU Summer Rearing Priority- SPCHN',\n",
       "       'AU Summer Rearing Priority- STL', 'Summer Rearing Reach? SPCHN',\n",
       "       'Summer Rearing Reach? STL', 'Cover- Wood.3',\n",
       "       'Cover- Undercut Banks.2', 'Cover- Boulders.1',\n",
       "       '% Fines/Embeddedness.1', 'Coarse Substrate.3',\n",
       "       'Pool Quantity & Quality.1', 'Off-Channel- Floodplain.2',\n",
       "       'Off-Channel- Side-Channels.3', 'Flow- Summer Base Flow.3',\n",
       "       'Temperature- Rearing.1', 'Contaminants.1',\n",
       "       'Entrainment/Stranding.1', 'Food- Food Web Resources',\n",
       "       'Predators- Juveniles', 'HQ_Pct.2', 'HQ_Pct_CoreMetrics.2',\n",
       "       'HQ Score-Protection-Summer Rearing', 'Unnamed: 115',\n",
       "       'AU Winter Rearing Priority- SPCHN',\n",
       "       'AU Winter Rearing Priority- STL', 'Winter Rearing Reach? SPCHN',\n",
       "       'Winter Rearing Reach? STL', 'Cover- Wood.4', 'Cover- Boulders.2',\n",
       "       '% Fines/Embeddedness.2', 'Coarse Substrate.4',\n",
       "       'Off-Channel- Side-Channels.4', 'Flow- Scour.1', 'Icing.1',\n",
       "       'HQ_Pct.3', 'HQ_Pct_CoreMetrics.3',\n",
       "       'HQ Score-Protection-Winter Rearing', 'Unnamed: 130',\n",
       "       'AU Subadult Rearing Priority- BT', 'Subadult Rearing Reach?',\n",
       "       'Cover- Wood.5', 'Cover- Undercut banks', 'Coarse Substrate.5',\n",
       "       'Off-Channel- Floodplain.3', 'Off-Channel- Side-Channels.5',\n",
       "       'Pool Quantity & Quality.2', 'Flow- Summer Base Flow.4',\n",
       "       'Temperature- Rearing.2', 'Contaminants.2',\n",
       "       'Predators- Juveniles.1', 'Brook Trout.2', 'HQ_Pct.4',\n",
       "       'HQ_Pct_CoreMetrics.4', 'HQ Score-Protection-Winter Rearing_BT',\n",
       "       'Unnamed: 147', 'AU Smolt Priority- SPCHN',\n",
       "       'AU Smolt Priority- STL', 'Smolt Migration? SPCHN',\n",
       "       'Smolt Migration Reach? STL', 'Temperature- Rearing.3',\n",
       "       'Predators- Juveniles.2', 'HQ Score',\n",
       "       'HQ Score-Protection-Smolt Outmigration', 'Unnamed: 156',\n",
       "       'AU ANS Priority- BT', 'ANS Reach?', 'Pool Quantity & Quality.3',\n",
       "       'Cover- Boulders.3', 'Flow- Summer Base Flow.5',\n",
       "       'Temperature- Adult Holding.1', 'Food- Food Web Resources.1',\n",
       "       'Contaminants.3', 'Harassment.2', 'HQ Pct.1',\n",
       "       'HQ Pct_CoreMetrics.1', 'HQ Score-ProtectionHolding_BT'],\n",
       "      dtype=object)"
      ]
     },
     "execution_count": 43,
     "metadata": {},
     "output_type": "execute_result"
    }
   ],
   "source": [
    "life_stages_protection.columns.values"
   ]
  },
  {
   "cell_type": "code",
   "execution_count": null,
   "metadata": {},
   "outputs": [],
   "source": []
  }
 ],
 "metadata": {
  "kernelspec": {
   "display_name": "Python 3",
   "language": "python",
   "name": "python3"
  },
  "language_info": {
   "codemirror_mode": {
    "name": "ipython",
    "version": 3
   },
   "file_extension": ".py",
   "mimetype": "text/x-python",
   "name": "python",
   "nbconvert_exporter": "python",
   "pygments_lexer": "ipython3",
   "version": "3.8.3"
  }
 },
 "nbformat": 4,
 "nbformat_minor": 4
}
