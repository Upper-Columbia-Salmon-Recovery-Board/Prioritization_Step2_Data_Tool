{
 "cells": [
  {
   "cell_type": "markdown",
   "metadata": {},
   "source": [
    "# Script to Output Up-to-Date MASTER_Step2_HabitatAnalysis PROTECTION to individual tabs\n",
    "## Author: Ryan Niemeyer, Upper Columbia Salmon Recovery Board\n",
    "### For more information, see https://www.ucsrb.org/prioritization/"
   ]
  },
  {
   "cell_type": "code",
   "execution_count": 16,
   "metadata": {},
   "outputs": [],
   "source": [
    "# ----------------------- MASTER prioritizatoin tool excel --------------\n",
    "updated_spreadsheet = 'Y:/UCRTT/Prioritization/Step 2/Habitat Evaluation/MASTER_Step2_HabitatAnalysis_12102020.xlsx'"
   ]
  },
  {
   "cell_type": "code",
   "execution_count": 17,
   "metadata": {},
   "outputs": [],
   "source": [
    "# ------------------- Output location for scripts --------------------\n",
    "output_location = 'C:/Users/Ryan/Documents/GitHub/Prioritization_Step2_Data_Tool/Protection/'\n",
    "# output_location = 'C:/Users/Ryan/Documents/2_Habitat_Prioritzation/Prioritization/Python_Notebooks/UCSRB_Prioritization_Python_Scripts/'"
   ]
  },
  {
   "cell_type": "markdown",
   "metadata": {},
   "source": [
    "# -------------------------------------------------------------------------------------- \n",
    "# NOTE - will need to go the following directory and do the \"git push\" to push updates to GitHub (so that the data on GitHub are up to date) Y:\\Ryan\\2_Habitat_Prioritization\\Step2\\Python_Data_Tool  \n",
    "# --------------------------------------------------------------------------------------"
   ]
  },
  {
   "cell_type": "code",
   "execution_count": null,
   "metadata": {},
   "outputs": [],
   "source": []
  },
  {
   "cell_type": "markdown",
   "metadata": {},
   "source": [
    "## ------------------------------------ Upload Python Libraries -----------------------------------"
   ]
  },
  {
   "cell_type": "code",
   "execution_count": 7,
   "metadata": {},
   "outputs": [],
   "source": [
    "import pandas as pd\n",
    "import numpy as np"
   ]
  },
  {
   "cell_type": "markdown",
   "metadata": {},
   "source": [
    "## =======================================================================\n",
    "#             Read in Excel\n",
    "## ======================================================================="
   ]
  },
  {
   "cell_type": "code",
   "execution_count": 20,
   "metadata": {},
   "outputs": [],
   "source": [
    "# ------------------------------------- Habitat Quality Scores -----------------------\n",
    "habitat_quality_scores = pd.read_excel(updated_spreadsheet, \n",
    "                   'HabitatQuality_Scores', skiprows=[0] )"
   ]
  },
  {
   "cell_type": "code",
   "execution_count": 45,
   "metadata": {},
   "outputs": [],
   "source": [
    "# ------------------------- Reach-level Life Stages Priority ------------------------------------\n",
    "life_stages_protection = pd.read_excel(updated_spreadsheet, \n",
    "                   'Life Stage_Scores')"
   ]
  },
  {
   "cell_type": "code",
   "execution_count": 11,
   "metadata": {},
   "outputs": [],
   "source": [
    "# ------------------------- Reach-level Life Stages Priority ------------------------------------\n",
    "reach_life_stages_Spring_Chinook = pd.read_excel(updated_spreadsheet, \n",
    "                   'Reaches Life Stage Spring Chino')\n",
    "reach_life_stages_Steelhead = pd.read_excel(updated_spreadsheet, \n",
    "                   'Reaches Life Stage Steelhead')"
   ]
  },
  {
   "cell_type": "code",
   "execution_count": 12,
   "metadata": {},
   "outputs": [],
   "source": [
    "reach_life_stages_Bull_Trout = pd.read_excel(updated_spreadsheet, \n",
    "                   'Reaches Life Stage Bull Trout')"
   ]
  },
  {
   "cell_type": "markdown",
   "metadata": {},
   "source": [
    "## =======================================================================\n",
    "#            Export Excels\n",
    "## ======================================================================="
   ]
  },
  {
   "cell_type": "code",
   "execution_count": 26,
   "metadata": {},
   "outputs": [],
   "source": [
    "output_location_x = output_location + 'habitat_quality_scores.xlsx'\n",
    "habitat_quality_scores.to_excel(output_location_x)"
   ]
  },
  {
   "cell_type": "code",
   "execution_count": 46,
   "metadata": {},
   "outputs": [],
   "source": [
    "output_location_x = output_location + 'life_stages_protection.xlsx'\n",
    "life_stages_protection.to_excel(output_location_x)"
   ]
  },
  {
   "cell_type": "code",
   "execution_count": 15,
   "metadata": {},
   "outputs": [],
   "source": [
    "output_location_x = output_location + 'reach_life_stages_Spring_Chinook.xlsx'\n",
    "reach_life_stages_Spring_Chinook.to_excel(output_location_x)\n",
    "\n",
    "output_location_x = output_location + 'reach_life_stages_Steelhead.xlsx'\n",
    "reach_life_stages_Steelhead.to_excel(output_location_x)\n",
    "\n",
    "output_location_x = output_location + 'reach_life_stages_Bull_Trout.xlsx'\n",
    "reach_life_stages_Bull_Trout.to_excel(output_location_x)"
   ]
  },
  {
   "cell_type": "code",
   "execution_count": 47,
   "metadata": {},
   "outputs": [
    {
     "data": {
      "text/html": [
       "<div>\n",
       "<style scoped>\n",
       "    .dataframe tbody tr th:only-of-type {\n",
       "        vertical-align: middle;\n",
       "    }\n",
       "\n",
       "    .dataframe tbody tr th {\n",
       "        vertical-align: top;\n",
       "    }\n",
       "\n",
       "    .dataframe thead th {\n",
       "        text-align: right;\n",
       "    }\n",
       "</style>\n",
       "<table border=\"1\" class=\"dataframe\">\n",
       "  <thead>\n",
       "    <tr style=\"text-align: right;\">\n",
       "      <th></th>\n",
       "      <th>Unnamed: 0</th>\n",
       "      <th>Unnamed: 1</th>\n",
       "      <th>Unnamed: 2</th>\n",
       "      <th>Unnamed: 3</th>\n",
       "      <th>Unnamed: 4</th>\n",
       "      <th>Unnamed: 5</th>\n",
       "      <th>Unnamed: 6</th>\n",
       "      <th>Unnamed: 7</th>\n",
       "      <th>Unnamed: 8</th>\n",
       "      <th>Unnamed: 9</th>\n",
       "      <th>...</th>\n",
       "      <th>Unnamed: 159</th>\n",
       "      <th>Unnamed: 160</th>\n",
       "      <th>Unnamed: 161</th>\n",
       "      <th>Unnamed: 162</th>\n",
       "      <th>Unnamed: 163</th>\n",
       "      <th>Unnamed: 164</th>\n",
       "      <th>Unnamed: 165</th>\n",
       "      <th>Unnamed: 166</th>\n",
       "      <th>Unnamed: 167</th>\n",
       "      <th>Unnamed: 168</th>\n",
       "    </tr>\n",
       "  </thead>\n",
       "  <tbody>\n",
       "    <tr>\n",
       "      <th>0</th>\n",
       "      <td>NaN</td>\n",
       "      <td>NaN</td>\n",
       "      <td>NaN</td>\n",
       "      <td>NaN</td>\n",
       "      <td>NaN</td>\n",
       "      <td>NaN</td>\n",
       "      <td>NaN</td>\n",
       "      <td>NaN</td>\n",
       "      <td>NaN</td>\n",
       "      <td>NaN</td>\n",
       "      <td>...</td>\n",
       "      <td>NaN</td>\n",
       "      <td>NaN</td>\n",
       "      <td>NaN</td>\n",
       "      <td>NaN</td>\n",
       "      <td>NaN</td>\n",
       "      <td>NaN</td>\n",
       "      <td>NaN</td>\n",
       "      <td>NaN</td>\n",
       "      <td>NaN</td>\n",
       "      <td>NaN</td>\n",
       "    </tr>\n",
       "    <tr>\n",
       "      <th>1</th>\n",
       "      <td>NaN</td>\n",
       "      <td>NaN</td>\n",
       "      <td>NaN</td>\n",
       "      <td>Filter \"yes\"</td>\n",
       "      <td>Filter \"yes\"</td>\n",
       "      <td>Filter \"yes\"</td>\n",
       "      <td>Filter &gt;3</td>\n",
       "      <td>Filter &gt;3</td>\n",
       "      <td>Filter &gt;3</td>\n",
       "      <td>Filter 1</td>\n",
       "      <td>...</td>\n",
       "      <td>NaN</td>\n",
       "      <td>NaN</td>\n",
       "      <td>NaN</td>\n",
       "      <td>NaN</td>\n",
       "      <td>NaN</td>\n",
       "      <td>NaN</td>\n",
       "      <td>NaN</td>\n",
       "      <td>NaN</td>\n",
       "      <td>NaN</td>\n",
       "      <td>NaN</td>\n",
       "    </tr>\n",
       "    <tr>\n",
       "      <th>2</th>\n",
       "      <td>ReachName</td>\n",
       "      <td>Assessment Unit</td>\n",
       "      <td>Subbasin</td>\n",
       "      <td>Spring.Chinook.Reach</td>\n",
       "      <td>Steelhead.Reach</td>\n",
       "      <td>BullTrout.Reach</td>\n",
       "      <td>Number of Life Stages- SPCHN</td>\n",
       "      <td>Number of Life Stages- STL</td>\n",
       "      <td>Number of Life Stages- BT</td>\n",
       "      <td>AU Rank Sp CHN_Restoration</td>\n",
       "      <td>...</td>\n",
       "      <td>Pool Quantity &amp; Quality</td>\n",
       "      <td>Cover- Boulders</td>\n",
       "      <td>Flow- Summer Base Flow</td>\n",
       "      <td>Temperature- Adult Holding</td>\n",
       "      <td>Food- Food Web Resources</td>\n",
       "      <td>Contaminants</td>\n",
       "      <td>Harassment</td>\n",
       "      <td>HQ Pct</td>\n",
       "      <td>HQ Pct_CoreMetrics</td>\n",
       "      <td>HQ Score-ProtectionHolding_BT</td>\n",
       "    </tr>\n",
       "    <tr>\n",
       "      <th>3</th>\n",
       "      <td>Aeneas Creek 01</td>\n",
       "      <td>Aeneas Creek Okanogan</td>\n",
       "      <td>Okanogan</td>\n",
       "      <td>no</td>\n",
       "      <td>yes</td>\n",
       "      <td>no</td>\n",
       "      <td>0</td>\n",
       "      <td>6</td>\n",
       "      <td>NaN</td>\n",
       "      <td>NaN</td>\n",
       "      <td>...</td>\n",
       "      <td>NaN</td>\n",
       "      <td>NaN</td>\n",
       "      <td>1</td>\n",
       "      <td>1</td>\n",
       "      <td>5</td>\n",
       "      <td>5</td>\n",
       "      <td>5</td>\n",
       "      <td>NaN</td>\n",
       "      <td>NaN</td>\n",
       "      <td>NaN</td>\n",
       "    </tr>\n",
       "    <tr>\n",
       "      <th>4</th>\n",
       "      <td>Aeneas Creek 02</td>\n",
       "      <td>Aeneas Creek Okanogan</td>\n",
       "      <td>Okanogan</td>\n",
       "      <td>no</td>\n",
       "      <td>yes</td>\n",
       "      <td>no</td>\n",
       "      <td>0</td>\n",
       "      <td>6</td>\n",
       "      <td>NaN</td>\n",
       "      <td>NaN</td>\n",
       "      <td>...</td>\n",
       "      <td>NaN</td>\n",
       "      <td>NaN</td>\n",
       "      <td>1</td>\n",
       "      <td>1</td>\n",
       "      <td>5</td>\n",
       "      <td>5</td>\n",
       "      <td>5</td>\n",
       "      <td>NaN</td>\n",
       "      <td>NaN</td>\n",
       "      <td>NaN</td>\n",
       "    </tr>\n",
       "  </tbody>\n",
       "</table>\n",
       "<p>5 rows × 169 columns</p>\n",
       "</div>"
      ],
      "text/plain": [
       "        Unnamed: 0             Unnamed: 1 Unnamed: 2            Unnamed: 3  \\\n",
       "0              NaN                    NaN        NaN                   NaN   \n",
       "1              NaN                    NaN        NaN          Filter \"yes\"   \n",
       "2        ReachName        Assessment Unit   Subbasin  Spring.Chinook.Reach   \n",
       "3  Aeneas Creek 01  Aeneas Creek Okanogan   Okanogan                    no   \n",
       "4  Aeneas Creek 02  Aeneas Creek Okanogan   Okanogan                    no   \n",
       "\n",
       "        Unnamed: 4       Unnamed: 5                    Unnamed: 6  \\\n",
       "0              NaN              NaN                           NaN   \n",
       "1     Filter \"yes\"     Filter \"yes\"                     Filter >3   \n",
       "2  Steelhead.Reach  BullTrout.Reach  Number of Life Stages- SPCHN   \n",
       "3              yes               no                             0   \n",
       "4              yes               no                             0   \n",
       "\n",
       "                   Unnamed: 7                 Unnamed: 8  \\\n",
       "0                         NaN                        NaN   \n",
       "1                   Filter >3                  Filter >3   \n",
       "2  Number of Life Stages- STL  Number of Life Stages- BT   \n",
       "3                           6                        NaN   \n",
       "4                           6                        NaN   \n",
       "\n",
       "                   Unnamed: 9  ...             Unnamed: 159     Unnamed: 160  \\\n",
       "0                         NaN  ...                      NaN              NaN   \n",
       "1                    Filter 1  ...                      NaN              NaN   \n",
       "2  AU Rank Sp CHN_Restoration  ...  Pool Quantity & Quality  Cover- Boulders   \n",
       "3                         NaN  ...                      NaN              NaN   \n",
       "4                         NaN  ...                      NaN              NaN   \n",
       "\n",
       "             Unnamed: 161                Unnamed: 162  \\\n",
       "0                     NaN                         NaN   \n",
       "1                     NaN                         NaN   \n",
       "2  Flow- Summer Base Flow  Temperature- Adult Holding   \n",
       "3                       1                           1   \n",
       "4                       1                           1   \n",
       "\n",
       "               Unnamed: 163  Unnamed: 164 Unnamed: 165 Unnamed: 166  \\\n",
       "0                       NaN           NaN          NaN          NaN   \n",
       "1                       NaN           NaN          NaN          NaN   \n",
       "2  Food- Food Web Resources  Contaminants   Harassment       HQ Pct   \n",
       "3                         5             5            5          NaN   \n",
       "4                         5             5            5          NaN   \n",
       "\n",
       "         Unnamed: 167                   Unnamed: 168  \n",
       "0                 NaN                            NaN  \n",
       "1                 NaN                            NaN  \n",
       "2  HQ Pct_CoreMetrics  HQ Score-ProtectionHolding_BT  \n",
       "3                 NaN                            NaN  \n",
       "4                 NaN                            NaN  \n",
       "\n",
       "[5 rows x 169 columns]"
      ]
     },
     "execution_count": 47,
     "metadata": {},
     "output_type": "execute_result"
    }
   ],
   "source": [
    "life_stages_protection.head()"
   ]
  },
  {
   "cell_type": "code",
   "execution_count": null,
   "metadata": {},
   "outputs": [],
   "source": []
  },
  {
   "cell_type": "code",
   "execution_count": null,
   "metadata": {},
   "outputs": [],
   "source": []
  }
 ],
 "metadata": {
  "kernelspec": {
   "display_name": "Python 3",
   "language": "python",
   "name": "python3"
  },
  "language_info": {
   "codemirror_mode": {
    "name": "ipython",
    "version": 3
   },
   "file_extension": ".py",
   "mimetype": "text/x-python",
   "name": "python",
   "nbconvert_exporter": "python",
   "pygments_lexer": "ipython3",
   "version": "3.8.3"
  }
 },
 "nbformat": 4,
 "nbformat_minor": 4
}
