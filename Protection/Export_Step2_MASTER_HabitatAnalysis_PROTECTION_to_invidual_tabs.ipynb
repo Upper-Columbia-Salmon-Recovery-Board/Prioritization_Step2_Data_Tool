{
 "cells": [
  {
   "cell_type": "markdown",
   "metadata": {},
   "source": [
    "# Script to Output Up-to-Date MASTER_Step2_HabitatAnalysis PROTECTION to individual tabs\n",
    "## Author: Ryan Niemeyer, Upper Columbia Salmon Recovery Board\n",
    "### For more information, see https://www.ucsrb.org/prioritization/"
   ]
  },
  {
   "cell_type": "code",
   "execution_count": 16,
   "metadata": {},
   "outputs": [],
   "source": [
    "# ----------------------- MASTER prioritizatoin tool excel --------------\n",
    "updated_spreadsheet = 'Y:/UCRTT/Prioritization/Step 2/Habitat Evaluation/MASTER_Step2_HabitatAnalysis_12102020.xlsx'"
   ]
  },
  {
   "cell_type": "code",
   "execution_count": 17,
   "metadata": {},
   "outputs": [],
   "source": [
    "# ------------------- Output location for scripts --------------------\n",
    "output_location = 'C:/Users/Ryan/Documents/GitHub/Prioritization_Step2_Data_Tool/Protection/'\n",
    "# output_location = 'C:/Users/Ryan/Documents/2_Habitat_Prioritzation/Prioritization/Python_Notebooks/UCSRB_Prioritization_Python_Scripts/'"
   ]
  },
  {
   "cell_type": "markdown",
   "metadata": {},
   "source": [
    "# -------------------------------------------------------------------------------------- \n",
    "# NOTE - will need to go the following directory and do the \"git push\" to push updates to GitHub (so that the data on GitHub are up to date) Y:\\Ryan\\2_Habitat_Prioritization\\Step2\\Python_Data_Tool  \n",
    "# --------------------------------------------------------------------------------------"
   ]
  },
  {
   "cell_type": "code",
   "execution_count": null,
   "metadata": {},
   "outputs": [],
   "source": []
  },
  {
   "cell_type": "markdown",
   "metadata": {},
   "source": [
    "## ------------------------------------ Upload Python Libraries -----------------------------------"
   ]
  },
  {
   "cell_type": "code",
   "execution_count": 7,
   "metadata": {},
   "outputs": [],
   "source": [
    "import pandas as pd\n",
    "import numpy as np"
   ]
  },
  {
   "cell_type": "markdown",
   "metadata": {},
   "source": [
    "## =======================================================================\n",
    "#             Read in Excel\n",
    "## ======================================================================="
   ]
  },
  {
   "cell_type": "code",
   "execution_count": 20,
   "metadata": {},
   "outputs": [],
   "source": [
    "# ------------------------------------- Habitat Quality Scores -----------------------\n",
    "habitat_quality_scores = pd.read_excel(updated_spreadsheet, \n",
    "                   'HabitatQuality_Scores', skiprows=[0] )"
   ]
  },
  {
   "cell_type": "code",
   "execution_count": 10,
   "metadata": {},
   "outputs": [],
   "source": [
    "# ------------------------- Reach-level Life Stages Priority ------------------------------------\n",
    "life_stages_protection = pd.read_excel(updated_spreadsheet, \n",
    "                   'Life Stage_Scores')"
   ]
  },
  {
   "cell_type": "code",
   "execution_count": 11,
   "metadata": {},
   "outputs": [],
   "source": [
    "# ------------------------- Reach-level Life Stages Priority ------------------------------------\n",
    "reach_life_stages_Spring_Chinook = pd.read_excel(updated_spreadsheet, \n",
    "                   'Reaches Life Stage Spring Chino')\n",
    "reach_life_stages_Steelhead = pd.read_excel(updated_spreadsheet, \n",
    "                   'Reaches Life Stage Steelhead')"
   ]
  },
  {
   "cell_type": "code",
   "execution_count": 12,
   "metadata": {},
   "outputs": [],
   "source": [
    "reach_life_stages_Bull_Trout = pd.read_excel(updated_spreadsheet, \n",
    "                   'Reaches Life Stage Bull Trout')"
   ]
  },
  {
   "cell_type": "markdown",
   "metadata": {},
   "source": [
    "## =======================================================================\n",
    "#            Export Excels\n",
    "## ======================================================================="
   ]
  },
  {
   "cell_type": "code",
   "execution_count": 23,
   "metadata": {},
   "outputs": [],
   "source": [
    "output_location_x = output_location + 'habitat_quality_scores.xlsx'\n",
    "habitat_quality_scores.to_excel(output_location_x)"
   ]
  },
  {
   "cell_type": "code",
   "execution_count": 14,
   "metadata": {},
   "outputs": [],
   "source": [
    "output_location_x = output_location + 'life_stages_protection.xlsx'\n",
    "life_stages_protection.to_excel(output_location_x)"
   ]
  },
  {
   "cell_type": "code",
   "execution_count": 15,
   "metadata": {},
   "outputs": [],
   "source": [
    "output_location_x = output_location + 'reach_life_stages_Spring_Chinook.xlsx'\n",
    "reach_life_stages_Spring_Chinook.to_excel(output_location_x)\n",
    "\n",
    "output_location_x = output_location + 'reach_life_stages_Steelhead.xlsx'\n",
    "reach_life_stages_Steelhead.to_excel(output_location_x)\n",
    "\n",
    "output_location_x = output_location + 'reach_life_stages_Bull_Trout.xlsx'\n",
    "reach_life_stages_Bull_Trout.to_excel(output_location_x)"
   ]
  },
  {
   "cell_type": "code",
   "execution_count": null,
   "metadata": {},
   "outputs": [],
   "source": []
  },
  {
   "cell_type": "code",
   "execution_count": null,
   "metadata": {},
   "outputs": [],
   "source": []
  },
  {
   "cell_type": "code",
   "execution_count": null,
   "metadata": {},
   "outputs": [],
   "source": []
  }
 ],
 "metadata": {
  "kernelspec": {
   "display_name": "Python 3",
   "language": "python",
   "name": "python3"
  },
  "language_info": {
   "codemirror_mode": {
    "name": "ipython",
    "version": 3
   },
   "file_extension": ".py",
   "mimetype": "text/x-python",
   "name": "python",
   "nbconvert_exporter": "python",
   "pygments_lexer": "ipython3",
   "version": "3.8.3"
  }
 },
 "nbformat": 4,
 "nbformat_minor": 4
}
